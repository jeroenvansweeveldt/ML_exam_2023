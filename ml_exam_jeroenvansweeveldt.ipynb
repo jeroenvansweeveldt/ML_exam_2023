{
  "cells": [
    {
      "cell_type": "markdown",
      "metadata": {
        "id": "VyWFQyvcVql2"
      },
      "source": [
        "# Machine learning: exam assignment\n",
        "### Predicting Marvel vs DC\n",
        "\n",
        "#### Student: Jeroen Van Sweeveldt"
      ]
    },
    {
      "cell_type": "markdown",
      "metadata": {
        "id": "HoZr58mnVql3"
      },
      "source": [
        "### 1.1 Data exploration"
      ]
    },
    {
      "cell_type": "code",
      "source": [
        "!pip install import-ipynb"
      ],
      "metadata": {
        "colab": {
          "base_uri": "https://localhost:8080/"
        },
        "id": "FC9VtRazV405",
        "outputId": "b910c278-2dc9-4a90-a48d-ff90e9617459"
      },
      "execution_count": 1,
      "outputs": [
        {
          "output_type": "stream",
          "name": "stdout",
          "text": [
            "Looking in indexes: https://pypi.org/simple, https://us-python.pkg.dev/colab-wheels/public/simple/\n",
            "Collecting import-ipynb\n",
            "  Downloading import_ipynb-0.1.4-py3-none-any.whl (4.1 kB)\n",
            "Requirement already satisfied: nbformat in /usr/local/lib/python3.8/dist-packages (from import-ipynb) (5.7.1)\n",
            "Requirement already satisfied: IPython in /usr/local/lib/python3.8/dist-packages (from import-ipynb) (7.9.0)\n",
            "Requirement already satisfied: decorator in /usr/local/lib/python3.8/dist-packages (from IPython->import-ipynb) (4.4.2)\n",
            "Requirement already satisfied: pickleshare in /usr/local/lib/python3.8/dist-packages (from IPython->import-ipynb) (0.7.5)\n",
            "Collecting jedi>=0.10\n",
            "  Downloading jedi-0.18.2-py2.py3-none-any.whl (1.6 MB)\n",
            "\u001b[2K     \u001b[90m━━━━━━━━━━━━━━━━━━━━━━━━━━━━━━━━━━━━━━━━\u001b[0m \u001b[32m1.6/1.6 MB\u001b[0m \u001b[31m19.3 MB/s\u001b[0m eta \u001b[36m0:00:00\u001b[0m\n",
            "\u001b[?25hRequirement already satisfied: traitlets>=4.2 in /usr/local/lib/python3.8/dist-packages (from IPython->import-ipynb) (5.7.1)\n",
            "Requirement already satisfied: setuptools>=18.5 in /usr/local/lib/python3.8/dist-packages (from IPython->import-ipynb) (57.4.0)\n",
            "Requirement already satisfied: pexpect in /usr/local/lib/python3.8/dist-packages (from IPython->import-ipynb) (4.8.0)\n",
            "Requirement already satisfied: pygments in /usr/local/lib/python3.8/dist-packages (from IPython->import-ipynb) (2.6.1)\n",
            "Requirement already satisfied: backcall in /usr/local/lib/python3.8/dist-packages (from IPython->import-ipynb) (0.2.0)\n",
            "Requirement already satisfied: prompt-toolkit<2.1.0,>=2.0.0 in /usr/local/lib/python3.8/dist-packages (from IPython->import-ipynb) (2.0.10)\n",
            "Requirement already satisfied: jsonschema>=2.6 in /usr/local/lib/python3.8/dist-packages (from nbformat->import-ipynb) (4.3.3)\n",
            "Requirement already satisfied: fastjsonschema in /usr/local/lib/python3.8/dist-packages (from nbformat->import-ipynb) (2.16.2)\n",
            "Requirement already satisfied: jupyter-core in /usr/local/lib/python3.8/dist-packages (from nbformat->import-ipynb) (5.1.3)\n",
            "Requirement already satisfied: parso<0.9.0,>=0.8.0 in /usr/local/lib/python3.8/dist-packages (from jedi>=0.10->IPython->import-ipynb) (0.8.3)\n",
            "Requirement already satisfied: pyrsistent!=0.17.0,!=0.17.1,!=0.17.2,>=0.14.0 in /usr/local/lib/python3.8/dist-packages (from jsonschema>=2.6->nbformat->import-ipynb) (0.19.3)\n",
            "Requirement already satisfied: attrs>=17.4.0 in /usr/local/lib/python3.8/dist-packages (from jsonschema>=2.6->nbformat->import-ipynb) (22.2.0)\n",
            "Requirement already satisfied: importlib-resources>=1.4.0 in /usr/local/lib/python3.8/dist-packages (from jsonschema>=2.6->nbformat->import-ipynb) (5.10.2)\n",
            "Requirement already satisfied: six>=1.9.0 in /usr/local/lib/python3.8/dist-packages (from prompt-toolkit<2.1.0,>=2.0.0->IPython->import-ipynb) (1.15.0)\n",
            "Requirement already satisfied: wcwidth in /usr/local/lib/python3.8/dist-packages (from prompt-toolkit<2.1.0,>=2.0.0->IPython->import-ipynb) (0.2.5)\n",
            "Requirement already satisfied: platformdirs>=2.5 in /usr/local/lib/python3.8/dist-packages (from jupyter-core->nbformat->import-ipynb) (2.6.2)\n",
            "Requirement already satisfied: ptyprocess>=0.5 in /usr/local/lib/python3.8/dist-packages (from pexpect->IPython->import-ipynb) (0.7.0)\n",
            "Requirement already satisfied: zipp>=3.1.0 in /usr/local/lib/python3.8/dist-packages (from importlib-resources>=1.4.0->jsonschema>=2.6->nbformat->import-ipynb) (3.11.0)\n",
            "Installing collected packages: jedi, import-ipynb\n",
            "Successfully installed import-ipynb-0.1.4 jedi-0.18.2\n"
          ]
        }
      ]
    },
    {
      "cell_type": "code",
      "source": [
        "from google.colab import drive\n",
        "drive.mount('/content/gdrive')\n",
        "%cd gdrive/MyDrive/University/machine_learning/exam"
      ],
      "metadata": {
        "colab": {
          "base_uri": "https://localhost:8080/"
        },
        "id": "7dS86K7kWAqM",
        "outputId": "f9117d2d-aaf7-4519-e67f-680a92721df0"
      },
      "execution_count": 2,
      "outputs": [
        {
          "output_type": "stream",
          "name": "stdout",
          "text": [
            "Mounted at /content/gdrive\n",
            "/content/gdrive/MyDrive/University/machine_learning/exam\n"
          ]
        }
      ]
    },
    {
      "cell_type": "code",
      "execution_count": 74,
      "metadata": {
        "colab": {
          "base_uri": "https://localhost:8080/"
        },
        "id": "P4jJBWH4Vql3",
        "outputId": "d4a9def2-415b-4a61-f6ff-6a37d5c6f1c8"
      },
      "outputs": [
        {
          "output_type": "stream",
          "name": "stdout",
          "text": [
            "1.0.2\n"
          ]
        }
      ],
      "source": [
        "# imports for data exploration\n",
        "import numpy as np\n",
        "import pandas as pd\n",
        "# imports for data visualisation\n",
        "import matplotlib.pyplot as plt\n",
        "%matplotlib inline\n",
        "import seaborn as sns\n",
        "# imports for nn utilities\n",
        "import import_ipynb\n",
        "import utils\n",
        "\n",
        "import random\n",
        "\n",
        "# imports for neural classifier\n",
        "import torch\n",
        "import torchtext\n",
        "from torch import nn\n",
        "from torch.nn.utils.rnn import pad_sequence, pack_padded_sequence\n",
        "\n",
        "torch.manual_seed(32)\n",
        "np.random.seed(32)\n",
        "\n",
        "import sklearn\n",
        "from sklearn.metrics import classification_report, accuracy_score, ConfusionMatrixDisplay\n",
        "print(sklearn.__version__)"
      ]
    },
    {
      "cell_type": "code",
      "execution_count": 190,
      "metadata": {
        "id": "P7EEag0-Vql4"
      },
      "outputs": [],
      "source": [
        "heroes = pd.read_csv(\"superheroes_nlp_dataset.csv\")"
      ]
    },
    {
      "cell_type": "code",
      "execution_count": null,
      "metadata": {
        "id": "kTpdcEy7Vql4",
        "outputId": "2775d934-e2da-4682-8103-e258125143ff"
      },
      "outputs": [
        {
          "data": {
            "text/html": [
              "<div>\n",
              "<style scoped>\n",
              "    .dataframe tbody tr th:only-of-type {\n",
              "        vertical-align: middle;\n",
              "    }\n",
              "\n",
              "    .dataframe tbody tr th {\n",
              "        vertical-align: top;\n",
              "    }\n",
              "\n",
              "    .dataframe thead th {\n",
              "        text-align: right;\n",
              "    }\n",
              "</style>\n",
              "<table border=\"1\" class=\"dataframe\">\n",
              "  <thead>\n",
              "    <tr style=\"text-align: right;\">\n",
              "      <th></th>\n",
              "      <th>name</th>\n",
              "      <th>real_name</th>\n",
              "      <th>full_name</th>\n",
              "      <th>overall_score</th>\n",
              "      <th>history_text</th>\n",
              "      <th>powers_text</th>\n",
              "      <th>intelligence_score</th>\n",
              "      <th>strength_score</th>\n",
              "      <th>speed_score</th>\n",
              "      <th>durability_score</th>\n",
              "      <th>...</th>\n",
              "      <th>has_flight</th>\n",
              "      <th>has_accelerated_healing</th>\n",
              "      <th>has_weapons_master</th>\n",
              "      <th>has_intelligence</th>\n",
              "      <th>has_reflexes</th>\n",
              "      <th>has_super_speed</th>\n",
              "      <th>has_durability</th>\n",
              "      <th>has_stamina</th>\n",
              "      <th>has_agility</th>\n",
              "      <th>has_super_strength</th>\n",
              "    </tr>\n",
              "  </thead>\n",
              "  <tbody>\n",
              "    <tr>\n",
              "      <th>908</th>\n",
              "      <td>Mohinder Suresh</td>\n",
              "      <td>Mohinder Suresh</td>\n",
              "      <td>Mohinder Suresh</td>\n",
              "      <td>-</td>\n",
              "      <td>Dr. Mohinder Suresh is a genetics professor fr...</td>\n",
              "      <td>Mohinder has acquired an ability by injecting...</td>\n",
              "      <td>0</td>\n",
              "      <td>0</td>\n",
              "      <td>0</td>\n",
              "      <td>0</td>\n",
              "      <td>...</td>\n",
              "      <td>0.0</td>\n",
              "      <td>0.0</td>\n",
              "      <td>0.0</td>\n",
              "      <td>0.0</td>\n",
              "      <td>0.0</td>\n",
              "      <td>0.0</td>\n",
              "      <td>0.0</td>\n",
              "      <td>0.0</td>\n",
              "      <td>0.0</td>\n",
              "      <td>1.0</td>\n",
              "    </tr>\n",
              "    <tr>\n",
              "      <th>598</th>\n",
              "      <td>Hinata Hyūga</td>\n",
              "      <td>Hinata Hyūga</td>\n",
              "      <td>NaN</td>\n",
              "      <td>9</td>\n",
              "      <td>Hinata Uzumakiis a kunoichi and the former hei...</td>\n",
              "      <td>NaN</td>\n",
              "      <td>90</td>\n",
              "      <td>10</td>\n",
              "      <td>70</td>\n",
              "      <td>60</td>\n",
              "      <td>...</td>\n",
              "      <td>0.0</td>\n",
              "      <td>0.0</td>\n",
              "      <td>1.0</td>\n",
              "      <td>0.0</td>\n",
              "      <td>0.0</td>\n",
              "      <td>0.0</td>\n",
              "      <td>0.0</td>\n",
              "      <td>1.0</td>\n",
              "      <td>1.0</td>\n",
              "      <td>0.0</td>\n",
              "    </tr>\n",
              "    <tr>\n",
              "      <th>204</th>\n",
              "      <td>Blizzard II</td>\n",
              "      <td>Donald Gill</td>\n",
              "      <td>Donald Gill</td>\n",
              "      <td>4</td>\n",
              "      <td>Donnie Gill was working as a minor hired thug ...</td>\n",
              "      <td>The Blizzard battlesuit contains cryogenic cir...</td>\n",
              "      <td>70</td>\n",
              "      <td>10</td>\n",
              "      <td>25</td>\n",
              "      <td>40</td>\n",
              "      <td>...</td>\n",
              "      <td>0.0</td>\n",
              "      <td>0.0</td>\n",
              "      <td>0.0</td>\n",
              "      <td>0.0</td>\n",
              "      <td>0.0</td>\n",
              "      <td>0.0</td>\n",
              "      <td>0.0</td>\n",
              "      <td>0.0</td>\n",
              "      <td>0.0</td>\n",
              "      <td>0.0</td>\n",
              "    </tr>\n",
              "    <tr>\n",
              "      <th>1071</th>\n",
              "      <td>Red Mist</td>\n",
              "      <td>Chris Genovese</td>\n",
              "      <td>Chris Genovese</td>\n",
              "      <td>3</td>\n",
              "      <td>The Red Mist was another teenager following th...</td>\n",
              "      <td>NaN</td>\n",
              "      <td>65</td>\n",
              "      <td>10</td>\n",
              "      <td>25</td>\n",
              "      <td>15</td>\n",
              "      <td>...</td>\n",
              "      <td>0.0</td>\n",
              "      <td>0.0</td>\n",
              "      <td>0.0</td>\n",
              "      <td>0.0</td>\n",
              "      <td>0.0</td>\n",
              "      <td>0.0</td>\n",
              "      <td>0.0</td>\n",
              "      <td>1.0</td>\n",
              "      <td>1.0</td>\n",
              "      <td>0.0</td>\n",
              "    </tr>\n",
              "    <tr>\n",
              "      <th>207</th>\n",
              "      <td>Blob (FOX)</td>\n",
              "      <td>Fred Dukes</td>\n",
              "      <td>Frederick J. Dukes</td>\n",
              "      <td>6</td>\n",
              "      <td>During the Vietnam War in mid-late 1973, Fred ...</td>\n",
              "      <td>Blob's body possesses a high degree of resista...</td>\n",
              "      <td>80</td>\n",
              "      <td>30</td>\n",
              "      <td>30</td>\n",
              "      <td>85</td>\n",
              "      <td>...</td>\n",
              "      <td>0.0</td>\n",
              "      <td>0.0</td>\n",
              "      <td>0.0</td>\n",
              "      <td>0.0</td>\n",
              "      <td>0.0</td>\n",
              "      <td>0.0</td>\n",
              "      <td>1.0</td>\n",
              "      <td>0.0</td>\n",
              "      <td>0.0</td>\n",
              "      <td>1.0</td>\n",
              "    </tr>\n",
              "    <tr>\n",
              "      <th>333</th>\n",
              "      <td>Curse</td>\n",
              "      <td>Phillip Krahn</td>\n",
              "      <td>Phillip Krahn</td>\n",
              "      <td>-</td>\n",
              "      <td>The Curse, born Phillip Krahn, has been fairly...</td>\n",
              "      <td>NaN</td>\n",
              "      <td>0</td>\n",
              "      <td>0</td>\n",
              "      <td>0</td>\n",
              "      <td>0</td>\n",
              "      <td>...</td>\n",
              "      <td>0.0</td>\n",
              "      <td>0.0</td>\n",
              "      <td>0.0</td>\n",
              "      <td>1.0</td>\n",
              "      <td>0.0</td>\n",
              "      <td>0.0</td>\n",
              "      <td>0.0</td>\n",
              "      <td>0.0</td>\n",
              "      <td>0.0</td>\n",
              "      <td>0.0</td>\n",
              "    </tr>\n",
              "    <tr>\n",
              "      <th>727</th>\n",
              "      <td>Kefla</td>\n",
              "      <td>Kale/Caulifla</td>\n",
              "      <td>Kale/Caulifla</td>\n",
              "      <td>17</td>\n",
              "      <td>With the Potara earrings given to Caulifla and...</td>\n",
              "      <td>According to Vados, Kefla's power consists of...</td>\n",
              "      <td>85</td>\n",
              "      <td>100</td>\n",
              "      <td>100</td>\n",
              "      <td>100</td>\n",
              "      <td>...</td>\n",
              "      <td>0.0</td>\n",
              "      <td>1.0</td>\n",
              "      <td>0.0</td>\n",
              "      <td>0.0</td>\n",
              "      <td>1.0</td>\n",
              "      <td>1.0</td>\n",
              "      <td>0.0</td>\n",
              "      <td>1.0</td>\n",
              "      <td>1.0</td>\n",
              "      <td>1.0</td>\n",
              "    </tr>\n",
              "    <tr>\n",
              "      <th>215</th>\n",
              "      <td>Blue Beetle (Injustice)</td>\n",
              "      <td>Jaime Reyes</td>\n",
              "      <td>Jaime Reyes</td>\n",
              "      <td>10</td>\n",
              "      <td>Jaime Reyes is the Blue Beetle, a superhero an...</td>\n",
              "      <td>With the Scarab Jaime can produce a suit of a...</td>\n",
              "      <td>75</td>\n",
              "      <td>35</td>\n",
              "      <td>90</td>\n",
              "      <td>85</td>\n",
              "      <td>...</td>\n",
              "      <td>1.0</td>\n",
              "      <td>1.0</td>\n",
              "      <td>0.0</td>\n",
              "      <td>0.0</td>\n",
              "      <td>1.0</td>\n",
              "      <td>1.0</td>\n",
              "      <td>1.0</td>\n",
              "      <td>1.0</td>\n",
              "      <td>1.0</td>\n",
              "      <td>1.0</td>\n",
              "    </tr>\n",
              "    <tr>\n",
              "      <th>192</th>\n",
              "      <td>Black Mamba</td>\n",
              "      <td>Tanya Sealy</td>\n",
              "      <td>Tanya Sealy</td>\n",
              "      <td>8</td>\n",
              "      <td>Tanya Sealy was born in Chicago. She was an ex...</td>\n",
              "      <td>Black Mamba possesses the ability to project ...</td>\n",
              "      <td>90</td>\n",
              "      <td>10</td>\n",
              "      <td>35</td>\n",
              "      <td>40</td>\n",
              "      <td>...</td>\n",
              "      <td>0.0</td>\n",
              "      <td>0.0</td>\n",
              "      <td>0.0</td>\n",
              "      <td>0.0</td>\n",
              "      <td>0.0</td>\n",
              "      <td>0.0</td>\n",
              "      <td>0.0</td>\n",
              "      <td>0.0</td>\n",
              "      <td>0.0</td>\n",
              "      <td>0.0</td>\n",
              "    </tr>\n",
              "    <tr>\n",
              "      <th>151</th>\n",
              "      <td>Ben 10</td>\n",
              "      <td>Benjamin Kirby Tennyson</td>\n",
              "      <td>Benjamin Kirby Tennyson</td>\n",
              "      <td>32</td>\n",
              "      <td>When ten year old Ben Tennyson, his cousin Gwe...</td>\n",
              "      <td>NaN</td>\n",
              "      <td>90</td>\n",
              "      <td>100</td>\n",
              "      <td>100</td>\n",
              "      <td>100</td>\n",
              "      <td>...</td>\n",
              "      <td>1.0</td>\n",
              "      <td>0.0</td>\n",
              "      <td>0.0</td>\n",
              "      <td>1.0</td>\n",
              "      <td>1.0</td>\n",
              "      <td>1.0</td>\n",
              "      <td>1.0</td>\n",
              "      <td>0.0</td>\n",
              "      <td>1.0</td>\n",
              "      <td>1.0</td>\n",
              "    </tr>\n",
              "  </tbody>\n",
              "</table>\n",
              "<p>10 rows × 81 columns</p>\n",
              "</div>"
            ],
            "text/plain": [
              "                         name                real_name  \\\n",
              "908           Mohinder Suresh          Mohinder Suresh   \n",
              "598              Hinata Hyūga             Hinata Hyūga   \n",
              "204               Blizzard II              Donald Gill   \n",
              "1071                 Red Mist           Chris Genovese   \n",
              "207                Blob (FOX)               Fred Dukes   \n",
              "333                     Curse            Phillip Krahn   \n",
              "727                     Kefla            Kale/Caulifla   \n",
              "215   Blue Beetle (Injustice)              Jaime Reyes   \n",
              "192               Black Mamba              Tanya Sealy   \n",
              "151                    Ben 10  Benjamin Kirby Tennyson   \n",
              "\n",
              "                    full_name overall_score  \\\n",
              "908           Mohinder Suresh             -   \n",
              "598                       NaN             9   \n",
              "204               Donald Gill             4   \n",
              "1071           Chris Genovese             3   \n",
              "207        Frederick J. Dukes             6   \n",
              "333             Phillip Krahn             -   \n",
              "727             Kale/Caulifla            17   \n",
              "215               Jaime Reyes            10   \n",
              "192               Tanya Sealy             8   \n",
              "151   Benjamin Kirby Tennyson            32   \n",
              "\n",
              "                                           history_text  \\\n",
              "908   Dr. Mohinder Suresh is a genetics professor fr...   \n",
              "598   Hinata Uzumakiis a kunoichi and the former hei...   \n",
              "204   Donnie Gill was working as a minor hired thug ...   \n",
              "1071  The Red Mist was another teenager following th...   \n",
              "207   During the Vietnam War in mid-late 1973, Fred ...   \n",
              "333   The Curse, born Phillip Krahn, has been fairly...   \n",
              "727   With the Potara earrings given to Caulifla and...   \n",
              "215   Jaime Reyes is the Blue Beetle, a superhero an...   \n",
              "192   Tanya Sealy was born in Chicago. She was an ex...   \n",
              "151   When ten year old Ben Tennyson, his cousin Gwe...   \n",
              "\n",
              "                                            powers_text  intelligence_score  \\\n",
              "908    Mohinder has acquired an ability by injecting...                   0   \n",
              "598                                                 NaN                  90   \n",
              "204   The Blizzard battlesuit contains cryogenic cir...                  70   \n",
              "1071                                                NaN                  65   \n",
              "207   Blob's body possesses a high degree of resista...                  80   \n",
              "333                                                 NaN                   0   \n",
              "727    According to Vados, Kefla's power consists of...                  85   \n",
              "215    With the Scarab Jaime can produce a suit of a...                  75   \n",
              "192    Black Mamba possesses the ability to project ...                  90   \n",
              "151                                                 NaN                  90   \n",
              "\n",
              "      strength_score  speed_score  durability_score  ...  has_flight  \\\n",
              "908                0            0                 0  ...         0.0   \n",
              "598               10           70                60  ...         0.0   \n",
              "204               10           25                40  ...         0.0   \n",
              "1071              10           25                15  ...         0.0   \n",
              "207               30           30                85  ...         0.0   \n",
              "333                0            0                 0  ...         0.0   \n",
              "727              100          100               100  ...         0.0   \n",
              "215               35           90                85  ...         1.0   \n",
              "192               10           35                40  ...         0.0   \n",
              "151              100          100               100  ...         1.0   \n",
              "\n",
              "      has_accelerated_healing has_weapons_master has_intelligence  \\\n",
              "908                       0.0                0.0              0.0   \n",
              "598                       0.0                1.0              0.0   \n",
              "204                       0.0                0.0              0.0   \n",
              "1071                      0.0                0.0              0.0   \n",
              "207                       0.0                0.0              0.0   \n",
              "333                       0.0                0.0              1.0   \n",
              "727                       1.0                0.0              0.0   \n",
              "215                       1.0                0.0              0.0   \n",
              "192                       0.0                0.0              0.0   \n",
              "151                       0.0                0.0              1.0   \n",
              "\n",
              "     has_reflexes has_super_speed has_durability has_stamina has_agility  \\\n",
              "908           0.0             0.0            0.0         0.0         0.0   \n",
              "598           0.0             0.0            0.0         1.0         1.0   \n",
              "204           0.0             0.0            0.0         0.0         0.0   \n",
              "1071          0.0             0.0            0.0         1.0         1.0   \n",
              "207           0.0             0.0            1.0         0.0         0.0   \n",
              "333           0.0             0.0            0.0         0.0         0.0   \n",
              "727           1.0             1.0            0.0         1.0         1.0   \n",
              "215           1.0             1.0            1.0         1.0         1.0   \n",
              "192           0.0             0.0            0.0         0.0         0.0   \n",
              "151           1.0             1.0            1.0         0.0         1.0   \n",
              "\n",
              "     has_super_strength  \n",
              "908                 1.0  \n",
              "598                 0.0  \n",
              "204                 0.0  \n",
              "1071                0.0  \n",
              "207                 1.0  \n",
              "333                 0.0  \n",
              "727                 1.0  \n",
              "215                 1.0  \n",
              "192                 0.0  \n",
              "151                 1.0  \n",
              "\n",
              "[10 rows x 81 columns]"
            ]
          },
          "execution_count": 9,
          "metadata": {},
          "output_type": "execute_result"
        }
      ],
      "source": [
        "heroes.sample(10)"
      ]
    },
    {
      "cell_type": "markdown",
      "metadata": {
        "id": "D-StEpEMVql4"
      },
      "source": [
        "The first thing we notice from the dataset is that the entries are not limited to the Marvel and DC universes: the first entry that comes up in the random sample is Mohinder Suresh, who is a character from the series \"Heroes\" (which had an amazing first season), and not tied to either one (talk about my geeky background coming in handy!).\n",
        "\n",
        "We will have to seek out possible entries in the dataset that provide more insight as to which each character belongs first."
      ]
    },
    {
      "cell_type": "code",
      "execution_count": 157,
      "metadata": {
        "colab": {
          "base_uri": "https://localhost:8080/"
        },
        "id": "h6ljl4D2Vql5",
        "outputId": "86d11fae-6af9-435b-ba77-644699e64772"
      },
      "outputs": [
        {
          "output_type": "stream",
          "name": "stdout",
          "text": [
            "<class 'pandas.core.frame.DataFrame'>\n",
            "RangeIndex: 1450 entries, 0 to 1449\n",
            "Data columns (total 81 columns):\n",
            " #   Column                            Non-Null Count  Dtype  \n",
            "---  ------                            --------------  -----  \n",
            " 0   name                              1448 non-null   object \n",
            " 1   real_name                         1301 non-null   object \n",
            " 2   full_name                         956 non-null    object \n",
            " 3   overall_score                     1450 non-null   object \n",
            " 4   history_text                      1360 non-null   object \n",
            " 5   powers_text                       1086 non-null   object \n",
            " 6   intelligence_score                1450 non-null   int64  \n",
            " 7   strength_score                    1450 non-null   int64  \n",
            " 8   speed_score                       1450 non-null   int64  \n",
            " 9   durability_score                  1450 non-null   int64  \n",
            " 10  power_score                       1450 non-null   int64  \n",
            " 11  combat_score                      1450 non-null   int64  \n",
            " 12  superpowers                       1450 non-null   object \n",
            " 13  alter_egos                        1450 non-null   object \n",
            " 14  aliases                           1450 non-null   object \n",
            " 15  place_of_birth                    788 non-null    object \n",
            " 16  first_appearance                  1247 non-null   object \n",
            " 17  creator                           1311 non-null   object \n",
            " 18  alignment                         1368 non-null   object \n",
            " 19  occupation                        1014 non-null   object \n",
            " 20  base                              878 non-null    object \n",
            " 21  teams                             1450 non-null   object \n",
            " 22  relatives                         901 non-null    object \n",
            " 23  gender                            1305 non-null   object \n",
            " 24  type_race                         1043 non-null   object \n",
            " 25  height                            1448 non-null   object \n",
            " 26  weight                            1448 non-null   object \n",
            " 27  eye_color                         1186 non-null   object \n",
            " 28  hair_color                        1202 non-null   object \n",
            " 29  skin_color                        173 non-null    object \n",
            " 30  img                               1363 non-null   object \n",
            " 31  has_electrokinesis                1383 non-null   float64\n",
            " 32  has_energy_constructs             1383 non-null   float64\n",
            " 33  has_mind_control_resistance       1383 non-null   float64\n",
            " 34  has_matter_manipulation           1383 non-null   float64\n",
            " 35  has_telepathy_resistance          1383 non-null   float64\n",
            " 36  has_mind_control                  1383 non-null   float64\n",
            " 37  has_enhanced_hearing              1383 non-null   float64\n",
            " 38  has_dimensional_travel            1383 non-null   float64\n",
            " 39  has_element_control               1383 non-null   float64\n",
            " 40  has_size_changing                 1383 non-null   float64\n",
            " 41  has_fire_resistance               1383 non-null   float64\n",
            " 42  has_fire_control                  1383 non-null   float64\n",
            " 43  has_dexterity                     1383 non-null   float64\n",
            " 44  has_reality_warping               1383 non-null   float64\n",
            " 45  has_illusions                     1383 non-null   float64\n",
            " 46  has_energy_beams                  1383 non-null   float64\n",
            " 47  has_peak_human_condition          1383 non-null   float64\n",
            " 48  has_shapeshifting                 1383 non-null   float64\n",
            " 49  has_heat_resistance               1383 non-null   float64\n",
            " 50  has_jump                          1383 non-null   float64\n",
            " 51  has_self-sustenance               1383 non-null   float64\n",
            " 52  has_energy_absorption             1383 non-null   float64\n",
            " 53  has_cold_resistance               1383 non-null   float64\n",
            " 54  has_magic                         1383 non-null   float64\n",
            " 55  has_telekinesis                   1383 non-null   float64\n",
            " 56  has_toxin_and_disease_resistance  1383 non-null   float64\n",
            " 57  has_telepathy                     1383 non-null   float64\n",
            " 58  has_regeneration                  1383 non-null   float64\n",
            " 59  has_immortality                   1383 non-null   float64\n",
            " 60  has_teleportation                 1383 non-null   float64\n",
            " 61  has_force_fields                  1383 non-null   float64\n",
            " 62  has_energy_manipulation           1383 non-null   float64\n",
            " 63  has_endurance                     1383 non-null   float64\n",
            " 64  has_longevity                     1383 non-null   float64\n",
            " 65  has_weapon-based_powers           1383 non-null   float64\n",
            " 66  has_energy_blasts                 1383 non-null   float64\n",
            " 67  has_enhanced_senses               1383 non-null   float64\n",
            " 68  has_invulnerability               1383 non-null   float64\n",
            " 69  has_stealth                       1383 non-null   float64\n",
            " 70  has_marksmanship                  1383 non-null   float64\n",
            " 71  has_flight                        1383 non-null   float64\n",
            " 72  has_accelerated_healing           1383 non-null   float64\n",
            " 73  has_weapons_master                1383 non-null   float64\n",
            " 74  has_intelligence                  1383 non-null   float64\n",
            " 75  has_reflexes                      1383 non-null   float64\n",
            " 76  has_super_speed                   1383 non-null   float64\n",
            " 77  has_durability                    1383 non-null   float64\n",
            " 78  has_stamina                       1383 non-null   float64\n",
            " 79  has_agility                       1383 non-null   float64\n",
            " 80  has_super_strength                1383 non-null   float64\n",
            "dtypes: float64(50), int64(6), object(25)\n",
            "memory usage: 917.7+ KB\n"
          ]
        }
      ],
      "source": [
        "heroes.info()"
      ]
    },
    {
      "cell_type": "code",
      "source": [
        "heroes = heroes[[\"history_text\", \"creator\"]]"
      ],
      "metadata": {
        "id": "B6nktp4I91Pk"
      },
      "execution_count": 191,
      "outputs": []
    },
    {
      "cell_type": "code",
      "source": [
        "heroes.sample(10)"
      ],
      "metadata": {
        "colab": {
          "base_uri": "https://localhost:8080/",
          "height": 363
        },
        "id": "0nNcl-WP9a9G",
        "outputId": "dc575d53-50f3-482e-cb91-2a01e50eb74c"
      },
      "execution_count": 12,
      "outputs": [
        {
          "output_type": "execute_result",
          "data": {
            "text/plain": [
              "                                           history_text        creator\n",
              "224   Querl Dox, also known as Brainiac 5, is a Colu...            NaN\n",
              "255   Captain America helped out the Guardians of th...  Marvel Comics\n",
              "1357  The origin of Brunnhilde the Valkyrie remains ...  Marvel Comics\n",
              "841   Malekith was the utterly cruel and malevolent ...  Marvel Comics\n",
              "809                                                 NaN  Marvel Comics\n",
              "757   Koko met Garmadon in a war under the identity ...           Lego\n",
              "776   Lagoon Boy originally from the underwater city...      DC Comics\n",
              "218   A.S. Scarlet is professor of English literatur...      DC Comics\n",
              "138   After witnessing the brutal murder of his pare...           Lego\n",
              "81    Arcturus was General of the Anacondrai during ...            NaN"
            ],
            "text/html": [
              "\n",
              "  <div id=\"df-7d3f3542-cb0f-498b-a8a8-ed3ce1243caa\">\n",
              "    <div class=\"colab-df-container\">\n",
              "      <div>\n",
              "<style scoped>\n",
              "    .dataframe tbody tr th:only-of-type {\n",
              "        vertical-align: middle;\n",
              "    }\n",
              "\n",
              "    .dataframe tbody tr th {\n",
              "        vertical-align: top;\n",
              "    }\n",
              "\n",
              "    .dataframe thead th {\n",
              "        text-align: right;\n",
              "    }\n",
              "</style>\n",
              "<table border=\"1\" class=\"dataframe\">\n",
              "  <thead>\n",
              "    <tr style=\"text-align: right;\">\n",
              "      <th></th>\n",
              "      <th>history_text</th>\n",
              "      <th>creator</th>\n",
              "    </tr>\n",
              "  </thead>\n",
              "  <tbody>\n",
              "    <tr>\n",
              "      <th>224</th>\n",
              "      <td>Querl Dox, also known as Brainiac 5, is a Colu...</td>\n",
              "      <td>NaN</td>\n",
              "    </tr>\n",
              "    <tr>\n",
              "      <th>255</th>\n",
              "      <td>Captain America helped out the Guardians of th...</td>\n",
              "      <td>Marvel Comics</td>\n",
              "    </tr>\n",
              "    <tr>\n",
              "      <th>1357</th>\n",
              "      <td>The origin of Brunnhilde the Valkyrie remains ...</td>\n",
              "      <td>Marvel Comics</td>\n",
              "    </tr>\n",
              "    <tr>\n",
              "      <th>841</th>\n",
              "      <td>Malekith was the utterly cruel and malevolent ...</td>\n",
              "      <td>Marvel Comics</td>\n",
              "    </tr>\n",
              "    <tr>\n",
              "      <th>809</th>\n",
              "      <td>NaN</td>\n",
              "      <td>Marvel Comics</td>\n",
              "    </tr>\n",
              "    <tr>\n",
              "      <th>757</th>\n",
              "      <td>Koko met Garmadon in a war under the identity ...</td>\n",
              "      <td>Lego</td>\n",
              "    </tr>\n",
              "    <tr>\n",
              "      <th>776</th>\n",
              "      <td>Lagoon Boy originally from the underwater city...</td>\n",
              "      <td>DC Comics</td>\n",
              "    </tr>\n",
              "    <tr>\n",
              "      <th>218</th>\n",
              "      <td>A.S. Scarlet is professor of English literatur...</td>\n",
              "      <td>DC Comics</td>\n",
              "    </tr>\n",
              "    <tr>\n",
              "      <th>138</th>\n",
              "      <td>After witnessing the brutal murder of his pare...</td>\n",
              "      <td>Lego</td>\n",
              "    </tr>\n",
              "    <tr>\n",
              "      <th>81</th>\n",
              "      <td>Arcturus was General of the Anacondrai during ...</td>\n",
              "      <td>NaN</td>\n",
              "    </tr>\n",
              "  </tbody>\n",
              "</table>\n",
              "</div>\n",
              "      <button class=\"colab-df-convert\" onclick=\"convertToInteractive('df-7d3f3542-cb0f-498b-a8a8-ed3ce1243caa')\"\n",
              "              title=\"Convert this dataframe to an interactive table.\"\n",
              "              style=\"display:none;\">\n",
              "        \n",
              "  <svg xmlns=\"http://www.w3.org/2000/svg\" height=\"24px\"viewBox=\"0 0 24 24\"\n",
              "       width=\"24px\">\n",
              "    <path d=\"M0 0h24v24H0V0z\" fill=\"none\"/>\n",
              "    <path d=\"M18.56 5.44l.94 2.06.94-2.06 2.06-.94-2.06-.94-.94-2.06-.94 2.06-2.06.94zm-11 1L8.5 8.5l.94-2.06 2.06-.94-2.06-.94L8.5 2.5l-.94 2.06-2.06.94zm10 10l.94 2.06.94-2.06 2.06-.94-2.06-.94-.94-2.06-.94 2.06-2.06.94z\"/><path d=\"M17.41 7.96l-1.37-1.37c-.4-.4-.92-.59-1.43-.59-.52 0-1.04.2-1.43.59L10.3 9.45l-7.72 7.72c-.78.78-.78 2.05 0 2.83L4 21.41c.39.39.9.59 1.41.59.51 0 1.02-.2 1.41-.59l7.78-7.78 2.81-2.81c.8-.78.8-2.07 0-2.86zM5.41 20L4 18.59l7.72-7.72 1.47 1.35L5.41 20z\"/>\n",
              "  </svg>\n",
              "      </button>\n",
              "      \n",
              "  <style>\n",
              "    .colab-df-container {\n",
              "      display:flex;\n",
              "      flex-wrap:wrap;\n",
              "      gap: 12px;\n",
              "    }\n",
              "\n",
              "    .colab-df-convert {\n",
              "      background-color: #E8F0FE;\n",
              "      border: none;\n",
              "      border-radius: 50%;\n",
              "      cursor: pointer;\n",
              "      display: none;\n",
              "      fill: #1967D2;\n",
              "      height: 32px;\n",
              "      padding: 0 0 0 0;\n",
              "      width: 32px;\n",
              "    }\n",
              "\n",
              "    .colab-df-convert:hover {\n",
              "      background-color: #E2EBFA;\n",
              "      box-shadow: 0px 1px 2px rgba(60, 64, 67, 0.3), 0px 1px 3px 1px rgba(60, 64, 67, 0.15);\n",
              "      fill: #174EA6;\n",
              "    }\n",
              "\n",
              "    [theme=dark] .colab-df-convert {\n",
              "      background-color: #3B4455;\n",
              "      fill: #D2E3FC;\n",
              "    }\n",
              "\n",
              "    [theme=dark] .colab-df-convert:hover {\n",
              "      background-color: #434B5C;\n",
              "      box-shadow: 0px 1px 3px 1px rgba(0, 0, 0, 0.15);\n",
              "      filter: drop-shadow(0px 1px 2px rgba(0, 0, 0, 0.3));\n",
              "      fill: #FFFFFF;\n",
              "    }\n",
              "  </style>\n",
              "\n",
              "      <script>\n",
              "        const buttonEl =\n",
              "          document.querySelector('#df-7d3f3542-cb0f-498b-a8a8-ed3ce1243caa button.colab-df-convert');\n",
              "        buttonEl.style.display =\n",
              "          google.colab.kernel.accessAllowed ? 'block' : 'none';\n",
              "\n",
              "        async function convertToInteractive(key) {\n",
              "          const element = document.querySelector('#df-7d3f3542-cb0f-498b-a8a8-ed3ce1243caa');\n",
              "          const dataTable =\n",
              "            await google.colab.kernel.invokeFunction('convertToInteractive',\n",
              "                                                     [key], {});\n",
              "          if (!dataTable) return;\n",
              "\n",
              "          const docLinkHtml = 'Like what you see? Visit the ' +\n",
              "            '<a target=\"_blank\" href=https://colab.research.google.com/notebooks/data_table.ipynb>data table notebook</a>'\n",
              "            + ' to learn more about interactive tables.';\n",
              "          element.innerHTML = '';\n",
              "          dataTable['output_type'] = 'display_data';\n",
              "          await google.colab.output.renderOutput(dataTable, element);\n",
              "          const docLink = document.createElement('div');\n",
              "          docLink.innerHTML = docLinkHtml;\n",
              "          element.appendChild(docLink);\n",
              "        }\n",
              "      </script>\n",
              "    </div>\n",
              "  </div>\n",
              "  "
            ]
          },
          "metadata": {},
          "execution_count": 12
        }
      ]
    },
    {
      "cell_type": "code",
      "execution_count": 192,
      "metadata": {
        "colab": {
          "base_uri": "https://localhost:8080/"
        },
        "id": "sEPOunwfVql6",
        "outputId": "e96f41cc-94fc-4e7b-eaff-f79f9007305c"
      },
      "outputs": [
        {
          "output_type": "execute_result",
          "data": {
            "text/plain": [
              "1035    Marvel Comics\n",
              "743         DC Comics\n",
              "1415    Marvel Comics\n",
              "267         DC Comics\n",
              "993         DC Comics\n",
              "545     Marvel Comics\n",
              "130         DC Comics\n",
              "842     Marvel Comics\n",
              "423         DC Comics\n",
              "889     Marvel Comics\n",
              "1385    Marvel Comics\n",
              "111     Marvel Comics\n",
              "1427    Marvel Comics\n",
              "896     Marvel Comics\n",
              "626     Marvel Comics\n",
              "1381        DC Comics\n",
              "1164    Marvel Comics\n",
              "1443    Marvel Comics\n",
              "901         DC Comics\n",
              "23      Marvel Comics\n",
              "Name: creator, dtype: object"
            ]
          },
          "metadata": {},
          "execution_count": 192
        }
      ],
      "source": [
        "heroes = heroes[(heroes[\"creator\"] == \"Marvel Comics\") | (heroes[\"creator\"] == \"DC Comics\")]\n",
        "heroes[\"creator\"].sample(20)"
      ]
    },
    {
      "cell_type": "code",
      "execution_count": 193,
      "metadata": {
        "colab": {
          "base_uri": "https://localhost:8080/"
        },
        "id": "wZzqIpSaVql6",
        "outputId": "db756801-5fa2-4f9f-f102-dd4a26b3c13a"
      },
      "outputs": [
        {
          "output_type": "stream",
          "name": "stdout",
          "text": [
            "62\n",
            "0\n",
            "1059\n"
          ]
        }
      ],
      "source": [
        "# as we have to make predictions based on \"history_text\", we'll have to check if there are empty values there.\n",
        "null_h = heroes[\"history_text\"].isnull().sum()\n",
        "# let's also check the number of empty values for the \"creator\" column, just to make sure.\n",
        "null_a = heroes[\"creator\"].isnull().sum()\n",
        "\n",
        "print(null_h)\n",
        "print(null_a)\n",
        "print(len(heroes))"
      ]
    },
    {
      "cell_type": "markdown",
      "metadata": {
        "id": "4vd2GHyrVql7"
      },
      "source": [
        "On 1059 total data points, 62 isn't much. It can be safe to simply drop the empty data points; using a KNN Imputer to calculate the mean of its nearest neighbours after the text has been vectorized may not be a sound idea, since our data is text based. In this case, I foresee that doing so will produce gibberish that has more risk of confusing the algorithm rather than helping it."
      ]
    },
    {
      "cell_type": "code",
      "execution_count": 194,
      "metadata": {
        "colab": {
          "base_uri": "https://localhost:8080/"
        },
        "id": "5lxXlYq_Vql7",
        "outputId": "90c09bd6-0aee-4877-ccbc-649f487206da"
      },
      "outputs": [
        {
          "output_type": "stream",
          "name": "stdout",
          "text": [
            "Total: 1059     \n",
            "Empty values text: 62     \n",
            "Empty values creator: 0     \n",
            "Rows with info: 997\n"
          ]
        }
      ],
      "source": [
        "total = len(heroes)\n",
        "subnet = total - null_h\n",
        "net = subnet - null_a\n",
        "\n",
        "print(f\"Total: {total} \\\n",
        "    \\nEmpty values text: {null_h} \\\n",
        "    \\nEmpty values creator: {null_a} \\\n",
        "    \\nRows with info: {net}\")"
      ]
    },
    {
      "cell_type": "markdown",
      "metadata": {
        "id": "nwbqseJIVql7"
      },
      "source": [
        "We still have almost one thousand info points left. It can be safe to drop the data points with empty values. Using a KNN Imputer here may not be feasable, as the column we need for our predictions is text based; the imputer calculates the mean of its nearest neighbours, and can be useful for numeric values. But in the case of vectorized text, I foresee it will produce gibberish that has more risk of confusing the algorithm rather than helping it."
      ]
    },
    {
      "cell_type": "code",
      "execution_count": 195,
      "metadata": {
        "colab": {
          "base_uri": "https://localhost:8080/"
        },
        "id": "-2B6HQGBVql7",
        "outputId": "ebb8c37a-c4d2-4a3c-d8b7-037a5da451c5"
      },
      "outputs": [
        {
          "output_type": "stream",
          "name": "stdout",
          "text": [
            "Remaining data points: 997     \n",
            "Data loss: 6.03%\n"
          ]
        }
      ],
      "source": [
        "heroes = heroes.dropna(subset=[\"history_text\"])\n",
        "abs_diff = total - net\n",
        "\n",
        "print(f\"Remaining data points: {len(heroes)} \\\n",
        "    \\nData loss: {round(abs_diff/((total + net)/2) * 100, 2)}%\")"
      ]
    },
    {
      "cell_type": "code",
      "execution_count": 35,
      "metadata": {
        "colab": {
          "base_uri": "https://localhost:8080/",
          "height": 407
        },
        "id": "MwQVtjIoVql7",
        "outputId": "844033f8-9351-49c2-a66c-b4e9ae989385"
      },
      "outputs": [
        {
          "output_type": "stream",
          "name": "stdout",
          "text": [
            "Marvel Comics    583\n",
            "DC Comics        414\n",
            "Name: creator, dtype: int64\n"
          ]
        },
        {
          "output_type": "display_data",
          "data": {
            "text/plain": [
              "<Figure size 540x360 with 1 Axes>"
            ],
            "image/png": "[encoded data removed]"
          },
          "metadata": {
            "needs_background": "light"
          }
        }
      ],
      "source": [
        "# let's check the balance of our classes to predict\n",
        "print(heroes[\"creator\"].value_counts())\n",
        "\n",
        "# plot the counts for visual overview\n",
        "plt.figure(dpi=90)\n",
        "ax = sns.countplot(data=heroes, x=\"creator\", palette=\"magma_r\");\n",
        "ax.spines[\"top\"].set_visible(False)\n",
        "ax.spines[\"right\"].set_visible(False)\n",
        "\n",
        "# annotate plots with relative frequencies\n",
        "for p in ax.patches:\n",
        "    y=p.get_bbox().get_points()[1,1]       \n",
        "    ax.annotate(\"{:.2f}%\".format(100.*y/len(heroes)), (p.get_x() + p.get_width() / 2., p.get_height()),  \n",
        "    ha = 'center', va = 'center', xytext = (0, 10), textcoords = 'offset points')"
      ]
    },
    {
      "cell_type": "code",
      "source": [
        "heroes.history_text[2]"
      ],
      "metadata": {
        "colab": {
          "base_uri": "https://localhost:8080/",
          "height": 146
        },
        "id": "Du0egJxV9-dr",
        "outputId": "5410b5e1-c5a0-4a71-dde3-43078ce92902"
      },
      "execution_count": 17,
      "outputs": [
        {
          "output_type": "execute_result",
          "data": {
            "text/plain": [
              "' Richard \"Rick\" Jones was orphaned at a young age, and after being expelled from several orphanages for disciplinary reasons he was placed into a state institution called Tempest Town. A troubled and rebellious youth, Jones soon came to the attention of the institution\\'s chief administrator who smashed his guitar, a gift from his late father, and then had him severely thrashed. Soon afterward, Jones ran away from the institution. He spent the first half of his teens drifting from town to town throughout the Southwest, trying to avoid the juvenile authorities, and doing menial work when he could get it.  At age 16, he got his driver\\'s license and managed to save enough money to buy a used car. Overhearing a teenager dare a friend to ride out with him on the desert where it was rumored an atomic bomb was going to be tested, Jones offered to take him upon the challenge. He drove his car out to the test site to discover his challenger was too timid to show up. Dr. Robert Bruce Banner, designer of the Gamma Bomb to be tested, learned that someone had ventured onto the test site, and believing the countdown had been delayed, ran out into the desert to warn him back. Banner managed to throw Jones into a protective trench before the bomb detonated, but he himself was bombarded with gamma radiation. This radiation triggered a mutagenic change in Banner, causing him to turn into the raging superhuman Hulk. Feeling responsible for Banner\\'s condition and being the only person to know that the rampaging brute was actually Banner, Jones became the Hulk\\'s sometimes unwanted companion and ally. Jones soon organized the Teen Brigade, a group of young amateur ham radio enthusiasts to help him monitor the Hulk\\'s activities. Jones was present during the Hulk\\'s first encounters with the army, as well as superhuman menaces as the Gargoyle, the alien Toadmen, the Ringmaster, Tyrannus, and the Metal Master, and even a run-in with the Fantastic Four.  The Avengers formed due to Rick\\'s radio broadcast warning about the Hulk. He temporarily became a sidekick for Captain America. His resemblance to Bucky was noted, Rick even wore Bucky\\'s costume for a time. However, Captain America felt he did not want to lose another partner and that while Rick was a good athlete, he was not quite up to the level Bucky was. When Iron Man suggested that Rick be made a full member of the Avengers, Cap strongly opposed the idea.  The Kree hero Captain Mar-Vell was bonded to Rick due to only being able to function out of the Negative Zone for a few hours. Using the Negative Zone portal in the Baxter Building seemed to remove that limitation. Shortly after Rick and Mar-Vell had to be re-merged. Eventually, they were separated.  During the Kree-Skrull War, an \\'omniwave\\' machine from the Supreme Intelligence caused the Destiny Force to trigger within Rick.  An attempt to cure the Hulk instead gave Rick radiation poisoning. In the hospital, the Dire Wraiths began to replace the staff, but were stopped by Rom. Rick assisted Rom against the Wraiths, and temporarily lived with Brandy Clark. Jones was cured by the Beyonder at the same time Rom and Brandy left for Galador.  Rick began dating Marlo Chandler, a former girlfriend of the Hulk\\'s. The two later married with a great number of heroes in attendance. The Impossible Man did his best to usurp the proceedings by inviting the Kree, Skrulls, even Mephisto to the ceremony. After a period of estrangement that also involved Moondragon and Death becoming involved with Marlo, the two reunited.  Jones was temporarily paralyzed while Hulk was the Horseman War. In an attempt to stop this \\'War Hulk\\' he was thrown against a pyramid. Rick was cured during the Destiny War, summoning Avengers from various realities to battle for their very existence against the Time Keepers. The strain was incredible, and a future version of Genis-Vell bonded to him, much like Rick had with Mar-Vell. Rick and Genis later discovered this bond still applied to the current Genis.  Rick authored a best-selling novel on his days as a sidekick.  When the Hulk returned to Earth, Jones attempted to calm him down by telling him about Captain America\\'s death, but when the Hulk almost calmed down, Dr. Strange invaded the Hulk\\'s mind. Rick later went to Strange\\'s Sanctum Sanctorum, but was attacked by the Hulk\\'s allies.   Later, Rick was transported to the gamma bomb site that gave birth to the original Hulk. After being dropped off, he encountered the Red Hulk. After seeing that he had murdered Emil Blonsky, the Abomination, Rick had transformed into a new blue creature who quite resembled the Abomination; calling himself A-Bomb. In his new form, he was much like the original Hulk incarnation whereas he could not remember being anybody else once the transformation was complete, had an easily flared temper, and simplified speech patterns. He held his own against the Red Hulk for an extended period of time, withstanding all of his blows and injuring him multiple times which so far nobody had been able to accomplish. The battle was interrupted by several giant android harpies that were specifically designed by United States Military in case Bruce Banner escaped the facility as the Hulk. A-Bomb has proven to hold onto fragments of his memories as Rick Jones because he recognized the harpies all had the face of Betty Ross; Bruce Banner\\'s first love. A-Bomb managed to disable one mid-flight, and they both crashed to earth.The robot exploded.  A-Bomb joined with several heroes including the Avengers, the Fantastic Four, She-Hulk and the Hulk to help stop an impending earthquake in San Francisco which was caused by Red Hulk. After the Red Hulk was defeated, A-Bomb reverted back to Rick. He attempted to reveal who Red Hulk really was, but was shot and dragged away by Doc Samson from the area.'"
            ],
            "application/vnd.google.colaboratory.intrinsic+json": {
              "type": "string"
            }
          },
          "metadata": {},
          "execution_count": 17
        }
      ]
    },
    {
      "cell_type": "markdown",
      "metadata": {
        "id": "RzabELYDVql7"
      },
      "source": [
        "Let's do a word count."
      ]
    },
    {
      "cell_type": "code",
      "execution_count": 81,
      "metadata": {
        "colab": {
          "base_uri": "https://localhost:8080/"
        },
        "id": "sogXDVJgVql7",
        "outputId": "507ce96b-8ffe-4bc8-cb49-562afd15c1ae"
      },
      "outputs": [
        {
          "output_type": "stream",
          "name": "stdout",
          "text": [
            "0       [Delroy, Garrett,, Jr., grew, up, to, become, ...\n",
            "1       [He, was, one, of, the, many, prisoners, of, I...\n",
            "2       [Richard, \"Rick\", Jones, was, orphaned, at, a,...\n",
            "3       [Aa, is, one, of, the, more, passive, members,...\n",
            "4       [Aaron, Cash, is, the, head, of, security, at,...\n",
            "                              ...                        \n",
            "1443    [Little, is, known, about, the, early, life, o...\n",
            "1445    [Zatanna, is, the, daughter, of, adventurer, J...\n",
            "1447    [Hunter, Zolomon, is, better, known, as, Zoom,...\n",
            "1448    [Hunter, Zolomon, had, a, troubled, relationsh...\n",
            "1449    [Zzzax, was, the, product, of, an, accident, t...\n",
            "Name: history_text, Length: 997, dtype: object\n"
          ]
        },
        {
          "output_type": "execute_result",
          "data": {
            "text/plain": [
              "the      43289\n",
              "to       26901\n",
              "and      22240\n",
              "of       17894\n",
              "a        14844\n",
              "his      11754\n",
              "was      11136\n",
              "in        9478\n",
              "he        7645\n",
              "with      6951\n",
              "that      6569\n",
              "by        5829\n",
              "her       5429\n",
              "as        5319\n",
              "for       4418\n",
              "had       4084\n",
              "him       3875\n",
              "from      3386\n",
              "on        3384\n",
              "The       3067\n",
              "but       2874\n",
              "who       2853\n",
              "she       2845\n",
              "an        2753\n",
              "into      2557\n",
              "is        2459\n",
              "their     2431\n",
              "He        2247\n",
              "were      2199\n",
              "at        2030\n",
              "Name: history_text, dtype: int64"
            ]
          },
          "metadata": {},
          "execution_count": 81
        }
      ],
      "source": [
        "# split the column strings into lists\n",
        "w_lists = heroes[\"history_text\"].str.split()\n",
        "print(w_lists)\n",
        "# explode the lists into a row\n",
        "w_count = w_lists.explode(\"history_text\")\n",
        "w_count.value_counts()[:30]"
      ]
    },
    {
      "cell_type": "markdown",
      "metadata": {
        "id": "pQDQNwnkVql9"
      },
      "source": [
        "### 1.2 Preprocessing"
      ]
    },
    {
      "cell_type": "code",
      "source": [
        "from sklearn.preprocessing import LabelEncoder\n",
        "\n",
        "le = LabelEncoder()\n",
        "le.fit(heroes[\"creator\"])\n",
        "print(list(le.classes_))\n",
        "heroes[\"creator\"] = le.transform(heroes[\"creator\"])"
      ],
      "metadata": {
        "colab": {
          "base_uri": "https://localhost:8080/"
        },
        "id": "kBCKuSglEzjd",
        "outputId": "b19d56cb-0d6c-44a3-ad97-20e2b335f726"
      },
      "execution_count": 196,
      "outputs": [
        {
          "output_type": "stream",
          "name": "stdout",
          "text": [
            "['DC Comics', 'Marvel Comics']\n"
          ]
        }
      ]
    },
    {
      "cell_type": "code",
      "source": [
        "heroes"
      ],
      "metadata": {
        "colab": {
          "base_uri": "https://localhost:8080/",
          "height": 424
        },
        "id": "lkyRzda3lT8c",
        "outputId": "c94243d9-31dc-4f18-855b-ee4680e9b01e"
      },
      "execution_count": 83,
      "outputs": [
        {
          "output_type": "execute_result",
          "data": {
            "text/plain": [
              "                                           history_text  creator\n",
              "0     Delroy Garrett, Jr. grew up to become a track ...        1\n",
              "1     He was one of the many prisoners of Indian Hil...        0\n",
              "2      Richard \"Rick\" Jones was orphaned at a young ...        1\n",
              "3     Aa is one of the more passive members of the P...        0\n",
              "4     Aaron Cash is the head of security at Arkham A...        0\n",
              "...                                                 ...      ...\n",
              "1443  Little is known about the early life of the ad...        1\n",
              "1445  Zatanna is the daughter of adventurer John Zat...        0\n",
              "1447  Hunter Zolomon is better known as Zoom, a spee...        0\n",
              "1448   Hunter Zolomon had a troubled relationship wi...        0\n",
              "1449  Zzzax was the product of an accident that occu...        1\n",
              "\n",
              "[997 rows x 2 columns]"
            ],
            "text/html": [
              "\n",
              "  <div id=\"df-87069308-372a-47d6-a0ae-d3e5a3f1f855\">\n",
              "    <div class=\"colab-df-container\">\n",
              "      <div>\n",
              "<style scoped>\n",
              "    .dataframe tbody tr th:only-of-type {\n",
              "        vertical-align: middle;\n",
              "    }\n",
              "\n",
              "    .dataframe tbody tr th {\n",
              "        vertical-align: top;\n",
              "    }\n",
              "\n",
              "    .dataframe thead th {\n",
              "        text-align: right;\n",
              "    }\n",
              "</style>\n",
              "<table border=\"1\" class=\"dataframe\">\n",
              "  <thead>\n",
              "    <tr style=\"text-align: right;\">\n",
              "      <th></th>\n",
              "      <th>history_text</th>\n",
              "      <th>creator</th>\n",
              "    </tr>\n",
              "  </thead>\n",
              "  <tbody>\n",
              "    <tr>\n",
              "      <th>0</th>\n",
              "      <td>Delroy Garrett, Jr. grew up to become a track ...</td>\n",
              "      <td>1</td>\n",
              "    </tr>\n",
              "    <tr>\n",
              "      <th>1</th>\n",
              "      <td>He was one of the many prisoners of Indian Hil...</td>\n",
              "      <td>0</td>\n",
              "    </tr>\n",
              "    <tr>\n",
              "      <th>2</th>\n",
              "      <td>Richard \"Rick\" Jones was orphaned at a young ...</td>\n",
              "      <td>1</td>\n",
              "    </tr>\n",
              "    <tr>\n",
              "      <th>3</th>\n",
              "      <td>Aa is one of the more passive members of the P...</td>\n",
              "      <td>0</td>\n",
              "    </tr>\n",
              "    <tr>\n",
              "      <th>4</th>\n",
              "      <td>Aaron Cash is the head of security at Arkham A...</td>\n",
              "      <td>0</td>\n",
              "    </tr>\n",
              "    <tr>\n",
              "      <th>...</th>\n",
              "      <td>...</td>\n",
              "      <td>...</td>\n",
              "    </tr>\n",
              "    <tr>\n",
              "      <th>1443</th>\n",
              "      <td>Little is known about the early life of the ad...</td>\n",
              "      <td>1</td>\n",
              "    </tr>\n",
              "    <tr>\n",
              "      <th>1445</th>\n",
              "      <td>Zatanna is the daughter of adventurer John Zat...</td>\n",
              "      <td>0</td>\n",
              "    </tr>\n",
              "    <tr>\n",
              "      <th>1447</th>\n",
              "      <td>Hunter Zolomon is better known as Zoom, a spee...</td>\n",
              "      <td>0</td>\n",
              "    </tr>\n",
              "    <tr>\n",
              "      <th>1448</th>\n",
              "      <td>Hunter Zolomon had a troubled relationship wi...</td>\n",
              "      <td>0</td>\n",
              "    </tr>\n",
              "    <tr>\n",
              "      <th>1449</th>\n",
              "      <td>Zzzax was the product of an accident that occu...</td>\n",
              "      <td>1</td>\n",
              "    </tr>\n",
              "  </tbody>\n",
              "</table>\n",
              "<p>997 rows × 2 columns</p>\n",
              "</div>\n",
              "      <button class=\"colab-df-convert\" onclick=\"convertToInteractive('df-87069308-372a-47d6-a0ae-d3e5a3f1f855')\"\n",
              "              title=\"Convert this dataframe to an interactive table.\"\n",
              "              style=\"display:none;\">\n",
              "        \n",
              "  <svg xmlns=\"http://www.w3.org/2000/svg\" height=\"24px\"viewBox=\"0 0 24 24\"\n",
              "       width=\"24px\">\n",
              "    <path d=\"M0 0h24v24H0V0z\" fill=\"none\"/>\n",
              "    <path d=\"M18.56 5.44l.94 2.06.94-2.06 2.06-.94-2.06-.94-.94-2.06-.94 2.06-2.06.94zm-11 1L8.5 8.5l.94-2.06 2.06-.94-2.06-.94L8.5 2.5l-.94 2.06-2.06.94zm10 10l.94 2.06.94-2.06 2.06-.94-2.06-.94-.94-2.06-.94 2.06-2.06.94z\"/><path d=\"M17.41 7.96l-1.37-1.37c-.4-.4-.92-.59-1.43-.59-.52 0-1.04.2-1.43.59L10.3 9.45l-7.72 7.72c-.78.78-.78 2.05 0 2.83L4 21.41c.39.39.9.59 1.41.59.51 0 1.02-.2 1.41-.59l7.78-7.78 2.81-2.81c.8-.78.8-2.07 0-2.86zM5.41 20L4 18.59l7.72-7.72 1.47 1.35L5.41 20z\"/>\n",
              "  </svg>\n",
              "      </button>\n",
              "      \n",
              "  <style>\n",
              "    .colab-df-container {\n",
              "      display:flex;\n",
              "      flex-wrap:wrap;\n",
              "      gap: 12px;\n",
              "    }\n",
              "\n",
              "    .colab-df-convert {\n",
              "      background-color: #E8F0FE;\n",
              "      border: none;\n",
              "      border-radius: 50%;\n",
              "      cursor: pointer;\n",
              "      display: none;\n",
              "      fill: #1967D2;\n",
              "      height: 32px;\n",
              "      padding: 0 0 0 0;\n",
              "      width: 32px;\n",
              "    }\n",
              "\n",
              "    .colab-df-convert:hover {\n",
              "      background-color: #E2EBFA;\n",
              "      box-shadow: 0px 1px 2px rgba(60, 64, 67, 0.3), 0px 1px 3px 1px rgba(60, 64, 67, 0.15);\n",
              "      fill: #174EA6;\n",
              "    }\n",
              "\n",
              "    [theme=dark] .colab-df-convert {\n",
              "      background-color: #3B4455;\n",
              "      fill: #D2E3FC;\n",
              "    }\n",
              "\n",
              "    [theme=dark] .colab-df-convert:hover {\n",
              "      background-color: #434B5C;\n",
              "      box-shadow: 0px 1px 3px 1px rgba(0, 0, 0, 0.15);\n",
              "      filter: drop-shadow(0px 1px 2px rgba(0, 0, 0, 0.3));\n",
              "      fill: #FFFFFF;\n",
              "    }\n",
              "  </style>\n",
              "\n",
              "      <script>\n",
              "        const buttonEl =\n",
              "          document.querySelector('#df-87069308-372a-47d6-a0ae-d3e5a3f1f855 button.colab-df-convert');\n",
              "        buttonEl.style.display =\n",
              "          google.colab.kernel.accessAllowed ? 'block' : 'none';\n",
              "\n",
              "        async function convertToInteractive(key) {\n",
              "          const element = document.querySelector('#df-87069308-372a-47d6-a0ae-d3e5a3f1f855');\n",
              "          const dataTable =\n",
              "            await google.colab.kernel.invokeFunction('convertToInteractive',\n",
              "                                                     [key], {});\n",
              "          if (!dataTable) return;\n",
              "\n",
              "          const docLinkHtml = 'Like what you see? Visit the ' +\n",
              "            '<a target=\"_blank\" href=https://colab.research.google.com/notebooks/data_table.ipynb>data table notebook</a>'\n",
              "            + ' to learn more about interactive tables.';\n",
              "          element.innerHTML = '';\n",
              "          dataTable['output_type'] = 'display_data';\n",
              "          await google.colab.output.renderOutput(dataTable, element);\n",
              "          const docLink = document.createElement('div');\n",
              "          docLink.innerHTML = docLinkHtml;\n",
              "          element.appendChild(docLink);\n",
              "        }\n",
              "      </script>\n",
              "    </div>\n",
              "  </div>\n",
              "  "
            ]
          },
          "metadata": {},
          "execution_count": 83
        }
      ]
    },
    {
      "cell_type": "markdown",
      "source": [
        "The dataset is relatively small, hence I will perform a 60/20/20 split. With classical algorithms, we were taught to split the dataset in two sets, a train and test set, but since a neural network comes into play, I will split the data in three sets, a train, development, and test set.\n",
        "\n",
        "We were never shown how to apply this in a situation in which both a classical and neural algorithm were used, but my reasoning, based on what we were taught in the lectures, is that you can only perform a single train-test-split. (That means, no split with two sets for the classical and another split with three sets for the neural, as I imagine some people would do). Otherwise the results of our training will be unreliable, as we'll end up with different data distributions.\n",
        "\n",
        "Since the development set is used in the neural network as a substitute for the classical ML's cross-validation, I will perform the grid search for the classical algorithms on the dev set."
      ],
      "metadata": {
        "id": "FvpyX3SmXUMX"
      }
    },
    {
      "cell_type": "code",
      "source": [
        "from sklearn.model_selection import train_test_split\n",
        "\n",
        "X_text = heroes.history_text\n",
        "y_label = heroes.creator\n",
        "\n",
        "\n",
        "X_train, X_dev_test, y_train, y_dev_test = train_test_split(X_text, y_label, test_size=0.33,\n",
        "                                                    random_state=32, stratify=y_label)\n",
        "\n",
        "X_dev, X_test, y_dev, y_test = train_test_split(X_dev_test, y_dev_test, test_size=0.5,\n",
        "                                                    random_state=32, stratify=y_dev_test)\n",
        "\n",
        "X_train.shape, X_dev.shape, X_test.shape, y_train.shape, y_dev.shape, y_test.shape"
      ],
      "metadata": {
        "colab": {
          "base_uri": "https://localhost:8080/"
        },
        "id": "EFxAKteTl2lC",
        "outputId": "25af8b44-c5f1-47b9-aa87-747cc34b087a"
      },
      "execution_count": 197,
      "outputs": [
        {
          "output_type": "execute_result",
          "data": {
            "text/plain": [
              "((667,), (165,), (165,), (667,), (165,), (165,))"
            ]
          },
          "metadata": {},
          "execution_count": 197
        }
      ]
    },
    {
      "cell_type": "code",
      "execution_count": 198,
      "metadata": {
        "id": "FCAfhyDmVql-"
      },
      "outputs": [],
      "source": [
        "from sklearn.pipeline import make_pipeline\n",
        "from sklearn.feature_extraction.text import CountVectorizer, TfidfVectorizer\n",
        "from sklearn.preprocessing import MaxAbsScaler\n",
        "\n",
        "from sklearn import set_config\n",
        "\n",
        "from sklearn.dummy import DummyClassifier\n",
        "from sklearn.neighbors import KNeighborsClassifier\n",
        "from sklearn.svm import SVC\n",
        "from sklearn.naive_bayes import MultinomialNB\n",
        "\n",
        "set_config(display=\"diagram\")\n",
        "\n",
        "vect = TfidfVectorizer(max_features=500)\n",
        "c_vect = CountVectorizer(max_features=500)\n",
        "scaler = MaxAbsScaler()\n",
        "\n",
        "knn = KNeighborsClassifier()\n",
        "svm = SVC(random_state=32)\n",
        "nb = MultinomialNB()\n",
        "\n",
        "knn_pipe = make_pipeline(vect, scaler, knn)\n",
        "svm_pipe = make_pipeline(vect, scaler, svm)\n",
        "nb_pipe = make_pipeline(vect, scaler, nb)\n",
        "\n",
        "# some baseline classifiers:\n",
        "dummy1 = DummyClassifier(strategy=\"most_frequent\", random_state=32)\n",
        "dummy2 = DummyClassifier(strategy=\"stratified\", random_state=32)\n",
        "\n",
        "dumm1_pipe = make_pipeline(vect, scaler, dummy1)\n",
        "dumm2_pipe = make_pipeline(vect, scaler, dummy2)"
      ]
    },
    {
      "cell_type": "markdown",
      "source": [
        "##1.3 Model baselines"
      ],
      "metadata": {
        "id": "aqJtbxCvOBvY"
      }
    },
    {
      "cell_type": "code",
      "source": [
        "dumm1_pipe.fit(X_train, y_train)"
      ],
      "metadata": {
        "colab": {
          "base_uri": "https://localhost:8080/",
          "height": 161
        },
        "id": "xr3iD2-yM4V4",
        "outputId": "5b3b3800-3ac8-42e5-dba3-559614555401"
      },
      "execution_count": 199,
      "outputs": [
        {
          "output_type": "execute_result",
          "data": {
            "text/plain": [
              "Pipeline(steps=[('tfidfvectorizer', TfidfVectorizer(max_features=500)),\n",
              "                ('maxabsscaler', MaxAbsScaler()),\n",
              "                ('dummyclassifier',\n",
              "                 DummyClassifier(random_state=32, strategy='most_frequent'))])"
            ],
            "text/html": [
              "<style>#sk-f5537c3d-048c-4379-8b89-92a926819b68 {color: black;background-color: white;}#sk-f5537c3d-048c-4379-8b89-92a926819b68 pre{padding: 0;}#sk-f5537c3d-048c-4379-8b89-92a926819b68 div.sk-toggleable {background-color: white;}#sk-f5537c3d-048c-4379-8b89-92a926819b68 label.sk-toggleable__label {cursor: pointer;display: block;width: 100%;margin-bottom: 0;padding: 0.3em;box-sizing: border-box;text-align: center;}#sk-f5537c3d-048c-4379-8b89-92a926819b68 label.sk-toggleable__label-arrow:before {content: \"▸\";float: left;margin-right: 0.25em;color: #696969;}#sk-f5537c3d-048c-4379-8b89-92a926819b68 label.sk-toggleable__label-arrow:hover:before {color: black;}#sk-f5537c3d-048c-4379-8b89-92a926819b68 div.sk-estimator:hover label.sk-toggleable__label-arrow:before {color: black;}#sk-f5537c3d-048c-4379-8b89-92a926819b68 div.sk-toggleable__content {max-height: 0;max-width: 0;overflow: hidden;text-align: left;background-color: #f0f8ff;}#sk-f5537c3d-048c-4379-8b89-92a926819b68 div.sk-toggleable__content pre {margin: 0.2em;color: black;border-radius: 0.25em;background-color: #f0f8ff;}#sk-f5537c3d-048c-4379-8b89-92a926819b68 input.sk-toggleable__control:checked~div.sk-toggleable__content {max-height: 200px;max-width: 100%;overflow: auto;}#sk-f5537c3d-048c-4379-8b89-92a926819b68 input.sk-toggleable__control:checked~label.sk-toggleable__label-arrow:before {content: \"▾\";}#sk-f5537c3d-048c-4379-8b89-92a926819b68 div.sk-estimator input.sk-toggleable__control:checked~label.sk-toggleable__label {background-color: #d4ebff;}#sk-f5537c3d-048c-4379-8b89-92a926819b68 div.sk-label input.sk-toggleable__control:checked~label.sk-toggleable__label {background-color: #d4ebff;}#sk-f5537c3d-048c-4379-8b89-92a926819b68 input.sk-hidden--visually {border: 0;clip: rect(1px 1px 1px 1px);clip: rect(1px, 1px, 1px, 1px);height: 1px;margin: -1px;overflow: hidden;padding: 0;position: absolute;width: 1px;}#sk-f5537c3d-048c-4379-8b89-92a926819b68 div.sk-estimator {font-family: monospace;background-color: #f0f8ff;border: 1px dotted black;border-radius: 0.25em;box-sizing: border-box;margin-bottom: 0.5em;}#sk-f5537c3d-048c-4379-8b89-92a926819b68 div.sk-estimator:hover {background-color: #d4ebff;}#sk-f5537c3d-048c-4379-8b89-92a926819b68 div.sk-parallel-item::after {content: \"\";width: 100%;border-bottom: 1px solid gray;flex-grow: 1;}#sk-f5537c3d-048c-4379-8b89-92a926819b68 div.sk-label:hover label.sk-toggleable__label {background-color: #d4ebff;}#sk-f5537c3d-048c-4379-8b89-92a926819b68 div.sk-serial::before {content: \"\";position: absolute;border-left: 1px solid gray;box-sizing: border-box;top: 2em;bottom: 0;left: 50%;}#sk-f5537c3d-048c-4379-8b89-92a926819b68 div.sk-serial {display: flex;flex-direction: column;align-items: center;background-color: white;padding-right: 0.2em;padding-left: 0.2em;}#sk-f5537c3d-048c-4379-8b89-92a926819b68 div.sk-item {z-index: 1;}#sk-f5537c3d-048c-4379-8b89-92a926819b68 div.sk-parallel {display: flex;align-items: stretch;justify-content: center;background-color: white;}#sk-f5537c3d-048c-4379-8b89-92a926819b68 div.sk-parallel::before {content: \"\";position: absolute;border-left: 1px solid gray;box-sizing: border-box;top: 2em;bottom: 0;left: 50%;}#sk-f5537c3d-048c-4379-8b89-92a926819b68 div.sk-parallel-item {display: flex;flex-direction: column;position: relative;background-color: white;}#sk-f5537c3d-048c-4379-8b89-92a926819b68 div.sk-parallel-item:first-child::after {align-self: flex-end;width: 50%;}#sk-f5537c3d-048c-4379-8b89-92a926819b68 div.sk-parallel-item:last-child::after {align-self: flex-start;width: 50%;}#sk-f5537c3d-048c-4379-8b89-92a926819b68 div.sk-parallel-item:only-child::after {width: 0;}#sk-f5537c3d-048c-4379-8b89-92a926819b68 div.sk-dashed-wrapped {border: 1px dashed gray;margin: 0 0.4em 0.5em 0.4em;box-sizing: border-box;padding-bottom: 0.4em;background-color: white;position: relative;}#sk-f5537c3d-048c-4379-8b89-92a926819b68 div.sk-label label {font-family: monospace;font-weight: bold;background-color: white;display: inline-block;line-height: 1.2em;}#sk-f5537c3d-048c-4379-8b89-92a926819b68 div.sk-label-container {position: relative;z-index: 2;text-align: center;}#sk-f5537c3d-048c-4379-8b89-92a926819b68 div.sk-container {/* jupyter's `normalize.less` sets `[hidden] { display: none; }` but bootstrap.min.css set `[hidden] { display: none !important; }` so we also need the `!important` here to be able to override the default hidden behavior on the sphinx rendered scikit-learn.org. See: https://github.com/scikit-learn/scikit-learn/issues/21755 */display: inline-block !important;position: relative;}#sk-f5537c3d-048c-4379-8b89-92a926819b68 div.sk-text-repr-fallback {display: none;}</style><div id=\"sk-f5537c3d-048c-4379-8b89-92a926819b68\" class=\"sk-top-container\"><div class=\"sk-text-repr-fallback\"><pre>Pipeline(steps=[(&#x27;tfidfvectorizer&#x27;, TfidfVectorizer(max_features=500)),\n",
              "                (&#x27;maxabsscaler&#x27;, MaxAbsScaler()),\n",
              "                (&#x27;dummyclassifier&#x27;,\n",
              "                 DummyClassifier(random_state=32, strategy=&#x27;most_frequent&#x27;))])</pre><b>Please rerun this cell to show the HTML repr or trust the notebook.</b></div><div class=\"sk-container\" hidden><div class=\"sk-item sk-dashed-wrapped\"><div class=\"sk-label-container\"><div class=\"sk-label sk-toggleable\"><input class=\"sk-toggleable__control sk-hidden--visually\" id=\"3e302e8e-ad9a-4c55-a350-a72da5a885f5\" type=\"checkbox\" ><label for=\"3e302e8e-ad9a-4c55-a350-a72da5a885f5\" class=\"sk-toggleable__label sk-toggleable__label-arrow\">Pipeline</label><div class=\"sk-toggleable__content\"><pre>Pipeline(steps=[(&#x27;tfidfvectorizer&#x27;, TfidfVectorizer(max_features=500)),\n",
              "                (&#x27;maxabsscaler&#x27;, MaxAbsScaler()),\n",
              "                (&#x27;dummyclassifier&#x27;,\n",
              "                 DummyClassifier(random_state=32, strategy=&#x27;most_frequent&#x27;))])</pre></div></div></div><div class=\"sk-serial\"><div class=\"sk-item\"><div class=\"sk-estimator sk-toggleable\"><input class=\"sk-toggleable__control sk-hidden--visually\" id=\"932bf642-80f8-488a-80c4-f456bba5592b\" type=\"checkbox\" ><label for=\"932bf642-80f8-488a-80c4-f456bba5592b\" class=\"sk-toggleable__label sk-toggleable__label-arrow\">TfidfVectorizer</label><div class=\"sk-toggleable__content\"><pre>TfidfVectorizer(max_features=500)</pre></div></div></div><div class=\"sk-item\"><div class=\"sk-estimator sk-toggleable\"><input class=\"sk-toggleable__control sk-hidden--visually\" id=\"716c4719-edf5-46be-bf69-d7f5b4f3a3f7\" type=\"checkbox\" ><label for=\"716c4719-edf5-46be-bf69-d7f5b4f3a3f7\" class=\"sk-toggleable__label sk-toggleable__label-arrow\">MaxAbsScaler</label><div class=\"sk-toggleable__content\"><pre>MaxAbsScaler()</pre></div></div></div><div class=\"sk-item\"><div class=\"sk-estimator sk-toggleable\"><input class=\"sk-toggleable__control sk-hidden--visually\" id=\"79687a9d-388d-4e1e-90b6-c3590f1a22e6\" type=\"checkbox\" ><label for=\"79687a9d-388d-4e1e-90b6-c3590f1a22e6\" class=\"sk-toggleable__label sk-toggleable__label-arrow\">DummyClassifier</label><div class=\"sk-toggleable__content\"><pre>DummyClassifier(random_state=32, strategy=&#x27;most_frequent&#x27;)</pre></div></div></div></div></div></div></div>"
            ]
          },
          "metadata": {},
          "execution_count": 199
        }
      ]
    },
    {
      "cell_type": "code",
      "source": [
        "y_test_pred_dum1 = dumm1_pipe.predict(X_test)\n",
        "print(classification_report(y_test, y_test_pred_dum1))"
      ],
      "metadata": {
        "colab": {
          "base_uri": "https://localhost:8080/"
        },
        "id": "KbwmF7EENlNk",
        "outputId": "63b62a43-6bf9-46dd-8612-619737a9feba"
      },
      "execution_count": 201,
      "outputs": [
        {
          "output_type": "stream",
          "name": "stdout",
          "text": [
            "              precision    recall  f1-score   support\n",
            "\n",
            "           0       0.00      0.00      0.00        68\n",
            "           1       0.59      1.00      0.74        97\n",
            "\n",
            "    accuracy                           0.59       165\n",
            "   macro avg       0.29      0.50      0.37       165\n",
            "weighted avg       0.35      0.59      0.44       165\n",
            "\n"
          ]
        },
        {
          "output_type": "stream",
          "name": "stderr",
          "text": [
            "/usr/local/lib/python3.8/dist-packages/sklearn/metrics/_classification.py:1318: UndefinedMetricWarning: Precision and F-score are ill-defined and being set to 0.0 in labels with no predicted samples. Use `zero_division` parameter to control this behavior.\n",
            "  _warn_prf(average, modifier, msg_start, len(result))\n",
            "/usr/local/lib/python3.8/dist-packages/sklearn/metrics/_classification.py:1318: UndefinedMetricWarning: Precision and F-score are ill-defined and being set to 0.0 in labels with no predicted samples. Use `zero_division` parameter to control this behavior.\n",
            "  _warn_prf(average, modifier, msg_start, len(result))\n",
            "/usr/local/lib/python3.8/dist-packages/sklearn/metrics/_classification.py:1318: UndefinedMetricWarning: Precision and F-score are ill-defined and being set to 0.0 in labels with no predicted samples. Use `zero_division` parameter to control this behavior.\n",
            "  _warn_prf(average, modifier, msg_start, len(result))\n"
          ]
        }
      ]
    },
    {
      "cell_type": "code",
      "source": [
        "dumm2_pipe.fit(X_train, y_train)"
      ],
      "metadata": {
        "colab": {
          "base_uri": "https://localhost:8080/",
          "height": 161
        },
        "id": "zcXU-amgNfAL",
        "outputId": "cc7ed453-5f99-4250-cda2-556d1a305278"
      },
      "execution_count": 202,
      "outputs": [
        {
          "output_type": "execute_result",
          "data": {
            "text/plain": [
              "Pipeline(steps=[('tfidfvectorizer', TfidfVectorizer(max_features=500)),\n",
              "                ('maxabsscaler', MaxAbsScaler()),\n",
              "                ('dummyclassifier',\n",
              "                 DummyClassifier(random_state=32, strategy='stratified'))])"
            ],
            "text/html": [
              "<style>#sk-cb7f8989-7153-4421-b542-94dc773ee970 {color: black;background-color: white;}#sk-cb7f8989-7153-4421-b542-94dc773ee970 pre{padding: 0;}#sk-cb7f8989-7153-4421-b542-94dc773ee970 div.sk-toggleable {background-color: white;}#sk-cb7f8989-7153-4421-b542-94dc773ee970 label.sk-toggleable__label {cursor: pointer;display: block;width: 100%;margin-bottom: 0;padding: 0.3em;box-sizing: border-box;text-align: center;}#sk-cb7f8989-7153-4421-b542-94dc773ee970 label.sk-toggleable__label-arrow:before {content: \"▸\";float: left;margin-right: 0.25em;color: #696969;}#sk-cb7f8989-7153-4421-b542-94dc773ee970 label.sk-toggleable__label-arrow:hover:before {color: black;}#sk-cb7f8989-7153-4421-b542-94dc773ee970 div.sk-estimator:hover label.sk-toggleable__label-arrow:before {color: black;}#sk-cb7f8989-7153-4421-b542-94dc773ee970 div.sk-toggleable__content {max-height: 0;max-width: 0;overflow: hidden;text-align: left;background-color: #f0f8ff;}#sk-cb7f8989-7153-4421-b542-94dc773ee970 div.sk-toggleable__content pre {margin: 0.2em;color: black;border-radius: 0.25em;background-color: #f0f8ff;}#sk-cb7f8989-7153-4421-b542-94dc773ee970 input.sk-toggleable__control:checked~div.sk-toggleable__content {max-height: 200px;max-width: 100%;overflow: auto;}#sk-cb7f8989-7153-4421-b542-94dc773ee970 input.sk-toggleable__control:checked~label.sk-toggleable__label-arrow:before {content: \"▾\";}#sk-cb7f8989-7153-4421-b542-94dc773ee970 div.sk-estimator input.sk-toggleable__control:checked~label.sk-toggleable__label {background-color: #d4ebff;}#sk-cb7f8989-7153-4421-b542-94dc773ee970 div.sk-label input.sk-toggleable__control:checked~label.sk-toggleable__label {background-color: #d4ebff;}#sk-cb7f8989-7153-4421-b542-94dc773ee970 input.sk-hidden--visually {border: 0;clip: rect(1px 1px 1px 1px);clip: rect(1px, 1px, 1px, 1px);height: 1px;margin: -1px;overflow: hidden;padding: 0;position: absolute;width: 1px;}#sk-cb7f8989-7153-4421-b542-94dc773ee970 div.sk-estimator {font-family: monospace;background-color: #f0f8ff;border: 1px dotted black;border-radius: 0.25em;box-sizing: border-box;margin-bottom: 0.5em;}#sk-cb7f8989-7153-4421-b542-94dc773ee970 div.sk-estimator:hover {background-color: #d4ebff;}#sk-cb7f8989-7153-4421-b542-94dc773ee970 div.sk-parallel-item::after {content: \"\";width: 100%;border-bottom: 1px solid gray;flex-grow: 1;}#sk-cb7f8989-7153-4421-b542-94dc773ee970 div.sk-label:hover label.sk-toggleable__label {background-color: #d4ebff;}#sk-cb7f8989-7153-4421-b542-94dc773ee970 div.sk-serial::before {content: \"\";position: absolute;border-left: 1px solid gray;box-sizing: border-box;top: 2em;bottom: 0;left: 50%;}#sk-cb7f8989-7153-4421-b542-94dc773ee970 div.sk-serial {display: flex;flex-direction: column;align-items: center;background-color: white;padding-right: 0.2em;padding-left: 0.2em;}#sk-cb7f8989-7153-4421-b542-94dc773ee970 div.sk-item {z-index: 1;}#sk-cb7f8989-7153-4421-b542-94dc773ee970 div.sk-parallel {display: flex;align-items: stretch;justify-content: center;background-color: white;}#sk-cb7f8989-7153-4421-b542-94dc773ee970 div.sk-parallel::before {content: \"\";position: absolute;border-left: 1px solid gray;box-sizing: border-box;top: 2em;bottom: 0;left: 50%;}#sk-cb7f8989-7153-4421-b542-94dc773ee970 div.sk-parallel-item {display: flex;flex-direction: column;position: relative;background-color: white;}#sk-cb7f8989-7153-4421-b542-94dc773ee970 div.sk-parallel-item:first-child::after {align-self: flex-end;width: 50%;}#sk-cb7f8989-7153-4421-b542-94dc773ee970 div.sk-parallel-item:last-child::after {align-self: flex-start;width: 50%;}#sk-cb7f8989-7153-4421-b542-94dc773ee970 div.sk-parallel-item:only-child::after {width: 0;}#sk-cb7f8989-7153-4421-b542-94dc773ee970 div.sk-dashed-wrapped {border: 1px dashed gray;margin: 0 0.4em 0.5em 0.4em;box-sizing: border-box;padding-bottom: 0.4em;background-color: white;position: relative;}#sk-cb7f8989-7153-4421-b542-94dc773ee970 div.sk-label label {font-family: monospace;font-weight: bold;background-color: white;display: inline-block;line-height: 1.2em;}#sk-cb7f8989-7153-4421-b542-94dc773ee970 div.sk-label-container {position: relative;z-index: 2;text-align: center;}#sk-cb7f8989-7153-4421-b542-94dc773ee970 div.sk-container {/* jupyter's `normalize.less` sets `[hidden] { display: none; }` but bootstrap.min.css set `[hidden] { display: none !important; }` so we also need the `!important` here to be able to override the default hidden behavior on the sphinx rendered scikit-learn.org. See: https://github.com/scikit-learn/scikit-learn/issues/21755 */display: inline-block !important;position: relative;}#sk-cb7f8989-7153-4421-b542-94dc773ee970 div.sk-text-repr-fallback {display: none;}</style><div id=\"sk-cb7f8989-7153-4421-b542-94dc773ee970\" class=\"sk-top-container\"><div class=\"sk-text-repr-fallback\"><pre>Pipeline(steps=[(&#x27;tfidfvectorizer&#x27;, TfidfVectorizer(max_features=500)),\n",
              "                (&#x27;maxabsscaler&#x27;, MaxAbsScaler()),\n",
              "                (&#x27;dummyclassifier&#x27;,\n",
              "                 DummyClassifier(random_state=32, strategy=&#x27;stratified&#x27;))])</pre><b>Please rerun this cell to show the HTML repr or trust the notebook.</b></div><div class=\"sk-container\" hidden><div class=\"sk-item sk-dashed-wrapped\"><div class=\"sk-label-container\"><div class=\"sk-label sk-toggleable\"><input class=\"sk-toggleable__control sk-hidden--visually\" id=\"32d3146d-9331-4c96-a0d5-65ef6feae527\" type=\"checkbox\" ><label for=\"32d3146d-9331-4c96-a0d5-65ef6feae527\" class=\"sk-toggleable__label sk-toggleable__label-arrow\">Pipeline</label><div class=\"sk-toggleable__content\"><pre>Pipeline(steps=[(&#x27;tfidfvectorizer&#x27;, TfidfVectorizer(max_features=500)),\n",
              "                (&#x27;maxabsscaler&#x27;, MaxAbsScaler()),\n",
              "                (&#x27;dummyclassifier&#x27;,\n",
              "                 DummyClassifier(random_state=32, strategy=&#x27;stratified&#x27;))])</pre></div></div></div><div class=\"sk-serial\"><div class=\"sk-item\"><div class=\"sk-estimator sk-toggleable\"><input class=\"sk-toggleable__control sk-hidden--visually\" id=\"c076bb10-da38-4e07-9df1-b1403d8b2f1d\" type=\"checkbox\" ><label for=\"c076bb10-da38-4e07-9df1-b1403d8b2f1d\" class=\"sk-toggleable__label sk-toggleable__label-arrow\">TfidfVectorizer</label><div class=\"sk-toggleable__content\"><pre>TfidfVectorizer(max_features=500)</pre></div></div></div><div class=\"sk-item\"><div class=\"sk-estimator sk-toggleable\"><input class=\"sk-toggleable__control sk-hidden--visually\" id=\"79afda4b-c3cd-493d-b123-7ed2842c9c20\" type=\"checkbox\" ><label for=\"79afda4b-c3cd-493d-b123-7ed2842c9c20\" class=\"sk-toggleable__label sk-toggleable__label-arrow\">MaxAbsScaler</label><div class=\"sk-toggleable__content\"><pre>MaxAbsScaler()</pre></div></div></div><div class=\"sk-item\"><div class=\"sk-estimator sk-toggleable\"><input class=\"sk-toggleable__control sk-hidden--visually\" id=\"cccc91cf-6f76-4ab9-839e-c5eafa5f9f5a\" type=\"checkbox\" ><label for=\"cccc91cf-6f76-4ab9-839e-c5eafa5f9f5a\" class=\"sk-toggleable__label sk-toggleable__label-arrow\">DummyClassifier</label><div class=\"sk-toggleable__content\"><pre>DummyClassifier(random_state=32, strategy=&#x27;stratified&#x27;)</pre></div></div></div></div></div></div></div>"
            ]
          },
          "metadata": {},
          "execution_count": 202
        }
      ]
    },
    {
      "cell_type": "code",
      "source": [
        "y_test_pred_dum2 = dumm2_pipe.predict(X_test)\n",
        "print(classification_report(y_test, y_test_pred_dum2))"
      ],
      "metadata": {
        "colab": {
          "base_uri": "https://localhost:8080/"
        },
        "id": "mVlNErEANcF0",
        "outputId": "5738c48b-f240-42b1-b8bf-ff613531b23b"
      },
      "execution_count": 203,
      "outputs": [
        {
          "output_type": "stream",
          "name": "stdout",
          "text": [
            "              precision    recall  f1-score   support\n",
            "\n",
            "           0       0.43      0.41      0.42        68\n",
            "           1       0.60      0.62      0.61        97\n",
            "\n",
            "    accuracy                           0.53       165\n",
            "   macro avg       0.52      0.52      0.52       165\n",
            "weighted avg       0.53      0.53      0.53       165\n",
            "\n"
          ]
        }
      ]
    },
    {
      "cell_type": "markdown",
      "source": [
        "# 2 Training: Classical algorithms\n",
        "## 2.1 K Nearest Neighbors"
      ],
      "metadata": {
        "id": "Afz9MaTxJzP8"
      }
    },
    {
      "cell_type": "code",
      "source": [
        "import pprint as pp\n",
        "\n",
        "print(knn_pipe.named_steps, \"\\n\")\n",
        "pp.pprint(sorted(knn_pipe.get_params().keys()))"
      ],
      "metadata": {
        "colab": {
          "base_uri": "https://localhost:8080/"
        },
        "id": "-0GQpTfQGebp",
        "outputId": "5873ae7f-812d-4bc6-ff35-74668b54acc5"
      },
      "execution_count": 86,
      "outputs": [
        {
          "output_type": "stream",
          "name": "stdout",
          "text": [
            "{'tfidfvectorizer': TfidfVectorizer(max_features=500), 'maxabsscaler': MaxAbsScaler(), 'kneighborsclassifier': KNeighborsClassifier()} \n",
            "\n",
            "['kneighborsclassifier',\n",
            " 'kneighborsclassifier__algorithm',\n",
            " 'kneighborsclassifier__leaf_size',\n",
            " 'kneighborsclassifier__metric',\n",
            " 'kneighborsclassifier__metric_params',\n",
            " 'kneighborsclassifier__n_jobs',\n",
            " 'kneighborsclassifier__n_neighbors',\n",
            " 'kneighborsclassifier__p',\n",
            " 'kneighborsclassifier__weights',\n",
            " 'maxabsscaler',\n",
            " 'maxabsscaler__copy',\n",
            " 'memory',\n",
            " 'steps',\n",
            " 'tfidfvectorizer',\n",
            " 'tfidfvectorizer__analyzer',\n",
            " 'tfidfvectorizer__binary',\n",
            " 'tfidfvectorizer__decode_error',\n",
            " 'tfidfvectorizer__dtype',\n",
            " 'tfidfvectorizer__encoding',\n",
            " 'tfidfvectorizer__input',\n",
            " 'tfidfvectorizer__lowercase',\n",
            " 'tfidfvectorizer__max_df',\n",
            " 'tfidfvectorizer__max_features',\n",
            " 'tfidfvectorizer__min_df',\n",
            " 'tfidfvectorizer__ngram_range',\n",
            " 'tfidfvectorizer__norm',\n",
            " 'tfidfvectorizer__preprocessor',\n",
            " 'tfidfvectorizer__smooth_idf',\n",
            " 'tfidfvectorizer__stop_words',\n",
            " 'tfidfvectorizer__strip_accents',\n",
            " 'tfidfvectorizer__sublinear_tf',\n",
            " 'tfidfvectorizer__token_pattern',\n",
            " 'tfidfvectorizer__tokenizer',\n",
            " 'tfidfvectorizer__use_idf',\n",
            " 'tfidfvectorizer__vocabulary',\n",
            " 'verbose']\n"
          ]
        }
      ]
    },
    {
      "cell_type": "code",
      "source": [
        "knn_params = [{\n",
        "    \"tfidfvectorizer__analyzer\": [\"word\", \"char\"],\n",
        "    \"tfidfvectorizer__ngram_range\": [(1, 1), (1, 2), (2,4)],\n",
        "    \"kneighborsclassifier__n_neighbors\": [5, 7, 10],\n",
        "    \"kneighborsclassifier__weights\": [\"uniform\", \"distance\"]\n",
        "    }]"
      ],
      "metadata": {
        "id": "jFsSpyI8Glx9"
      },
      "execution_count": 87,
      "outputs": []
    },
    {
      "cell_type": "code",
      "source": [
        "from sklearn.model_selection import cross_val_score, GridSearchCV\n",
        "\n",
        "knn_gs = GridSearchCV(knn_pipe, knn_params, cv=5, scoring='f1_macro', n_jobs=-1, refit=True, verbose=1)\n",
        "knn_gs.fit(X_train, y_train)"
      ],
      "metadata": {
        "colab": {
          "base_uri": "https://localhost:8080/",
          "height": 180
        },
        "id": "kv9ft50-I8sq",
        "outputId": "e151669a-c4cc-4492-d5bf-45b6e25be009"
      },
      "execution_count": 88,
      "outputs": [
        {
          "output_type": "stream",
          "name": "stdout",
          "text": [
            "Fitting 5 folds for each of 36 candidates, totalling 180 fits\n"
          ]
        },
        {
          "output_type": "execute_result",
          "data": {
            "text/plain": [
              "GridSearchCV(cv=5,\n",
              "             estimator=Pipeline(steps=[('tfidfvectorizer',\n",
              "                                        TfidfVectorizer(max_features=500)),\n",
              "                                       ('maxabsscaler', MaxAbsScaler()),\n",
              "                                       ('kneighborsclassifier',\n",
              "                                        KNeighborsClassifier())]),\n",
              "             n_jobs=-1,\n",
              "             param_grid=[{'kneighborsclassifier__n_neighbors': [5, 7, 10],\n",
              "                          'kneighborsclassifier__weights': ['uniform',\n",
              "                                                            'distance'],\n",
              "                          'tfidfvectorizer__analyzer': ['word', 'char'],\n",
              "                          'tfidfvectorizer__ngram_range': [(1, 1), (1, 2),\n",
              "                                                           (2, 4)]}],\n",
              "             scoring='f1_macro', verbose=1)"
            ],
            "text/html": [
              "<style>#sk-8e61946d-2c6c-4935-84fa-360bc9082394 {color: black;background-color: white;}#sk-8e61946d-2c6c-4935-84fa-360bc9082394 pre{padding: 0;}#sk-8e61946d-2c6c-4935-84fa-360bc9082394 div.sk-toggleable {background-color: white;}#sk-8e61946d-2c6c-4935-84fa-360bc9082394 label.sk-toggleable__label {cursor: pointer;display: block;width: 100%;margin-bottom: 0;padding: 0.3em;box-sizing: border-box;text-align: center;}#sk-8e61946d-2c6c-4935-84fa-360bc9082394 label.sk-toggleable__label-arrow:before {content: \"▸\";float: left;margin-right: 0.25em;color: #696969;}#sk-8e61946d-2c6c-4935-84fa-360bc9082394 label.sk-toggleable__label-arrow:hover:before {color: black;}#sk-8e61946d-2c6c-4935-84fa-360bc9082394 div.sk-estimator:hover label.sk-toggleable__label-arrow:before {color: black;}#sk-8e61946d-2c6c-4935-84fa-360bc9082394 div.sk-toggleable__content {max-height: 0;max-width: 0;overflow: hidden;text-align: left;background-color: #f0f8ff;}#sk-8e61946d-2c6c-4935-84fa-360bc9082394 div.sk-toggleable__content pre {margin: 0.2em;color: black;border-radius: 0.25em;background-color: #f0f8ff;}#sk-8e61946d-2c6c-4935-84fa-360bc9082394 input.sk-toggleable__control:checked~div.sk-toggleable__content {max-height: 200px;max-width: 100%;overflow: auto;}#sk-8e61946d-2c6c-4935-84fa-360bc9082394 input.sk-toggleable__control:checked~label.sk-toggleable__label-arrow:before {content: \"▾\";}#sk-8e61946d-2c6c-4935-84fa-360bc9082394 div.sk-estimator input.sk-toggleable__control:checked~label.sk-toggleable__label {background-color: #d4ebff;}#sk-8e61946d-2c6c-4935-84fa-360bc9082394 div.sk-label input.sk-toggleable__control:checked~label.sk-toggleable__label {background-color: #d4ebff;}#sk-8e61946d-2c6c-4935-84fa-360bc9082394 input.sk-hidden--visually {border: 0;clip: rect(1px 1px 1px 1px);clip: rect(1px, 1px, 1px, 1px);height: 1px;margin: -1px;overflow: hidden;padding: 0;position: absolute;width: 1px;}#sk-8e61946d-2c6c-4935-84fa-360bc9082394 div.sk-estimator {font-family: monospace;background-color: #f0f8ff;border: 1px dotted black;border-radius: 0.25em;box-sizing: border-box;margin-bottom: 0.5em;}#sk-8e61946d-2c6c-4935-84fa-360bc9082394 div.sk-estimator:hover {background-color: #d4ebff;}#sk-8e61946d-2c6c-4935-84fa-360bc9082394 div.sk-parallel-item::after {content: \"\";width: 100%;border-bottom: 1px solid gray;flex-grow: 1;}#sk-8e61946d-2c6c-4935-84fa-360bc9082394 div.sk-label:hover label.sk-toggleable__label {background-color: #d4ebff;}#sk-8e61946d-2c6c-4935-84fa-360bc9082394 div.sk-serial::before {content: \"\";position: absolute;border-left: 1px solid gray;box-sizing: border-box;top: 2em;bottom: 0;left: 50%;}#sk-8e61946d-2c6c-4935-84fa-360bc9082394 div.sk-serial {display: flex;flex-direction: column;align-items: center;background-color: white;padding-right: 0.2em;padding-left: 0.2em;}#sk-8e61946d-2c6c-4935-84fa-360bc9082394 div.sk-item {z-index: 1;}#sk-8e61946d-2c6c-4935-84fa-360bc9082394 div.sk-parallel {display: flex;align-items: stretch;justify-content: center;background-color: white;}#sk-8e61946d-2c6c-4935-84fa-360bc9082394 div.sk-parallel::before {content: \"\";position: absolute;border-left: 1px solid gray;box-sizing: border-box;top: 2em;bottom: 0;left: 50%;}#sk-8e61946d-2c6c-4935-84fa-360bc9082394 div.sk-parallel-item {display: flex;flex-direction: column;position: relative;background-color: white;}#sk-8e61946d-2c6c-4935-84fa-360bc9082394 div.sk-parallel-item:first-child::after {align-self: flex-end;width: 50%;}#sk-8e61946d-2c6c-4935-84fa-360bc9082394 div.sk-parallel-item:last-child::after {align-self: flex-start;width: 50%;}#sk-8e61946d-2c6c-4935-84fa-360bc9082394 div.sk-parallel-item:only-child::after {width: 0;}#sk-8e61946d-2c6c-4935-84fa-360bc9082394 div.sk-dashed-wrapped {border: 1px dashed gray;margin: 0 0.4em 0.5em 0.4em;box-sizing: border-box;padding-bottom: 0.4em;background-color: white;position: relative;}#sk-8e61946d-2c6c-4935-84fa-360bc9082394 div.sk-label label {font-family: monospace;font-weight: bold;background-color: white;display: inline-block;line-height: 1.2em;}#sk-8e61946d-2c6c-4935-84fa-360bc9082394 div.sk-label-container {position: relative;z-index: 2;text-align: center;}#sk-8e61946d-2c6c-4935-84fa-360bc9082394 div.sk-container {/* jupyter's `normalize.less` sets `[hidden] { display: none; }` but bootstrap.min.css set `[hidden] { display: none !important; }` so we also need the `!important` here to be able to override the default hidden behavior on the sphinx rendered scikit-learn.org. See: https://github.com/scikit-learn/scikit-learn/issues/21755 */display: inline-block !important;position: relative;}#sk-8e61946d-2c6c-4935-84fa-360bc9082394 div.sk-text-repr-fallback {display: none;}</style><div id=\"sk-8e61946d-2c6c-4935-84fa-360bc9082394\" class=\"sk-top-container\"><div class=\"sk-text-repr-fallback\"><pre>GridSearchCV(cv=5,\n",
              "             estimator=Pipeline(steps=[(&#x27;tfidfvectorizer&#x27;,\n",
              "                                        TfidfVectorizer(max_features=500)),\n",
              "                                       (&#x27;maxabsscaler&#x27;, MaxAbsScaler()),\n",
              "                                       (&#x27;kneighborsclassifier&#x27;,\n",
              "                                        KNeighborsClassifier())]),\n",
              "             n_jobs=-1,\n",
              "             param_grid=[{&#x27;kneighborsclassifier__n_neighbors&#x27;: [5, 7, 10],\n",
              "                          &#x27;kneighborsclassifier__weights&#x27;: [&#x27;uniform&#x27;,\n",
              "                                                            &#x27;distance&#x27;],\n",
              "                          &#x27;tfidfvectorizer__analyzer&#x27;: [&#x27;word&#x27;, &#x27;char&#x27;],\n",
              "                          &#x27;tfidfvectorizer__ngram_range&#x27;: [(1, 1), (1, 2),\n",
              "                                                           (2, 4)]}],\n",
              "             scoring=&#x27;f1_macro&#x27;, verbose=1)</pre><b>Please rerun this cell to show the HTML repr or trust the notebook.</b></div><div class=\"sk-container\" hidden><div class=\"sk-item sk-dashed-wrapped\"><div class=\"sk-label-container\"><div class=\"sk-label sk-toggleable\"><input class=\"sk-toggleable__control sk-hidden--visually\" id=\"1c6684be-f2d2-4ec8-b91b-f780a221e930\" type=\"checkbox\" ><label for=\"1c6684be-f2d2-4ec8-b91b-f780a221e930\" class=\"sk-toggleable__label sk-toggleable__label-arrow\">GridSearchCV</label><div class=\"sk-toggleable__content\"><pre>GridSearchCV(cv=5,\n",
              "             estimator=Pipeline(steps=[(&#x27;tfidfvectorizer&#x27;,\n",
              "                                        TfidfVectorizer(max_features=500)),\n",
              "                                       (&#x27;maxabsscaler&#x27;, MaxAbsScaler()),\n",
              "                                       (&#x27;kneighborsclassifier&#x27;,\n",
              "                                        KNeighborsClassifier())]),\n",
              "             n_jobs=-1,\n",
              "             param_grid=[{&#x27;kneighborsclassifier__n_neighbors&#x27;: [5, 7, 10],\n",
              "                          &#x27;kneighborsclassifier__weights&#x27;: [&#x27;uniform&#x27;,\n",
              "                                                            &#x27;distance&#x27;],\n",
              "                          &#x27;tfidfvectorizer__analyzer&#x27;: [&#x27;word&#x27;, &#x27;char&#x27;],\n",
              "                          &#x27;tfidfvectorizer__ngram_range&#x27;: [(1, 1), (1, 2),\n",
              "                                                           (2, 4)]}],\n",
              "             scoring=&#x27;f1_macro&#x27;, verbose=1)</pre></div></div></div><div class=\"sk-parallel\"><div class=\"sk-parallel-item\"><div class=\"sk-item\"><div class=\"sk-serial\"><div class=\"sk-item\"><div class=\"sk-serial\"><div class=\"sk-item\"><div class=\"sk-estimator sk-toggleable\"><input class=\"sk-toggleable__control sk-hidden--visually\" id=\"7f30a83e-532a-46ff-891b-e94d78b20a21\" type=\"checkbox\" ><label for=\"7f30a83e-532a-46ff-891b-e94d78b20a21\" class=\"sk-toggleable__label sk-toggleable__label-arrow\">TfidfVectorizer</label><div class=\"sk-toggleable__content\"><pre>TfidfVectorizer(max_features=500)</pre></div></div></div><div class=\"sk-item\"><div class=\"sk-estimator sk-toggleable\"><input class=\"sk-toggleable__control sk-hidden--visually\" id=\"c0fcdadf-7de9-4e37-9bcf-9a29b4cdcf52\" type=\"checkbox\" ><label for=\"c0fcdadf-7de9-4e37-9bcf-9a29b4cdcf52\" class=\"sk-toggleable__label sk-toggleable__label-arrow\">MaxAbsScaler</label><div class=\"sk-toggleable__content\"><pre>MaxAbsScaler()</pre></div></div></div><div class=\"sk-item\"><div class=\"sk-estimator sk-toggleable\"><input class=\"sk-toggleable__control sk-hidden--visually\" id=\"a5e5e604-862d-4979-abf1-f4af6f909557\" type=\"checkbox\" ><label for=\"a5e5e604-862d-4979-abf1-f4af6f909557\" class=\"sk-toggleable__label sk-toggleable__label-arrow\">KNeighborsClassifier</label><div class=\"sk-toggleable__content\"><pre>KNeighborsClassifier()</pre></div></div></div></div></div></div></div></div></div></div></div></div>"
            ]
          },
          "metadata": {},
          "execution_count": 88
        }
      ]
    },
    {
      "cell_type": "code",
      "source": [
        "knn_gs.best_estimator_"
      ],
      "metadata": {
        "colab": {
          "base_uri": "https://localhost:8080/",
          "height": 161
        },
        "id": "qcTVoWrTKPuz",
        "outputId": "15b91f81-f404-43ee-bb14-13ae933b9a6c"
      },
      "execution_count": 89,
      "outputs": [
        {
          "output_type": "execute_result",
          "data": {
            "text/plain": [
              "Pipeline(steps=[('tfidfvectorizer',\n",
              "                 TfidfVectorizer(analyzer='char', max_features=500,\n",
              "                                 ngram_range=(1, 2))),\n",
              "                ('maxabsscaler', MaxAbsScaler()),\n",
              "                ('kneighborsclassifier',\n",
              "                 KNeighborsClassifier(n_neighbors=7, weights='distance'))])"
            ],
            "text/html": [
              "<style>#sk-6632cfbf-be68-450e-8cba-b98098e4d84a {color: black;background-color: white;}#sk-6632cfbf-be68-450e-8cba-b98098e4d84a pre{padding: 0;}#sk-6632cfbf-be68-450e-8cba-b98098e4d84a div.sk-toggleable {background-color: white;}#sk-6632cfbf-be68-450e-8cba-b98098e4d84a label.sk-toggleable__label {cursor: pointer;display: block;width: 100%;margin-bottom: 0;padding: 0.3em;box-sizing: border-box;text-align: center;}#sk-6632cfbf-be68-450e-8cba-b98098e4d84a label.sk-toggleable__label-arrow:before {content: \"▸\";float: left;margin-right: 0.25em;color: #696969;}#sk-6632cfbf-be68-450e-8cba-b98098e4d84a label.sk-toggleable__label-arrow:hover:before {color: black;}#sk-6632cfbf-be68-450e-8cba-b98098e4d84a div.sk-estimator:hover label.sk-toggleable__label-arrow:before {color: black;}#sk-6632cfbf-be68-450e-8cba-b98098e4d84a div.sk-toggleable__content {max-height: 0;max-width: 0;overflow: hidden;text-align: left;background-color: #f0f8ff;}#sk-6632cfbf-be68-450e-8cba-b98098e4d84a div.sk-toggleable__content pre {margin: 0.2em;color: black;border-radius: 0.25em;background-color: #f0f8ff;}#sk-6632cfbf-be68-450e-8cba-b98098e4d84a input.sk-toggleable__control:checked~div.sk-toggleable__content {max-height: 200px;max-width: 100%;overflow: auto;}#sk-6632cfbf-be68-450e-8cba-b98098e4d84a input.sk-toggleable__control:checked~label.sk-toggleable__label-arrow:before {content: \"▾\";}#sk-6632cfbf-be68-450e-8cba-b98098e4d84a div.sk-estimator input.sk-toggleable__control:checked~label.sk-toggleable__label {background-color: #d4ebff;}#sk-6632cfbf-be68-450e-8cba-b98098e4d84a div.sk-label input.sk-toggleable__control:checked~label.sk-toggleable__label {background-color: #d4ebff;}#sk-6632cfbf-be68-450e-8cba-b98098e4d84a input.sk-hidden--visually {border: 0;clip: rect(1px 1px 1px 1px);clip: rect(1px, 1px, 1px, 1px);height: 1px;margin: -1px;overflow: hidden;padding: 0;position: absolute;width: 1px;}#sk-6632cfbf-be68-450e-8cba-b98098e4d84a div.sk-estimator {font-family: monospace;background-color: #f0f8ff;border: 1px dotted black;border-radius: 0.25em;box-sizing: border-box;margin-bottom: 0.5em;}#sk-6632cfbf-be68-450e-8cba-b98098e4d84a div.sk-estimator:hover {background-color: #d4ebff;}#sk-6632cfbf-be68-450e-8cba-b98098e4d84a div.sk-parallel-item::after {content: \"\";width: 100%;border-bottom: 1px solid gray;flex-grow: 1;}#sk-6632cfbf-be68-450e-8cba-b98098e4d84a div.sk-label:hover label.sk-toggleable__label {background-color: #d4ebff;}#sk-6632cfbf-be68-450e-8cba-b98098e4d84a div.sk-serial::before {content: \"\";position: absolute;border-left: 1px solid gray;box-sizing: border-box;top: 2em;bottom: 0;left: 50%;}#sk-6632cfbf-be68-450e-8cba-b98098e4d84a div.sk-serial {display: flex;flex-direction: column;align-items: center;background-color: white;padding-right: 0.2em;padding-left: 0.2em;}#sk-6632cfbf-be68-450e-8cba-b98098e4d84a div.sk-item {z-index: 1;}#sk-6632cfbf-be68-450e-8cba-b98098e4d84a div.sk-parallel {display: flex;align-items: stretch;justify-content: center;background-color: white;}#sk-6632cfbf-be68-450e-8cba-b98098e4d84a div.sk-parallel::before {content: \"\";position: absolute;border-left: 1px solid gray;box-sizing: border-box;top: 2em;bottom: 0;left: 50%;}#sk-6632cfbf-be68-450e-8cba-b98098e4d84a div.sk-parallel-item {display: flex;flex-direction: column;position: relative;background-color: white;}#sk-6632cfbf-be68-450e-8cba-b98098e4d84a div.sk-parallel-item:first-child::after {align-self: flex-end;width: 50%;}#sk-6632cfbf-be68-450e-8cba-b98098e4d84a div.sk-parallel-item:last-child::after {align-self: flex-start;width: 50%;}#sk-6632cfbf-be68-450e-8cba-b98098e4d84a div.sk-parallel-item:only-child::after {width: 0;}#sk-6632cfbf-be68-450e-8cba-b98098e4d84a div.sk-dashed-wrapped {border: 1px dashed gray;margin: 0 0.4em 0.5em 0.4em;box-sizing: border-box;padding-bottom: 0.4em;background-color: white;position: relative;}#sk-6632cfbf-be68-450e-8cba-b98098e4d84a div.sk-label label {font-family: monospace;font-weight: bold;background-color: white;display: inline-block;line-height: 1.2em;}#sk-6632cfbf-be68-450e-8cba-b98098e4d84a div.sk-label-container {position: relative;z-index: 2;text-align: center;}#sk-6632cfbf-be68-450e-8cba-b98098e4d84a div.sk-container {/* jupyter's `normalize.less` sets `[hidden] { display: none; }` but bootstrap.min.css set `[hidden] { display: none !important; }` so we also need the `!important` here to be able to override the default hidden behavior on the sphinx rendered scikit-learn.org. See: https://github.com/scikit-learn/scikit-learn/issues/21755 */display: inline-block !important;position: relative;}#sk-6632cfbf-be68-450e-8cba-b98098e4d84a div.sk-text-repr-fallback {display: none;}</style><div id=\"sk-6632cfbf-be68-450e-8cba-b98098e4d84a\" class=\"sk-top-container\"><div class=\"sk-text-repr-fallback\"><pre>Pipeline(steps=[(&#x27;tfidfvectorizer&#x27;,\n",
              "                 TfidfVectorizer(analyzer=&#x27;char&#x27;, max_features=500,\n",
              "                                 ngram_range=(1, 2))),\n",
              "                (&#x27;maxabsscaler&#x27;, MaxAbsScaler()),\n",
              "                (&#x27;kneighborsclassifier&#x27;,\n",
              "                 KNeighborsClassifier(n_neighbors=7, weights=&#x27;distance&#x27;))])</pre><b>Please rerun this cell to show the HTML repr or trust the notebook.</b></div><div class=\"sk-container\" hidden><div class=\"sk-item sk-dashed-wrapped\"><div class=\"sk-label-container\"><div class=\"sk-label sk-toggleable\"><input class=\"sk-toggleable__control sk-hidden--visually\" id=\"1b9f633c-8441-49a3-8445-1501c6a1eee6\" type=\"checkbox\" ><label for=\"1b9f633c-8441-49a3-8445-1501c6a1eee6\" class=\"sk-toggleable__label sk-toggleable__label-arrow\">Pipeline</label><div class=\"sk-toggleable__content\"><pre>Pipeline(steps=[(&#x27;tfidfvectorizer&#x27;,\n",
              "                 TfidfVectorizer(analyzer=&#x27;char&#x27;, max_features=500,\n",
              "                                 ngram_range=(1, 2))),\n",
              "                (&#x27;maxabsscaler&#x27;, MaxAbsScaler()),\n",
              "                (&#x27;kneighborsclassifier&#x27;,\n",
              "                 KNeighborsClassifier(n_neighbors=7, weights=&#x27;distance&#x27;))])</pre></div></div></div><div class=\"sk-serial\"><div class=\"sk-item\"><div class=\"sk-estimator sk-toggleable\"><input class=\"sk-toggleable__control sk-hidden--visually\" id=\"6db0a1fc-5c56-4b86-bcc7-c7abf543fdcf\" type=\"checkbox\" ><label for=\"6db0a1fc-5c56-4b86-bcc7-c7abf543fdcf\" class=\"sk-toggleable__label sk-toggleable__label-arrow\">TfidfVectorizer</label><div class=\"sk-toggleable__content\"><pre>TfidfVectorizer(analyzer=&#x27;char&#x27;, max_features=500, ngram_range=(1, 2))</pre></div></div></div><div class=\"sk-item\"><div class=\"sk-estimator sk-toggleable\"><input class=\"sk-toggleable__control sk-hidden--visually\" id=\"b80d780a-0a19-463b-854a-3cf6f1d2ea58\" type=\"checkbox\" ><label for=\"b80d780a-0a19-463b-854a-3cf6f1d2ea58\" class=\"sk-toggleable__label sk-toggleable__label-arrow\">MaxAbsScaler</label><div class=\"sk-toggleable__content\"><pre>MaxAbsScaler()</pre></div></div></div><div class=\"sk-item\"><div class=\"sk-estimator sk-toggleable\"><input class=\"sk-toggleable__control sk-hidden--visually\" id=\"02511753-d9fe-41a0-942b-eb457caa2144\" type=\"checkbox\" ><label for=\"02511753-d9fe-41a0-942b-eb457caa2144\" class=\"sk-toggleable__label sk-toggleable__label-arrow\">KNeighborsClassifier</label><div class=\"sk-toggleable__content\"><pre>KNeighborsClassifier(n_neighbors=7, weights=&#x27;distance&#x27;)</pre></div></div></div></div></div></div></div>"
            ]
          },
          "metadata": {},
          "execution_count": 89
        }
      ]
    },
    {
      "cell_type": "code",
      "source": [
        "knn_gs.best_score_"
      ],
      "metadata": {
        "colab": {
          "base_uri": "https://localhost:8080/"
        },
        "id": "IdjWfuQrKbsM",
        "outputId": "7cad77da-836e-46b2-c5ac-be74b498ca11"
      },
      "execution_count": 90,
      "outputs": [
        {
          "output_type": "execute_result",
          "data": {
            "text/plain": [
              "0.7406277570543677"
            ]
          },
          "metadata": {},
          "execution_count": 90
        }
      ]
    },
    {
      "cell_type": "code",
      "source": [
        "knn_gs.best_params_"
      ],
      "metadata": {
        "colab": {
          "base_uri": "https://localhost:8080/"
        },
        "id": "WB-KcutQNaBB",
        "outputId": "a090b91b-79e8-41c9-961e-d4035c2d4b28"
      },
      "execution_count": 91,
      "outputs": [
        {
          "output_type": "execute_result",
          "data": {
            "text/plain": [
              "{'kneighborsclassifier__n_neighbors': 7,\n",
              " 'kneighborsclassifier__weights': 'distance',\n",
              " 'tfidfvectorizer__analyzer': 'char',\n",
              " 'tfidfvectorizer__ngram_range': (1, 2)}"
            ]
          },
          "metadata": {},
          "execution_count": 91
        }
      ]
    },
    {
      "cell_type": "code",
      "source": [
        "y_test_pred_knn = knn_gs.predict(X_test)\n",
        "print(classification_report(y_test, y_test_pred_knn))\n",
        "ConfusionMatrixDisplay.from_predictions(y_test, y_test_pred_knn);"
      ],
      "metadata": {
        "colab": {
          "base_uri": "https://localhost:8080/",
          "height": 444
        },
        "id": "tyd9UfRPKrQQ",
        "outputId": "0e3e69ae-619d-4fea-eb65-5fd8df96524d"
      },
      "execution_count": 92,
      "outputs": [
        {
          "output_type": "stream",
          "name": "stdout",
          "text": [
            "              precision    recall  f1-score   support\n",
            "\n",
            "           0       0.85      0.74      0.79        68\n",
            "           1       0.83      0.91      0.87        97\n",
            "\n",
            "    accuracy                           0.84       165\n",
            "   macro avg       0.84      0.82      0.83       165\n",
            "weighted avg       0.84      0.84      0.83       165\n",
            "\n"
          ]
        },
        {
          "output_type": "display_data",
          "data": {
            "text/plain": [
              "<Figure size 432x288 with 2 Axes>"
            ],
            "image/png": "[encoded data removed]"
          },
          "metadata": {
            "needs_background": "light"
          }
        }
      ]
    },
    {
      "cell_type": "code",
      "source": [
        "x_error = X_test[y_test_pred_knn != y_test]\n",
        "y_error = y_test[y_test_pred_knn != y_test]\n",
        "p_error = y_test_pred_knn[y_test_pred_knn != y_test]\n",
        "\n",
        "x_correct = X_test[y_test_pred_knn == y_test]\n",
        "y_correct = y_test[y_test_pred_knn == y_test]\n",
        "p_correct = y_test_pred_knn[y_test_pred_knn == y_test]"
      ],
      "metadata": {
        "id": "6jyaPoQUM2d2"
      },
      "execution_count": 93,
      "outputs": []
    },
    {
      "cell_type": "code",
      "source": [
        "errordata_knn = {\"Text\": x_error, \"True label\": y_error, \"Predicted label\": p_error}\n",
        "error_knn = pd.DataFrame(data=errordata_knn)\n",
        "\n",
        "error_knn[\"Text length\"] = error_knn[\"Text\"].apply(lambda x: len(x.split(\" \")))\n",
        "average_length = error_knn[\"Text length\"].mean()\n",
        "print(min(error_knn[\"Text length\"]))\n",
        "print(average_length)\n",
        "error_knn"
      ],
      "metadata": {
        "colab": {
          "base_uri": "https://localhost:8080/",
          "height": 933
        },
        "id": "H9KPoc4xPsve",
        "outputId": "21f30935-56ce-45af-ce9a-cf38b87416ad"
      },
      "execution_count": 94,
      "outputs": [
        {
          "output_type": "stream",
          "name": "stdout",
          "text": [
            "38\n",
            "329.51851851851853\n"
          ]
        },
        {
          "output_type": "execute_result",
          "data": {
            "text/plain": [
              "                                                   Text  True label  \\\n",
              "780   Lar Gand was born on Daxam in the 20th century...           0   \n",
              "1226   Courtney Whitmore is a junior member of the J...           0   \n",
              "1034  While performing experiments to contact altern...           0   \n",
              "550   After he was given the technology that kept hi...           0   \n",
              "1344  Ubu is the name given to several men who act a...           0   \n",
              "833   Madame Xanadu was once the sorceress Nimue Inw...           0   \n",
              "893     The origin others know: there are two differ...           0   \n",
              "578   The current Hawkgirl is Kendra Saunders, a you...           0   \n",
              "1036  Born in 1914, Eugene Milton Judd was both a gi...           1   \n",
              "291   After discovering he had developed superpowers...           1   \n",
              "597   Izaya, at this point known as Izaya the Inheri...           0   \n",
              "9     \"Abra Kadabra\" was a criminal time traveler fr...           0   \n",
              "1     He was one of the many prisoners of Indian Hil...           0   \n",
              "568   Harry Osborn is Peter Parker's closest friend....           1   \n",
              "577   After a singularity was accidentally opened ov...           0   \n",
              "1228  Starro refers both to a starfish-shaped alien ...           0   \n",
              "707   Justin Hammer is the CEO of Hammer Industries,...           1   \n",
              "580   Shayera Thal was a police officer on the plane...           0   \n",
              "865   Oldest child of the Royal family of the planet...           0   \n",
              "268   Captain Planet is formed by combining the powe...           1   \n",
              "1367  Arnold Wesker was a mild-mannered, timid and m...           0   \n",
              "1004  Carter Slade (also known as Phantom Rider) was...           1   \n",
              "261   Leonard Snart wasn’t the smartest person ever ...           0   \n",
              "1106  Subject: 89P13 was recovered by alien scientis...           1   \n",
              "1296  Five years into waging his one-man war on the ...           1   \n",
              "621   Helena was once in love and happily engaged to...           0   \n",
              "644    When the forgotten Asgardian god of fear - Od...           1   \n",
              "\n",
              "      Predicted label  Text length  \n",
              "780                 1           98  \n",
              "1226                1          926  \n",
              "1034                1           78  \n",
              "550                 1          385  \n",
              "1344                1           38  \n",
              "833                 1          115  \n",
              "893                 1         1125  \n",
              "578                 1          316  \n",
              "1036                0          296  \n",
              "291                 0           88  \n",
              "597                 1          524  \n",
              "9                   1           62  \n",
              "1                   1          675  \n",
              "568                 0          686  \n",
              "577                 1         1232  \n",
              "1228                1           65  \n",
              "707                 0           75  \n",
              "580                 1           44  \n",
              "865                 1          505  \n",
              "268                 0          680  \n",
              "1367                1          172  \n",
              "1004                0           97  \n",
              "261                 1           59  \n",
              "1106                0           90  \n",
              "1296                0          116  \n",
              "621                 1          132  \n",
              "644                 0          218  "
            ],
            "text/html": [
              "\n",
              "  <div id=\"df-41aad038-5ae8-433e-853e-3f420698a0cb\">\n",
              "    <div class=\"colab-df-container\">\n",
              "      <div>\n",
              "<style scoped>\n",
              "    .dataframe tbody tr th:only-of-type {\n",
              "        vertical-align: middle;\n",
              "    }\n",
              "\n",
              "    .dataframe tbody tr th {\n",
              "        vertical-align: top;\n",
              "    }\n",
              "\n",
              "    .dataframe thead th {\n",
              "        text-align: right;\n",
              "    }\n",
              "</style>\n",
              "<table border=\"1\" class=\"dataframe\">\n",
              "  <thead>\n",
              "    <tr style=\"text-align: right;\">\n",
              "      <th></th>\n",
              "      <th>Text</th>\n",
              "      <th>True label</th>\n",
              "      <th>Predicted label</th>\n",
              "      <th>Text length</th>\n",
              "    </tr>\n",
              "  </thead>\n",
              "  <tbody>\n",
              "    <tr>\n",
              "      <th>780</th>\n",
              "      <td>Lar Gand was born on Daxam in the 20th century...</td>\n",
              "      <td>0</td>\n",
              "      <td>1</td>\n",
              "      <td>98</td>\n",
              "    </tr>\n",
              "    <tr>\n",
              "      <th>1226</th>\n",
              "      <td>Courtney Whitmore is a junior member of the J...</td>\n",
              "      <td>0</td>\n",
              "      <td>1</td>\n",
              "      <td>926</td>\n",
              "    </tr>\n",
              "    <tr>\n",
              "      <th>1034</th>\n",
              "      <td>While performing experiments to contact altern...</td>\n",
              "      <td>0</td>\n",
              "      <td>1</td>\n",
              "      <td>78</td>\n",
              "    </tr>\n",
              "    <tr>\n",
              "      <th>550</th>\n",
              "      <td>After he was given the technology that kept hi...</td>\n",
              "      <td>0</td>\n",
              "      <td>1</td>\n",
              "      <td>385</td>\n",
              "    </tr>\n",
              "    <tr>\n",
              "      <th>1344</th>\n",
              "      <td>Ubu is the name given to several men who act a...</td>\n",
              "      <td>0</td>\n",
              "      <td>1</td>\n",
              "      <td>38</td>\n",
              "    </tr>\n",
              "    <tr>\n",
              "      <th>833</th>\n",
              "      <td>Madame Xanadu was once the sorceress Nimue Inw...</td>\n",
              "      <td>0</td>\n",
              "      <td>1</td>\n",
              "      <td>115</td>\n",
              "    </tr>\n",
              "    <tr>\n",
              "      <th>893</th>\n",
              "      <td>The origin others know: there are two differ...</td>\n",
              "      <td>0</td>\n",
              "      <td>1</td>\n",
              "      <td>1125</td>\n",
              "    </tr>\n",
              "    <tr>\n",
              "      <th>578</th>\n",
              "      <td>The current Hawkgirl is Kendra Saunders, a you...</td>\n",
              "      <td>0</td>\n",
              "      <td>1</td>\n",
              "      <td>316</td>\n",
              "    </tr>\n",
              "    <tr>\n",
              "      <th>1036</th>\n",
              "      <td>Born in 1914, Eugene Milton Judd was both a gi...</td>\n",
              "      <td>1</td>\n",
              "      <td>0</td>\n",
              "      <td>296</td>\n",
              "    </tr>\n",
              "    <tr>\n",
              "      <th>291</th>\n",
              "      <td>After discovering he had developed superpowers...</td>\n",
              "      <td>1</td>\n",
              "      <td>0</td>\n",
              "      <td>88</td>\n",
              "    </tr>\n",
              "    <tr>\n",
              "      <th>597</th>\n",
              "      <td>Izaya, at this point known as Izaya the Inheri...</td>\n",
              "      <td>0</td>\n",
              "      <td>1</td>\n",
              "      <td>524</td>\n",
              "    </tr>\n",
              "    <tr>\n",
              "      <th>9</th>\n",
              "      <td>\"Abra Kadabra\" was a criminal time traveler fr...</td>\n",
              "      <td>0</td>\n",
              "      <td>1</td>\n",
              "      <td>62</td>\n",
              "    </tr>\n",
              "    <tr>\n",
              "      <th>1</th>\n",
              "      <td>He was one of the many prisoners of Indian Hil...</td>\n",
              "      <td>0</td>\n",
              "      <td>1</td>\n",
              "      <td>675</td>\n",
              "    </tr>\n",
              "    <tr>\n",
              "      <th>568</th>\n",
              "      <td>Harry Osborn is Peter Parker's closest friend....</td>\n",
              "      <td>1</td>\n",
              "      <td>0</td>\n",
              "      <td>686</td>\n",
              "    </tr>\n",
              "    <tr>\n",
              "      <th>577</th>\n",
              "      <td>After a singularity was accidentally opened ov...</td>\n",
              "      <td>0</td>\n",
              "      <td>1</td>\n",
              "      <td>1232</td>\n",
              "    </tr>\n",
              "    <tr>\n",
              "      <th>1228</th>\n",
              "      <td>Starro refers both to a starfish-shaped alien ...</td>\n",
              "      <td>0</td>\n",
              "      <td>1</td>\n",
              "      <td>65</td>\n",
              "    </tr>\n",
              "    <tr>\n",
              "      <th>707</th>\n",
              "      <td>Justin Hammer is the CEO of Hammer Industries,...</td>\n",
              "      <td>1</td>\n",
              "      <td>0</td>\n",
              "      <td>75</td>\n",
              "    </tr>\n",
              "    <tr>\n",
              "      <th>580</th>\n",
              "      <td>Shayera Thal was a police officer on the plane...</td>\n",
              "      <td>0</td>\n",
              "      <td>1</td>\n",
              "      <td>44</td>\n",
              "    </tr>\n",
              "    <tr>\n",
              "      <th>865</th>\n",
              "      <td>Oldest child of the Royal family of the planet...</td>\n",
              "      <td>0</td>\n",
              "      <td>1</td>\n",
              "      <td>505</td>\n",
              "    </tr>\n",
              "    <tr>\n",
              "      <th>268</th>\n",
              "      <td>Captain Planet is formed by combining the powe...</td>\n",
              "      <td>1</td>\n",
              "      <td>0</td>\n",
              "      <td>680</td>\n",
              "    </tr>\n",
              "    <tr>\n",
              "      <th>1367</th>\n",
              "      <td>Arnold Wesker was a mild-mannered, timid and m...</td>\n",
              "      <td>0</td>\n",
              "      <td>1</td>\n",
              "      <td>172</td>\n",
              "    </tr>\n",
              "    <tr>\n",
              "      <th>1004</th>\n",
              "      <td>Carter Slade (also known as Phantom Rider) was...</td>\n",
              "      <td>1</td>\n",
              "      <td>0</td>\n",
              "      <td>97</td>\n",
              "    </tr>\n",
              "    <tr>\n",
              "      <th>261</th>\n",
              "      <td>Leonard Snart wasn’t the smartest person ever ...</td>\n",
              "      <td>0</td>\n",
              "      <td>1</td>\n",
              "      <td>59</td>\n",
              "    </tr>\n",
              "    <tr>\n",
              "      <th>1106</th>\n",
              "      <td>Subject: 89P13 was recovered by alien scientis...</td>\n",
              "      <td>1</td>\n",
              "      <td>0</td>\n",
              "      <td>90</td>\n",
              "    </tr>\n",
              "    <tr>\n",
              "      <th>1296</th>\n",
              "      <td>Five years into waging his one-man war on the ...</td>\n",
              "      <td>1</td>\n",
              "      <td>0</td>\n",
              "      <td>116</td>\n",
              "    </tr>\n",
              "    <tr>\n",
              "      <th>621</th>\n",
              "      <td>Helena was once in love and happily engaged to...</td>\n",
              "      <td>0</td>\n",
              "      <td>1</td>\n",
              "      <td>132</td>\n",
              "    </tr>\n",
              "    <tr>\n",
              "      <th>644</th>\n",
              "      <td>When the forgotten Asgardian god of fear - Od...</td>\n",
              "      <td>1</td>\n",
              "      <td>0</td>\n",
              "      <td>218</td>\n",
              "    </tr>\n",
              "  </tbody>\n",
              "</table>\n",
              "</div>\n",
              "      <button class=\"colab-df-convert\" onclick=\"convertToInteractive('df-41aad038-5ae8-433e-853e-3f420698a0cb')\"\n",
              "              title=\"Convert this dataframe to an interactive table.\"\n",
              "              style=\"display:none;\">\n",
              "        \n",
              "  <svg xmlns=\"http://www.w3.org/2000/svg\" height=\"24px\"viewBox=\"0 0 24 24\"\n",
              "       width=\"24px\">\n",
              "    <path d=\"M0 0h24v24H0V0z\" fill=\"none\"/>\n",
              "    <path d=\"M18.56 5.44l.94 2.06.94-2.06 2.06-.94-2.06-.94-.94-2.06-.94 2.06-2.06.94zm-11 1L8.5 8.5l.94-2.06 2.06-.94-2.06-.94L8.5 2.5l-.94 2.06-2.06.94zm10 10l.94 2.06.94-2.06 2.06-.94-2.06-.94-.94-2.06-.94 2.06-2.06.94z\"/><path d=\"M17.41 7.96l-1.37-1.37c-.4-.4-.92-.59-1.43-.59-.52 0-1.04.2-1.43.59L10.3 9.45l-7.72 7.72c-.78.78-.78 2.05 0 2.83L4 21.41c.39.39.9.59 1.41.59.51 0 1.02-.2 1.41-.59l7.78-7.78 2.81-2.81c.8-.78.8-2.07 0-2.86zM5.41 20L4 18.59l7.72-7.72 1.47 1.35L5.41 20z\"/>\n",
              "  </svg>\n",
              "      </button>\n",
              "      \n",
              "  <style>\n",
              "    .colab-df-container {\n",
              "      display:flex;\n",
              "      flex-wrap:wrap;\n",
              "      gap: 12px;\n",
              "    }\n",
              "\n",
              "    .colab-df-convert {\n",
              "      background-color: #E8F0FE;\n",
              "      border: none;\n",
              "      border-radius: 50%;\n",
              "      cursor: pointer;\n",
              "      display: none;\n",
              "      fill: #1967D2;\n",
              "      height: 32px;\n",
              "      padding: 0 0 0 0;\n",
              "      width: 32px;\n",
              "    }\n",
              "\n",
              "    .colab-df-convert:hover {\n",
              "      background-color: #E2EBFA;\n",
              "      box-shadow: 0px 1px 2px rgba(60, 64, 67, 0.3), 0px 1px 3px 1px rgba(60, 64, 67, 0.15);\n",
              "      fill: #174EA6;\n",
              "    }\n",
              "\n",
              "    [theme=dark] .colab-df-convert {\n",
              "      background-color: #3B4455;\n",
              "      fill: #D2E3FC;\n",
              "    }\n",
              "\n",
              "    [theme=dark] .colab-df-convert:hover {\n",
              "      background-color: #434B5C;\n",
              "      box-shadow: 0px 1px 3px 1px rgba(0, 0, 0, 0.15);\n",
              "      filter: drop-shadow(0px 1px 2px rgba(0, 0, 0, 0.3));\n",
              "      fill: #FFFFFF;\n",
              "    }\n",
              "  </style>\n",
              "\n",
              "      <script>\n",
              "        const buttonEl =\n",
              "          document.querySelector('#df-41aad038-5ae8-433e-853e-3f420698a0cb button.colab-df-convert');\n",
              "        buttonEl.style.display =\n",
              "          google.colab.kernel.accessAllowed ? 'block' : 'none';\n",
              "\n",
              "        async function convertToInteractive(key) {\n",
              "          const element = document.querySelector('#df-41aad038-5ae8-433e-853e-3f420698a0cb');\n",
              "          const dataTable =\n",
              "            await google.colab.kernel.invokeFunction('convertToInteractive',\n",
              "                                                     [key], {});\n",
              "          if (!dataTable) return;\n",
              "\n",
              "          const docLinkHtml = 'Like what you see? Visit the ' +\n",
              "            '<a target=\"_blank\" href=https://colab.research.google.com/notebooks/data_table.ipynb>data table notebook</a>'\n",
              "            + ' to learn more about interactive tables.';\n",
              "          element.innerHTML = '';\n",
              "          dataTable['output_type'] = 'display_data';\n",
              "          await google.colab.output.renderOutput(dataTable, element);\n",
              "          const docLink = document.createElement('div');\n",
              "          docLink.innerHTML = docLinkHtml;\n",
              "          element.appendChild(docLink);\n",
              "        }\n",
              "      </script>\n",
              "    </div>\n",
              "  </div>\n",
              "  "
            ]
          },
          "metadata": {},
          "execution_count": 94
        }
      ]
    },
    {
      "cell_type": "code",
      "source": [
        "correctdata_knn = {\"Text\": x_correct, \"True label\": y_correct, \"Predicted label\": p_correct}\n",
        "correct_knn = pd.DataFrame(data=correctdata_knn)\n",
        "\n",
        "correct_knn[\"Text length\"] = correct_knn[\"Text\"].apply(lambda x: len(x.split(\" \")))\n",
        "average_length = correct_knn[\"Text length\"].mean()\n",
        "print(min(correct_knn[\"Text length\"]))\n",
        "print(average_length)\n",
        "correct_knn"
      ],
      "metadata": {
        "colab": {
          "base_uri": "https://localhost:8080/",
          "height": 461
        },
        "id": "mbrNi8x7TLoa",
        "outputId": "2158d5f2-da5c-4033-fccd-df0a2cdb603b"
      },
      "execution_count": 95,
      "outputs": [
        {
          "output_type": "stream",
          "name": "stdout",
          "text": [
            "1\n",
            "650.4202898550725\n"
          ]
        },
        {
          "output_type": "execute_result",
          "data": {
            "text/plain": [
              "                                                   Text  True label  \\\n",
              "330   Crystalia \"Crystal\" Amaquelin is the princess ...           1   \n",
              "1340  Gotham City District Attorney Harvey Dent was ...           0   \n",
              "722   Karnak Mander-Azur is the second son of an Inh...           1   \n",
              "725   Tatsu Yamashiro is Katana, a Japanese sword-wi...           0   \n",
              "340     Scott Summers was the first of two sons born...           1   \n",
              "...                                                 ...         ...   \n",
              "1210  Richard Parker was a scientist who was working...           1   \n",
              "144   Helena Wayne is the daughter of Bruce Wayne an...           0   \n",
              "462    Sam Wilson grew up in a tough Harlem neighbor...           1   \n",
              "534   Grant Douglas Ward grew up in Massachusetts an...           1   \n",
              "1294  Sergei Krylov is one of the most influential R...           1   \n",
              "\n",
              "      Predicted label  Text length  \n",
              "330                 1          110  \n",
              "1340                0          904  \n",
              "722                 1          112  \n",
              "725                 0           51  \n",
              "340                 1         1224  \n",
              "...               ...          ...  \n",
              "1210                1          242  \n",
              "144                 0           77  \n",
              "462                 1          595  \n",
              "534                 1           87  \n",
              "1294                1           56  \n",
              "\n",
              "[138 rows x 4 columns]"
            ],
            "text/html": [
              "\n",
              "  <div id=\"df-60ae1a7b-bfb7-4a98-9aae-3c5ee7314aa8\">\n",
              "    <div class=\"colab-df-container\">\n",
              "      <div>\n",
              "<style scoped>\n",
              "    .dataframe tbody tr th:only-of-type {\n",
              "        vertical-align: middle;\n",
              "    }\n",
              "\n",
              "    .dataframe tbody tr th {\n",
              "        vertical-align: top;\n",
              "    }\n",
              "\n",
              "    .dataframe thead th {\n",
              "        text-align: right;\n",
              "    }\n",
              "</style>\n",
              "<table border=\"1\" class=\"dataframe\">\n",
              "  <thead>\n",
              "    <tr style=\"text-align: right;\">\n",
              "      <th></th>\n",
              "      <th>Text</th>\n",
              "      <th>True label</th>\n",
              "      <th>Predicted label</th>\n",
              "      <th>Text length</th>\n",
              "    </tr>\n",
              "  </thead>\n",
              "  <tbody>\n",
              "    <tr>\n",
              "      <th>330</th>\n",
              "      <td>Crystalia \"Crystal\" Amaquelin is the princess ...</td>\n",
              "      <td>1</td>\n",
              "      <td>1</td>\n",
              "      <td>110</td>\n",
              "    </tr>\n",
              "    <tr>\n",
              "      <th>1340</th>\n",
              "      <td>Gotham City District Attorney Harvey Dent was ...</td>\n",
              "      <td>0</td>\n",
              "      <td>0</td>\n",
              "      <td>904</td>\n",
              "    </tr>\n",
              "    <tr>\n",
              "      <th>722</th>\n",
              "      <td>Karnak Mander-Azur is the second son of an Inh...</td>\n",
              "      <td>1</td>\n",
              "      <td>1</td>\n",
              "      <td>112</td>\n",
              "    </tr>\n",
              "    <tr>\n",
              "      <th>725</th>\n",
              "      <td>Tatsu Yamashiro is Katana, a Japanese sword-wi...</td>\n",
              "      <td>0</td>\n",
              "      <td>0</td>\n",
              "      <td>51</td>\n",
              "    </tr>\n",
              "    <tr>\n",
              "      <th>340</th>\n",
              "      <td>Scott Summers was the first of two sons born...</td>\n",
              "      <td>1</td>\n",
              "      <td>1</td>\n",
              "      <td>1224</td>\n",
              "    </tr>\n",
              "    <tr>\n",
              "      <th>...</th>\n",
              "      <td>...</td>\n",
              "      <td>...</td>\n",
              "      <td>...</td>\n",
              "      <td>...</td>\n",
              "    </tr>\n",
              "    <tr>\n",
              "      <th>1210</th>\n",
              "      <td>Richard Parker was a scientist who was working...</td>\n",
              "      <td>1</td>\n",
              "      <td>1</td>\n",
              "      <td>242</td>\n",
              "    </tr>\n",
              "    <tr>\n",
              "      <th>144</th>\n",
              "      <td>Helena Wayne is the daughter of Bruce Wayne an...</td>\n",
              "      <td>0</td>\n",
              "      <td>0</td>\n",
              "      <td>77</td>\n",
              "    </tr>\n",
              "    <tr>\n",
              "      <th>462</th>\n",
              "      <td>Sam Wilson grew up in a tough Harlem neighbor...</td>\n",
              "      <td>1</td>\n",
              "      <td>1</td>\n",
              "      <td>595</td>\n",
              "    </tr>\n",
              "    <tr>\n",
              "      <th>534</th>\n",
              "      <td>Grant Douglas Ward grew up in Massachusetts an...</td>\n",
              "      <td>1</td>\n",
              "      <td>1</td>\n",
              "      <td>87</td>\n",
              "    </tr>\n",
              "    <tr>\n",
              "      <th>1294</th>\n",
              "      <td>Sergei Krylov is one of the most influential R...</td>\n",
              "      <td>1</td>\n",
              "      <td>1</td>\n",
              "      <td>56</td>\n",
              "    </tr>\n",
              "  </tbody>\n",
              "</table>\n",
              "<p>138 rows × 4 columns</p>\n",
              "</div>\n",
              "      <button class=\"colab-df-convert\" onclick=\"convertToInteractive('df-60ae1a7b-bfb7-4a98-9aae-3c5ee7314aa8')\"\n",
              "              title=\"Convert this dataframe to an interactive table.\"\n",
              "              style=\"display:none;\">\n",
              "        \n",
              "  <svg xmlns=\"http://www.w3.org/2000/svg\" height=\"24px\"viewBox=\"0 0 24 24\"\n",
              "       width=\"24px\">\n",
              "    <path d=\"M0 0h24v24H0V0z\" fill=\"none\"/>\n",
              "    <path d=\"M18.56 5.44l.94 2.06.94-2.06 2.06-.94-2.06-.94-.94-2.06-.94 2.06-2.06.94zm-11 1L8.5 8.5l.94-2.06 2.06-.94-2.06-.94L8.5 2.5l-.94 2.06-2.06.94zm10 10l.94 2.06.94-2.06 2.06-.94-2.06-.94-.94-2.06-.94 2.06-2.06.94z\"/><path d=\"M17.41 7.96l-1.37-1.37c-.4-.4-.92-.59-1.43-.59-.52 0-1.04.2-1.43.59L10.3 9.45l-7.72 7.72c-.78.78-.78 2.05 0 2.83L4 21.41c.39.39.9.59 1.41.59.51 0 1.02-.2 1.41-.59l7.78-7.78 2.81-2.81c.8-.78.8-2.07 0-2.86zM5.41 20L4 18.59l7.72-7.72 1.47 1.35L5.41 20z\"/>\n",
              "  </svg>\n",
              "      </button>\n",
              "      \n",
              "  <style>\n",
              "    .colab-df-container {\n",
              "      display:flex;\n",
              "      flex-wrap:wrap;\n",
              "      gap: 12px;\n",
              "    }\n",
              "\n",
              "    .colab-df-convert {\n",
              "      background-color: #E8F0FE;\n",
              "      border: none;\n",
              "      border-radius: 50%;\n",
              "      cursor: pointer;\n",
              "      display: none;\n",
              "      fill: #1967D2;\n",
              "      height: 32px;\n",
              "      padding: 0 0 0 0;\n",
              "      width: 32px;\n",
              "    }\n",
              "\n",
              "    .colab-df-convert:hover {\n",
              "      background-color: #E2EBFA;\n",
              "      box-shadow: 0px 1px 2px rgba(60, 64, 67, 0.3), 0px 1px 3px 1px rgba(60, 64, 67, 0.15);\n",
              "      fill: #174EA6;\n",
              "    }\n",
              "\n",
              "    [theme=dark] .colab-df-convert {\n",
              "      background-color: #3B4455;\n",
              "      fill: #D2E3FC;\n",
              "    }\n",
              "\n",
              "    [theme=dark] .colab-df-convert:hover {\n",
              "      background-color: #434B5C;\n",
              "      box-shadow: 0px 1px 3px 1px rgba(0, 0, 0, 0.15);\n",
              "      filter: drop-shadow(0px 1px 2px rgba(0, 0, 0, 0.3));\n",
              "      fill: #FFFFFF;\n",
              "    }\n",
              "  </style>\n",
              "\n",
              "      <script>\n",
              "        const buttonEl =\n",
              "          document.querySelector('#df-60ae1a7b-bfb7-4a98-9aae-3c5ee7314aa8 button.colab-df-convert');\n",
              "        buttonEl.style.display =\n",
              "          google.colab.kernel.accessAllowed ? 'block' : 'none';\n",
              "\n",
              "        async function convertToInteractive(key) {\n",
              "          const element = document.querySelector('#df-60ae1a7b-bfb7-4a98-9aae-3c5ee7314aa8');\n",
              "          const dataTable =\n",
              "            await google.colab.kernel.invokeFunction('convertToInteractive',\n",
              "                                                     [key], {});\n",
              "          if (!dataTable) return;\n",
              "\n",
              "          const docLinkHtml = 'Like what you see? Visit the ' +\n",
              "            '<a target=\"_blank\" href=https://colab.research.google.com/notebooks/data_table.ipynb>data table notebook</a>'\n",
              "            + ' to learn more about interactive tables.';\n",
              "          element.innerHTML = '';\n",
              "          dataTable['output_type'] = 'display_data';\n",
              "          await google.colab.output.renderOutput(dataTable, element);\n",
              "          const docLink = document.createElement('div');\n",
              "          docLink.innerHTML = docLinkHtml;\n",
              "          element.appendChild(docLink);\n",
              "        }\n",
              "      </script>\n",
              "    </div>\n",
              "  </div>\n",
              "  "
            ]
          },
          "metadata": {},
          "execution_count": 95
        }
      ]
    },
    {
      "cell_type": "markdown",
      "source": [
        "## 2.2 Support Vector Machines"
      ],
      "metadata": {
        "id": "jUYz4NIJ0aBI"
      }
    },
    {
      "cell_type": "code",
      "source": [
        "print(svm_pipe.named_steps, \"\\n\")\n",
        "pp.pprint(sorted(svm_pipe.get_params().keys()))"
      ],
      "metadata": {
        "colab": {
          "base_uri": "https://localhost:8080/"
        },
        "id": "4QbZTINo0iWf",
        "outputId": "56bcd55d-5d59-4b30-d3fd-918f4731e9cf"
      },
      "execution_count": 96,
      "outputs": [
        {
          "output_type": "stream",
          "name": "stdout",
          "text": [
            "{'tfidfvectorizer': TfidfVectorizer(max_features=500), 'maxabsscaler': MaxAbsScaler(), 'svc': SVC(random_state=32)} \n",
            "\n",
            "['maxabsscaler',\n",
            " 'maxabsscaler__copy',\n",
            " 'memory',\n",
            " 'steps',\n",
            " 'svc',\n",
            " 'svc__C',\n",
            " 'svc__break_ties',\n",
            " 'svc__cache_size',\n",
            " 'svc__class_weight',\n",
            " 'svc__coef0',\n",
            " 'svc__decision_function_shape',\n",
            " 'svc__degree',\n",
            " 'svc__gamma',\n",
            " 'svc__kernel',\n",
            " 'svc__max_iter',\n",
            " 'svc__probability',\n",
            " 'svc__random_state',\n",
            " 'svc__shrinking',\n",
            " 'svc__tol',\n",
            " 'svc__verbose',\n",
            " 'tfidfvectorizer',\n",
            " 'tfidfvectorizer__analyzer',\n",
            " 'tfidfvectorizer__binary',\n",
            " 'tfidfvectorizer__decode_error',\n",
            " 'tfidfvectorizer__dtype',\n",
            " 'tfidfvectorizer__encoding',\n",
            " 'tfidfvectorizer__input',\n",
            " 'tfidfvectorizer__lowercase',\n",
            " 'tfidfvectorizer__max_df',\n",
            " 'tfidfvectorizer__max_features',\n",
            " 'tfidfvectorizer__min_df',\n",
            " 'tfidfvectorizer__ngram_range',\n",
            " 'tfidfvectorizer__norm',\n",
            " 'tfidfvectorizer__preprocessor',\n",
            " 'tfidfvectorizer__smooth_idf',\n",
            " 'tfidfvectorizer__stop_words',\n",
            " 'tfidfvectorizer__strip_accents',\n",
            " 'tfidfvectorizer__sublinear_tf',\n",
            " 'tfidfvectorizer__token_pattern',\n",
            " 'tfidfvectorizer__tokenizer',\n",
            " 'tfidfvectorizer__use_idf',\n",
            " 'tfidfvectorizer__vocabulary',\n",
            " 'verbose']\n"
          ]
        }
      ]
    },
    {
      "cell_type": "code",
      "source": [
        "svm_params = [{\n",
        "    \"tfidfvectorizer__analyzer\": [\"word\", \"char\"],\n",
        "    \"tfidfvectorizer__ngram_range\": [(1, 1), (1, 2), (2,4)],\n",
        "    \"svc__C\": [0.1, 1, 10],\n",
        "    \"svc__gamma\": [0.01, 0.1, 1],\n",
        "    \"svc__kernel\": [\"rbf\", \"sigmoid\", \"linear\"]\n",
        "    }]"
      ],
      "metadata": {
        "id": "XcjihYNN0sZL"
      },
      "execution_count": 97,
      "outputs": []
    },
    {
      "cell_type": "code",
      "source": [
        "svm_gs = GridSearchCV(svm_pipe, svm_params, cv=5, scoring='f1_macro', n_jobs=-1, refit=True, verbose=1)\n",
        "svm_gs.fit(X_train, y_train)"
      ],
      "metadata": {
        "colab": {
          "base_uri": "https://localhost:8080/",
          "height": 180
        },
        "id": "AOmrnBe56Jxq",
        "outputId": "a92a1a01-09d0-4a2c-8af2-5e18e4b3470c"
      },
      "execution_count": 98,
      "outputs": [
        {
          "output_type": "stream",
          "name": "stdout",
          "text": [
            "Fitting 5 folds for each of 162 candidates, totalling 810 fits\n"
          ]
        },
        {
          "output_type": "execute_result",
          "data": {
            "text/plain": [
              "GridSearchCV(cv=5,\n",
              "             estimator=Pipeline(steps=[('tfidfvectorizer',\n",
              "                                        TfidfVectorizer(max_features=500)),\n",
              "                                       ('maxabsscaler', MaxAbsScaler()),\n",
              "                                       ('svc', SVC(random_state=32))]),\n",
              "             n_jobs=-1,\n",
              "             param_grid=[{'svc__C': [0.1, 1, 10], 'svc__gamma': [0.01, 0.1, 1],\n",
              "                          'svc__kernel': ['rbf', 'sigmoid', 'linear'],\n",
              "                          'tfidfvectorizer__analyzer': ['word', 'char'],\n",
              "                          'tfidfvectorizer__ngram_range': [(1, 1), (1, 2),\n",
              "                                                           (2, 4)]}],\n",
              "             scoring='f1_macro', verbose=1)"
            ],
            "text/html": [
              "<style>#sk-fce48410-a7a7-4029-9a1e-185708641e25 {color: black;background-color: white;}#sk-fce48410-a7a7-4029-9a1e-185708641e25 pre{padding: 0;}#sk-fce48410-a7a7-4029-9a1e-185708641e25 div.sk-toggleable {background-color: white;}#sk-fce48410-a7a7-4029-9a1e-185708641e25 label.sk-toggleable__label {cursor: pointer;display: block;width: 100%;margin-bottom: 0;padding: 0.3em;box-sizing: border-box;text-align: center;}#sk-fce48410-a7a7-4029-9a1e-185708641e25 label.sk-toggleable__label-arrow:before {content: \"▸\";float: left;margin-right: 0.25em;color: #696969;}#sk-fce48410-a7a7-4029-9a1e-185708641e25 label.sk-toggleable__label-arrow:hover:before {color: black;}#sk-fce48410-a7a7-4029-9a1e-185708641e25 div.sk-estimator:hover label.sk-toggleable__label-arrow:before {color: black;}#sk-fce48410-a7a7-4029-9a1e-185708641e25 div.sk-toggleable__content {max-height: 0;max-width: 0;overflow: hidden;text-align: left;background-color: #f0f8ff;}#sk-fce48410-a7a7-4029-9a1e-185708641e25 div.sk-toggleable__content pre {margin: 0.2em;color: black;border-radius: 0.25em;background-color: #f0f8ff;}#sk-fce48410-a7a7-4029-9a1e-185708641e25 input.sk-toggleable__control:checked~div.sk-toggleable__content {max-height: 200px;max-width: 100%;overflow: auto;}#sk-fce48410-a7a7-4029-9a1e-185708641e25 input.sk-toggleable__control:checked~label.sk-toggleable__label-arrow:before {content: \"▾\";}#sk-fce48410-a7a7-4029-9a1e-185708641e25 div.sk-estimator input.sk-toggleable__control:checked~label.sk-toggleable__label {background-color: #d4ebff;}#sk-fce48410-a7a7-4029-9a1e-185708641e25 div.sk-label input.sk-toggleable__control:checked~label.sk-toggleable__label {background-color: #d4ebff;}#sk-fce48410-a7a7-4029-9a1e-185708641e25 input.sk-hidden--visually {border: 0;clip: rect(1px 1px 1px 1px);clip: rect(1px, 1px, 1px, 1px);height: 1px;margin: -1px;overflow: hidden;padding: 0;position: absolute;width: 1px;}#sk-fce48410-a7a7-4029-9a1e-185708641e25 div.sk-estimator {font-family: monospace;background-color: #f0f8ff;border: 1px dotted black;border-radius: 0.25em;box-sizing: border-box;margin-bottom: 0.5em;}#sk-fce48410-a7a7-4029-9a1e-185708641e25 div.sk-estimator:hover {background-color: #d4ebff;}#sk-fce48410-a7a7-4029-9a1e-185708641e25 div.sk-parallel-item::after {content: \"\";width: 100%;border-bottom: 1px solid gray;flex-grow: 1;}#sk-fce48410-a7a7-4029-9a1e-185708641e25 div.sk-label:hover label.sk-toggleable__label {background-color: #d4ebff;}#sk-fce48410-a7a7-4029-9a1e-185708641e25 div.sk-serial::before {content: \"\";position: absolute;border-left: 1px solid gray;box-sizing: border-box;top: 2em;bottom: 0;left: 50%;}#sk-fce48410-a7a7-4029-9a1e-185708641e25 div.sk-serial {display: flex;flex-direction: column;align-items: center;background-color: white;padding-right: 0.2em;padding-left: 0.2em;}#sk-fce48410-a7a7-4029-9a1e-185708641e25 div.sk-item {z-index: 1;}#sk-fce48410-a7a7-4029-9a1e-185708641e25 div.sk-parallel {display: flex;align-items: stretch;justify-content: center;background-color: white;}#sk-fce48410-a7a7-4029-9a1e-185708641e25 div.sk-parallel::before {content: \"\";position: absolute;border-left: 1px solid gray;box-sizing: border-box;top: 2em;bottom: 0;left: 50%;}#sk-fce48410-a7a7-4029-9a1e-185708641e25 div.sk-parallel-item {display: flex;flex-direction: column;position: relative;background-color: white;}#sk-fce48410-a7a7-4029-9a1e-185708641e25 div.sk-parallel-item:first-child::after {align-self: flex-end;width: 50%;}#sk-fce48410-a7a7-4029-9a1e-185708641e25 div.sk-parallel-item:last-child::after {align-self: flex-start;width: 50%;}#sk-fce48410-a7a7-4029-9a1e-185708641e25 div.sk-parallel-item:only-child::after {width: 0;}#sk-fce48410-a7a7-4029-9a1e-185708641e25 div.sk-dashed-wrapped {border: 1px dashed gray;margin: 0 0.4em 0.5em 0.4em;box-sizing: border-box;padding-bottom: 0.4em;background-color: white;position: relative;}#sk-fce48410-a7a7-4029-9a1e-185708641e25 div.sk-label label {font-family: monospace;font-weight: bold;background-color: white;display: inline-block;line-height: 1.2em;}#sk-fce48410-a7a7-4029-9a1e-185708641e25 div.sk-label-container {position: relative;z-index: 2;text-align: center;}#sk-fce48410-a7a7-4029-9a1e-185708641e25 div.sk-container {/* jupyter's `normalize.less` sets `[hidden] { display: none; }` but bootstrap.min.css set `[hidden] { display: none !important; }` so we also need the `!important` here to be able to override the default hidden behavior on the sphinx rendered scikit-learn.org. See: https://github.com/scikit-learn/scikit-learn/issues/21755 */display: inline-block !important;position: relative;}#sk-fce48410-a7a7-4029-9a1e-185708641e25 div.sk-text-repr-fallback {display: none;}</style><div id=\"sk-fce48410-a7a7-4029-9a1e-185708641e25\" class=\"sk-top-container\"><div class=\"sk-text-repr-fallback\"><pre>GridSearchCV(cv=5,\n",
              "             estimator=Pipeline(steps=[(&#x27;tfidfvectorizer&#x27;,\n",
              "                                        TfidfVectorizer(max_features=500)),\n",
              "                                       (&#x27;maxabsscaler&#x27;, MaxAbsScaler()),\n",
              "                                       (&#x27;svc&#x27;, SVC(random_state=32))]),\n",
              "             n_jobs=-1,\n",
              "             param_grid=[{&#x27;svc__C&#x27;: [0.1, 1, 10], &#x27;svc__gamma&#x27;: [0.01, 0.1, 1],\n",
              "                          &#x27;svc__kernel&#x27;: [&#x27;rbf&#x27;, &#x27;sigmoid&#x27;, &#x27;linear&#x27;],\n",
              "                          &#x27;tfidfvectorizer__analyzer&#x27;: [&#x27;word&#x27;, &#x27;char&#x27;],\n",
              "                          &#x27;tfidfvectorizer__ngram_range&#x27;: [(1, 1), (1, 2),\n",
              "                                                           (2, 4)]}],\n",
              "             scoring=&#x27;f1_macro&#x27;, verbose=1)</pre><b>Please rerun this cell to show the HTML repr or trust the notebook.</b></div><div class=\"sk-container\" hidden><div class=\"sk-item sk-dashed-wrapped\"><div class=\"sk-label-container\"><div class=\"sk-label sk-toggleable\"><input class=\"sk-toggleable__control sk-hidden--visually\" id=\"87e69272-d136-4526-8e7a-8e7fa761fedc\" type=\"checkbox\" ><label for=\"87e69272-d136-4526-8e7a-8e7fa761fedc\" class=\"sk-toggleable__label sk-toggleable__label-arrow\">GridSearchCV</label><div class=\"sk-toggleable__content\"><pre>GridSearchCV(cv=5,\n",
              "             estimator=Pipeline(steps=[(&#x27;tfidfvectorizer&#x27;,\n",
              "                                        TfidfVectorizer(max_features=500)),\n",
              "                                       (&#x27;maxabsscaler&#x27;, MaxAbsScaler()),\n",
              "                                       (&#x27;svc&#x27;, SVC(random_state=32))]),\n",
              "             n_jobs=-1,\n",
              "             param_grid=[{&#x27;svc__C&#x27;: [0.1, 1, 10], &#x27;svc__gamma&#x27;: [0.01, 0.1, 1],\n",
              "                          &#x27;svc__kernel&#x27;: [&#x27;rbf&#x27;, &#x27;sigmoid&#x27;, &#x27;linear&#x27;],\n",
              "                          &#x27;tfidfvectorizer__analyzer&#x27;: [&#x27;word&#x27;, &#x27;char&#x27;],\n",
              "                          &#x27;tfidfvectorizer__ngram_range&#x27;: [(1, 1), (1, 2),\n",
              "                                                           (2, 4)]}],\n",
              "             scoring=&#x27;f1_macro&#x27;, verbose=1)</pre></div></div></div><div class=\"sk-parallel\"><div class=\"sk-parallel-item\"><div class=\"sk-item\"><div class=\"sk-serial\"><div class=\"sk-item\"><div class=\"sk-serial\"><div class=\"sk-item\"><div class=\"sk-estimator sk-toggleable\"><input class=\"sk-toggleable__control sk-hidden--visually\" id=\"f848ae22-1bc3-4ca0-8db6-163f5ce5d72c\" type=\"checkbox\" ><label for=\"f848ae22-1bc3-4ca0-8db6-163f5ce5d72c\" class=\"sk-toggleable__label sk-toggleable__label-arrow\">TfidfVectorizer</label><div class=\"sk-toggleable__content\"><pre>TfidfVectorizer(max_features=500)</pre></div></div></div><div class=\"sk-item\"><div class=\"sk-estimator sk-toggleable\"><input class=\"sk-toggleable__control sk-hidden--visually\" id=\"bd0e38e8-e6a6-4a2a-b625-8453c76eaf40\" type=\"checkbox\" ><label for=\"bd0e38e8-e6a6-4a2a-b625-8453c76eaf40\" class=\"sk-toggleable__label sk-toggleable__label-arrow\">MaxAbsScaler</label><div class=\"sk-toggleable__content\"><pre>MaxAbsScaler()</pre></div></div></div><div class=\"sk-item\"><div class=\"sk-estimator sk-toggleable\"><input class=\"sk-toggleable__control sk-hidden--visually\" id=\"20db8847-c3dd-48e5-997c-6a95160b1a0a\" type=\"checkbox\" ><label for=\"20db8847-c3dd-48e5-997c-6a95160b1a0a\" class=\"sk-toggleable__label sk-toggleable__label-arrow\">SVC</label><div class=\"sk-toggleable__content\"><pre>SVC(random_state=32)</pre></div></div></div></div></div></div></div></div></div></div></div></div>"
            ]
          },
          "metadata": {},
          "execution_count": 98
        }
      ]
    },
    {
      "cell_type": "code",
      "source": [
        "svm_gs.best_score_"
      ],
      "metadata": {
        "colab": {
          "base_uri": "https://localhost:8080/"
        },
        "id": "2jt6nxCe6VYw",
        "outputId": "7c2f51b7-1ec1-4da4-a81e-3ef49f8ec0ba"
      },
      "execution_count": 99,
      "outputs": [
        {
          "output_type": "execute_result",
          "data": {
            "text/plain": [
              "0.8469224955424229"
            ]
          },
          "metadata": {},
          "execution_count": 99
        }
      ]
    },
    {
      "cell_type": "code",
      "source": [
        "svm_gs.best_params_"
      ],
      "metadata": {
        "colab": {
          "base_uri": "https://localhost:8080/"
        },
        "id": "c_8vpwGm6U99",
        "outputId": "58ba8d74-fcf4-460d-9594-e491b4e59337"
      },
      "execution_count": 100,
      "outputs": [
        {
          "output_type": "execute_result",
          "data": {
            "text/plain": [
              "{'svc__C': 10,\n",
              " 'svc__gamma': 0.1,\n",
              " 'svc__kernel': 'rbf',\n",
              " 'tfidfvectorizer__analyzer': 'char',\n",
              " 'tfidfvectorizer__ngram_range': (1, 2)}"
            ]
          },
          "metadata": {},
          "execution_count": 100
        }
      ]
    },
    {
      "cell_type": "code",
      "source": [
        "y_test_pred_svm = svm_gs.predict(X_test)\n",
        "print(classification_report(y_test, y_test_pred_svm))\n",
        "ConfusionMatrixDisplay.from_predictions(y_test, y_test_pred_svm);"
      ],
      "metadata": {
        "colab": {
          "base_uri": "https://localhost:8080/",
          "height": 448
        },
        "id": "Hpags3L261py",
        "outputId": "6bbf1796-4acc-4807-eebe-599a8fc4612f"
      },
      "execution_count": 101,
      "outputs": [
        {
          "output_type": "stream",
          "name": "stdout",
          "text": [
            "              precision    recall  f1-score   support\n",
            "\n",
            "           0       0.77      0.85      0.81        68\n",
            "           1       0.89      0.82      0.86        97\n",
            "\n",
            "    accuracy                           0.84       165\n",
            "   macro avg       0.83      0.84      0.83       165\n",
            "weighted avg       0.84      0.84      0.84       165\n",
            "\n"
          ]
        },
        {
          "output_type": "display_data",
          "data": {
            "text/plain": [
              "<Figure size 432x288 with 2 Axes>"
            ],
            "image/png": "[encoded data removed]"
          },
          "metadata": {
            "needs_background": "light"
          }
        }
      ]
    },
    {
      "cell_type": "code",
      "source": [
        "x_error = X_test[y_test_pred_svm != y_test]\n",
        "y_error = y_test[y_test_pred_svm != y_test]\n",
        "p_error = y_test_pred_knn[y_test_pred_svm != y_test]\n",
        "\n",
        "x_correct = X_test[y_test_pred_svm == y_test]\n",
        "y_correct = y_test[y_test_pred_svm == y_test]\n",
        "p_correct = y_test_pred_knn[y_test_pred_svm == y_test]"
      ],
      "metadata": {
        "id": "T8-IQiRe61Yw"
      },
      "execution_count": 102,
      "outputs": []
    },
    {
      "cell_type": "code",
      "source": [
        "errordata_svm = {\"Text\": x_error, \"True label\": y_error, \"Predicted label\": p_error}\n",
        "error_svm = pd.DataFrame(data=errordata_svm)\n",
        "\n",
        "error_svm[\"Text length\"] = error_svm[\"Text\"].apply(lambda x: len(x.split(\" \")))\n",
        "average_length = error_svm[\"Text length\"].mean()\n",
        "print(min(error_svm[\"Text length\"]))\n",
        "print(average_length)\n",
        "error_svm"
      ],
      "metadata": {
        "colab": {
          "base_uri": "https://localhost:8080/",
          "height": 933
        },
        "id": "TbmNhjzY7RSD",
        "outputId": "91d7c236-c878-43c3-ae6c-9b9b0a13907d"
      },
      "execution_count": 103,
      "outputs": [
        {
          "output_type": "stream",
          "name": "stdout",
          "text": [
            "38\n",
            "265.962962962963\n"
          ]
        },
        {
          "output_type": "execute_result",
          "data": {
            "text/plain": [
              "                                                   Text  True label  \\\n",
              "1226   Courtney Whitmore is a junior member of the J...           0   \n",
              "1034  While performing experiments to contact altern...           0   \n",
              "633   Robert Bruce Banner was born on Thursday, Dece...           1   \n",
              "550   After he was given the technology that kept hi...           0   \n",
              "1344  Ubu is the name given to several men who act a...           0   \n",
              "323   This robot construct of the Hulk was created a...           1   \n",
              "893     The origin others know: there are two differ...           0   \n",
              "332   Cull Obsidian was physically the most powerful...           1   \n",
              "301   It is unknown exactly how old Clea is. Faltine...           1   \n",
              "1036  Born in 1914, Eugene Milton Judd was both a gi...           1   \n",
              "291   After discovering he had developed superpowers...           1   \n",
              "904   Morse went to the S.H.I.E.L.D. Academy of Oper...           1   \n",
              "1228  Starro refers both to a starfish-shaped alien ...           0   \n",
              "122   Bat-Cow was originally a cow that was found by...           0   \n",
              "707   Justin Hammer is the CEO of Hammer Industries,...           1   \n",
              "913   Mongul was the tyrannical ruler of Warworld, a...           0   \n",
              "146   Garfield \"Gar\" Logan (born 2003) is a shape-sh...           0   \n",
              "404   Doctor Otto Octavius had relatively benign beg...           1   \n",
              "1004  Carter Slade (also known as Phantom Rider) was...           1   \n",
              "1106  Subject: 89P13 was recovered by alien scientis...           1   \n",
              "222   Walter grew up in British Columbia. He went to...           1   \n",
              "1055  Roy G. Bivolo was a daltonic kid whose parents...           0   \n",
              "247   In 1983, Caliban worked as a dealer in the bla...           1   \n",
              "388   Long ago, the alien race of beings called the ...           1   \n",
              "644    When the forgotten Asgardian god of fear - Od...           1   \n",
              "1062  In the 1800s, Johnny Bart was an orphan who wa...           1   \n",
              "1294  Sergei Krylov is one of the most influential R...           1   \n",
              "\n",
              "      Predicted label  Text length  \n",
              "1226                1          926  \n",
              "1034                1           78  \n",
              "633                 1          309  \n",
              "550                 1          385  \n",
              "1344                1           38  \n",
              "323                 1          100  \n",
              "893                 1         1125  \n",
              "332                 1           82  \n",
              "301                 1          229  \n",
              "1036                0          296  \n",
              "291                 0           88  \n",
              "904                 1          140  \n",
              "1228                1           65  \n",
              "122                 0          165  \n",
              "707                 0           75  \n",
              "913                 0           83  \n",
              "146                 0           80  \n",
              "404                 1          247  \n",
              "1004                0           97  \n",
              "1106                0           90  \n",
              "222                 1          462  \n",
              "1055                0           46  \n",
              "247                 1          125  \n",
              "388                 1         1510  \n",
              "644                 0          218  \n",
              "1062                1           66  \n",
              "1294                1           56  "
            ],
            "text/html": [
              "\n",
              "  <div id=\"df-a3a8a5ee-ed0c-490b-a24c-0d42f3d3bb08\">\n",
              "    <div class=\"colab-df-container\">\n",
              "      <div>\n",
              "<style scoped>\n",
              "    .dataframe tbody tr th:only-of-type {\n",
              "        vertical-align: middle;\n",
              "    }\n",
              "\n",
              "    .dataframe tbody tr th {\n",
              "        vertical-align: top;\n",
              "    }\n",
              "\n",
              "    .dataframe thead th {\n",
              "        text-align: right;\n",
              "    }\n",
              "</style>\n",
              "<table border=\"1\" class=\"dataframe\">\n",
              "  <thead>\n",
              "    <tr style=\"text-align: right;\">\n",
              "      <th></th>\n",
              "      <th>Text</th>\n",
              "      <th>True label</th>\n",
              "      <th>Predicted label</th>\n",
              "      <th>Text length</th>\n",
              "    </tr>\n",
              "  </thead>\n",
              "  <tbody>\n",
              "    <tr>\n",
              "      <th>1226</th>\n",
              "      <td>Courtney Whitmore is a junior member of the J...</td>\n",
              "      <td>0</td>\n",
              "      <td>1</td>\n",
              "      <td>926</td>\n",
              "    </tr>\n",
              "    <tr>\n",
              "      <th>1034</th>\n",
              "      <td>While performing experiments to contact altern...</td>\n",
              "      <td>0</td>\n",
              "      <td>1</td>\n",
              "      <td>78</td>\n",
              "    </tr>\n",
              "    <tr>\n",
              "      <th>633</th>\n",
              "      <td>Robert Bruce Banner was born on Thursday, Dece...</td>\n",
              "      <td>1</td>\n",
              "      <td>1</td>\n",
              "      <td>309</td>\n",
              "    </tr>\n",
              "    <tr>\n",
              "      <th>550</th>\n",
              "      <td>After he was given the technology that kept hi...</td>\n",
              "      <td>0</td>\n",
              "      <td>1</td>\n",
              "      <td>385</td>\n",
              "    </tr>\n",
              "    <tr>\n",
              "      <th>1344</th>\n",
              "      <td>Ubu is the name given to several men who act a...</td>\n",
              "      <td>0</td>\n",
              "      <td>1</td>\n",
              "      <td>38</td>\n",
              "    </tr>\n",
              "    <tr>\n",
              "      <th>323</th>\n",
              "      <td>This robot construct of the Hulk was created a...</td>\n",
              "      <td>1</td>\n",
              "      <td>1</td>\n",
              "      <td>100</td>\n",
              "    </tr>\n",
              "    <tr>\n",
              "      <th>893</th>\n",
              "      <td>The origin others know: there are two differ...</td>\n",
              "      <td>0</td>\n",
              "      <td>1</td>\n",
              "      <td>1125</td>\n",
              "    </tr>\n",
              "    <tr>\n",
              "      <th>332</th>\n",
              "      <td>Cull Obsidian was physically the most powerful...</td>\n",
              "      <td>1</td>\n",
              "      <td>1</td>\n",
              "      <td>82</td>\n",
              "    </tr>\n",
              "    <tr>\n",
              "      <th>301</th>\n",
              "      <td>It is unknown exactly how old Clea is. Faltine...</td>\n",
              "      <td>1</td>\n",
              "      <td>1</td>\n",
              "      <td>229</td>\n",
              "    </tr>\n",
              "    <tr>\n",
              "      <th>1036</th>\n",
              "      <td>Born in 1914, Eugene Milton Judd was both a gi...</td>\n",
              "      <td>1</td>\n",
              "      <td>0</td>\n",
              "      <td>296</td>\n",
              "    </tr>\n",
              "    <tr>\n",
              "      <th>291</th>\n",
              "      <td>After discovering he had developed superpowers...</td>\n",
              "      <td>1</td>\n",
              "      <td>0</td>\n",
              "      <td>88</td>\n",
              "    </tr>\n",
              "    <tr>\n",
              "      <th>904</th>\n",
              "      <td>Morse went to the S.H.I.E.L.D. Academy of Oper...</td>\n",
              "      <td>1</td>\n",
              "      <td>1</td>\n",
              "      <td>140</td>\n",
              "    </tr>\n",
              "    <tr>\n",
              "      <th>1228</th>\n",
              "      <td>Starro refers both to a starfish-shaped alien ...</td>\n",
              "      <td>0</td>\n",
              "      <td>1</td>\n",
              "      <td>65</td>\n",
              "    </tr>\n",
              "    <tr>\n",
              "      <th>122</th>\n",
              "      <td>Bat-Cow was originally a cow that was found by...</td>\n",
              "      <td>0</td>\n",
              "      <td>0</td>\n",
              "      <td>165</td>\n",
              "    </tr>\n",
              "    <tr>\n",
              "      <th>707</th>\n",
              "      <td>Justin Hammer is the CEO of Hammer Industries,...</td>\n",
              "      <td>1</td>\n",
              "      <td>0</td>\n",
              "      <td>75</td>\n",
              "    </tr>\n",
              "    <tr>\n",
              "      <th>913</th>\n",
              "      <td>Mongul was the tyrannical ruler of Warworld, a...</td>\n",
              "      <td>0</td>\n",
              "      <td>0</td>\n",
              "      <td>83</td>\n",
              "    </tr>\n",
              "    <tr>\n",
              "      <th>146</th>\n",
              "      <td>Garfield \"Gar\" Logan (born 2003) is a shape-sh...</td>\n",
              "      <td>0</td>\n",
              "      <td>0</td>\n",
              "      <td>80</td>\n",
              "    </tr>\n",
              "    <tr>\n",
              "      <th>404</th>\n",
              "      <td>Doctor Otto Octavius had relatively benign beg...</td>\n",
              "      <td>1</td>\n",
              "      <td>1</td>\n",
              "      <td>247</td>\n",
              "    </tr>\n",
              "    <tr>\n",
              "      <th>1004</th>\n",
              "      <td>Carter Slade (also known as Phantom Rider) was...</td>\n",
              "      <td>1</td>\n",
              "      <td>0</td>\n",
              "      <td>97</td>\n",
              "    </tr>\n",
              "    <tr>\n",
              "      <th>1106</th>\n",
              "      <td>Subject: 89P13 was recovered by alien scientis...</td>\n",
              "      <td>1</td>\n",
              "      <td>0</td>\n",
              "      <td>90</td>\n",
              "    </tr>\n",
              "    <tr>\n",
              "      <th>222</th>\n",
              "      <td>Walter grew up in British Columbia. He went to...</td>\n",
              "      <td>1</td>\n",
              "      <td>1</td>\n",
              "      <td>462</td>\n",
              "    </tr>\n",
              "    <tr>\n",
              "      <th>1055</th>\n",
              "      <td>Roy G. Bivolo was a daltonic kid whose parents...</td>\n",
              "      <td>0</td>\n",
              "      <td>0</td>\n",
              "      <td>46</td>\n",
              "    </tr>\n",
              "    <tr>\n",
              "      <th>247</th>\n",
              "      <td>In 1983, Caliban worked as a dealer in the bla...</td>\n",
              "      <td>1</td>\n",
              "      <td>1</td>\n",
              "      <td>125</td>\n",
              "    </tr>\n",
              "    <tr>\n",
              "      <th>388</th>\n",
              "      <td>Long ago, the alien race of beings called the ...</td>\n",
              "      <td>1</td>\n",
              "      <td>1</td>\n",
              "      <td>1510</td>\n",
              "    </tr>\n",
              "    <tr>\n",
              "      <th>644</th>\n",
              "      <td>When the forgotten Asgardian god of fear - Od...</td>\n",
              "      <td>1</td>\n",
              "      <td>0</td>\n",
              "      <td>218</td>\n",
              "    </tr>\n",
              "    <tr>\n",
              "      <th>1062</th>\n",
              "      <td>In the 1800s, Johnny Bart was an orphan who wa...</td>\n",
              "      <td>1</td>\n",
              "      <td>1</td>\n",
              "      <td>66</td>\n",
              "    </tr>\n",
              "    <tr>\n",
              "      <th>1294</th>\n",
              "      <td>Sergei Krylov is one of the most influential R...</td>\n",
              "      <td>1</td>\n",
              "      <td>1</td>\n",
              "      <td>56</td>\n",
              "    </tr>\n",
              "  </tbody>\n",
              "</table>\n",
              "</div>\n",
              "      <button class=\"colab-df-convert\" onclick=\"convertToInteractive('df-a3a8a5ee-ed0c-490b-a24c-0d42f3d3bb08')\"\n",
              "              title=\"Convert this dataframe to an interactive table.\"\n",
              "              style=\"display:none;\">\n",
              "        \n",
              "  <svg xmlns=\"http://www.w3.org/2000/svg\" height=\"24px\"viewBox=\"0 0 24 24\"\n",
              "       width=\"24px\">\n",
              "    <path d=\"M0 0h24v24H0V0z\" fill=\"none\"/>\n",
              "    <path d=\"M18.56 5.44l.94 2.06.94-2.06 2.06-.94-2.06-.94-.94-2.06-.94 2.06-2.06.94zm-11 1L8.5 8.5l.94-2.06 2.06-.94-2.06-.94L8.5 2.5l-.94 2.06-2.06.94zm10 10l.94 2.06.94-2.06 2.06-.94-2.06-.94-.94-2.06-.94 2.06-2.06.94z\"/><path d=\"M17.41 7.96l-1.37-1.37c-.4-.4-.92-.59-1.43-.59-.52 0-1.04.2-1.43.59L10.3 9.45l-7.72 7.72c-.78.78-.78 2.05 0 2.83L4 21.41c.39.39.9.59 1.41.59.51 0 1.02-.2 1.41-.59l7.78-7.78 2.81-2.81c.8-.78.8-2.07 0-2.86zM5.41 20L4 18.59l7.72-7.72 1.47 1.35L5.41 20z\"/>\n",
              "  </svg>\n",
              "      </button>\n",
              "      \n",
              "  <style>\n",
              "    .colab-df-container {\n",
              "      display:flex;\n",
              "      flex-wrap:wrap;\n",
              "      gap: 12px;\n",
              "    }\n",
              "\n",
              "    .colab-df-convert {\n",
              "      background-color: #E8F0FE;\n",
              "      border: none;\n",
              "      border-radius: 50%;\n",
              "      cursor: pointer;\n",
              "      display: none;\n",
              "      fill: #1967D2;\n",
              "      height: 32px;\n",
              "      padding: 0 0 0 0;\n",
              "      width: 32px;\n",
              "    }\n",
              "\n",
              "    .colab-df-convert:hover {\n",
              "      background-color: #E2EBFA;\n",
              "      box-shadow: 0px 1px 2px rgba(60, 64, 67, 0.3), 0px 1px 3px 1px rgba(60, 64, 67, 0.15);\n",
              "      fill: #174EA6;\n",
              "    }\n",
              "\n",
              "    [theme=dark] .colab-df-convert {\n",
              "      background-color: #3B4455;\n",
              "      fill: #D2E3FC;\n",
              "    }\n",
              "\n",
              "    [theme=dark] .colab-df-convert:hover {\n",
              "      background-color: #434B5C;\n",
              "      box-shadow: 0px 1px 3px 1px rgba(0, 0, 0, 0.15);\n",
              "      filter: drop-shadow(0px 1px 2px rgba(0, 0, 0, 0.3));\n",
              "      fill: #FFFFFF;\n",
              "    }\n",
              "  </style>\n",
              "\n",
              "      <script>\n",
              "        const buttonEl =\n",
              "          document.querySelector('#df-a3a8a5ee-ed0c-490b-a24c-0d42f3d3bb08 button.colab-df-convert');\n",
              "        buttonEl.style.display =\n",
              "          google.colab.kernel.accessAllowed ? 'block' : 'none';\n",
              "\n",
              "        async function convertToInteractive(key) {\n",
              "          const element = document.querySelector('#df-a3a8a5ee-ed0c-490b-a24c-0d42f3d3bb08');\n",
              "          const dataTable =\n",
              "            await google.colab.kernel.invokeFunction('convertToInteractive',\n",
              "                                                     [key], {});\n",
              "          if (!dataTable) return;\n",
              "\n",
              "          const docLinkHtml = 'Like what you see? Visit the ' +\n",
              "            '<a target=\"_blank\" href=https://colab.research.google.com/notebooks/data_table.ipynb>data table notebook</a>'\n",
              "            + ' to learn more about interactive tables.';\n",
              "          element.innerHTML = '';\n",
              "          dataTable['output_type'] = 'display_data';\n",
              "          await google.colab.output.renderOutput(dataTable, element);\n",
              "          const docLink = document.createElement('div');\n",
              "          docLink.innerHTML = docLinkHtml;\n",
              "          element.appendChild(docLink);\n",
              "        }\n",
              "      </script>\n",
              "    </div>\n",
              "  </div>\n",
              "  "
            ]
          },
          "metadata": {},
          "execution_count": 103
        }
      ]
    },
    {
      "cell_type": "code",
      "source": [
        "correctdata_svm = {\"Text\": x_correct, \"True label\": y_correct, \"Predicted label\": p_correct}\n",
        "correct_svm = pd.DataFrame(data=correctdata_svm)\n",
        "\n",
        "correct_svm[\"Text length\"] = correct_svm[\"Text\"].apply(lambda x: len(x.split(\" \")))\n",
        "average_length = correct_svm[\"Text length\"].mean()\n",
        "print(min(correct_svm[\"Text length\"]))\n",
        "print(average_length)\n",
        "correct_svm"
      ],
      "metadata": {
        "colab": {
          "base_uri": "https://localhost:8080/",
          "height": 461
        },
        "id": "OshhqCYZ7bHV",
        "outputId": "7e9cee13-11ab-4b56-b609-527543b99b43"
      },
      "execution_count": 104,
      "outputs": [
        {
          "output_type": "stream",
          "name": "stdout",
          "text": [
            "1\n",
            "662.8550724637681\n"
          ]
        },
        {
          "output_type": "execute_result",
          "data": {
            "text/plain": [
              "                                                   Text  True label  \\\n",
              "330   Crystalia \"Crystal\" Amaquelin is the princess ...           1   \n",
              "1340  Gotham City District Attorney Harvey Dent was ...           0   \n",
              "722   Karnak Mander-Azur is the second son of an Inh...           1   \n",
              "725   Tatsu Yamashiro is Katana, a Japanese sword-wi...           0   \n",
              "340     Scott Summers was the first of two sons born...           1   \n",
              "...                                                 ...         ...   \n",
              "1050  The ever-optimistic Maxwell Jordan was among t...           1   \n",
              "1210  Richard Parker was a scientist who was working...           1   \n",
              "144   Helena Wayne is the daughter of Bruce Wayne an...           0   \n",
              "462    Sam Wilson grew up in a tough Harlem neighbor...           1   \n",
              "534   Grant Douglas Ward grew up in Massachusetts an...           1   \n",
              "\n",
              "      Predicted label  Text length  \n",
              "330                 1          110  \n",
              "1340                0          904  \n",
              "722                 1          112  \n",
              "725                 0           51  \n",
              "340                 1         1224  \n",
              "...               ...          ...  \n",
              "1050                1          194  \n",
              "1210                1          242  \n",
              "144                 0           77  \n",
              "462                 1          595  \n",
              "534                 1           87  \n",
              "\n",
              "[138 rows x 4 columns]"
            ],
            "text/html": [
              "\n",
              "  <div id=\"df-9bd6c43c-abb5-4548-9502-6713119ff09b\">\n",
              "    <div class=\"colab-df-container\">\n",
              "      <div>\n",
              "<style scoped>\n",
              "    .dataframe tbody tr th:only-of-type {\n",
              "        vertical-align: middle;\n",
              "    }\n",
              "\n",
              "    .dataframe tbody tr th {\n",
              "        vertical-align: top;\n",
              "    }\n",
              "\n",
              "    .dataframe thead th {\n",
              "        text-align: right;\n",
              "    }\n",
              "</style>\n",
              "<table border=\"1\" class=\"dataframe\">\n",
              "  <thead>\n",
              "    <tr style=\"text-align: right;\">\n",
              "      <th></th>\n",
              "      <th>Text</th>\n",
              "      <th>True label</th>\n",
              "      <th>Predicted label</th>\n",
              "      <th>Text length</th>\n",
              "    </tr>\n",
              "  </thead>\n",
              "  <tbody>\n",
              "    <tr>\n",
              "      <th>330</th>\n",
              "      <td>Crystalia \"Crystal\" Amaquelin is the princess ...</td>\n",
              "      <td>1</td>\n",
              "      <td>1</td>\n",
              "      <td>110</td>\n",
              "    </tr>\n",
              "    <tr>\n",
              "      <th>1340</th>\n",
              "      <td>Gotham City District Attorney Harvey Dent was ...</td>\n",
              "      <td>0</td>\n",
              "      <td>0</td>\n",
              "      <td>904</td>\n",
              "    </tr>\n",
              "    <tr>\n",
              "      <th>722</th>\n",
              "      <td>Karnak Mander-Azur is the second son of an Inh...</td>\n",
              "      <td>1</td>\n",
              "      <td>1</td>\n",
              "      <td>112</td>\n",
              "    </tr>\n",
              "    <tr>\n",
              "      <th>725</th>\n",
              "      <td>Tatsu Yamashiro is Katana, a Japanese sword-wi...</td>\n",
              "      <td>0</td>\n",
              "      <td>0</td>\n",
              "      <td>51</td>\n",
              "    </tr>\n",
              "    <tr>\n",
              "      <th>340</th>\n",
              "      <td>Scott Summers was the first of two sons born...</td>\n",
              "      <td>1</td>\n",
              "      <td>1</td>\n",
              "      <td>1224</td>\n",
              "    </tr>\n",
              "    <tr>\n",
              "      <th>...</th>\n",
              "      <td>...</td>\n",
              "      <td>...</td>\n",
              "      <td>...</td>\n",
              "      <td>...</td>\n",
              "    </tr>\n",
              "    <tr>\n",
              "      <th>1050</th>\n",
              "      <td>The ever-optimistic Maxwell Jordan was among t...</td>\n",
              "      <td>1</td>\n",
              "      <td>1</td>\n",
              "      <td>194</td>\n",
              "    </tr>\n",
              "    <tr>\n",
              "      <th>1210</th>\n",
              "      <td>Richard Parker was a scientist who was working...</td>\n",
              "      <td>1</td>\n",
              "      <td>1</td>\n",
              "      <td>242</td>\n",
              "    </tr>\n",
              "    <tr>\n",
              "      <th>144</th>\n",
              "      <td>Helena Wayne is the daughter of Bruce Wayne an...</td>\n",
              "      <td>0</td>\n",
              "      <td>0</td>\n",
              "      <td>77</td>\n",
              "    </tr>\n",
              "    <tr>\n",
              "      <th>462</th>\n",
              "      <td>Sam Wilson grew up in a tough Harlem neighbor...</td>\n",
              "      <td>1</td>\n",
              "      <td>1</td>\n",
              "      <td>595</td>\n",
              "    </tr>\n",
              "    <tr>\n",
              "      <th>534</th>\n",
              "      <td>Grant Douglas Ward grew up in Massachusetts an...</td>\n",
              "      <td>1</td>\n",
              "      <td>1</td>\n",
              "      <td>87</td>\n",
              "    </tr>\n",
              "  </tbody>\n",
              "</table>\n",
              "<p>138 rows × 4 columns</p>\n",
              "</div>\n",
              "      <button class=\"colab-df-convert\" onclick=\"convertToInteractive('df-9bd6c43c-abb5-4548-9502-6713119ff09b')\"\n",
              "              title=\"Convert this dataframe to an interactive table.\"\n",
              "              style=\"display:none;\">\n",
              "        \n",
              "  <svg xmlns=\"http://www.w3.org/2000/svg\" height=\"24px\"viewBox=\"0 0 24 24\"\n",
              "       width=\"24px\">\n",
              "    <path d=\"M0 0h24v24H0V0z\" fill=\"none\"/>\n",
              "    <path d=\"M18.56 5.44l.94 2.06.94-2.06 2.06-.94-2.06-.94-.94-2.06-.94 2.06-2.06.94zm-11 1L8.5 8.5l.94-2.06 2.06-.94-2.06-.94L8.5 2.5l-.94 2.06-2.06.94zm10 10l.94 2.06.94-2.06 2.06-.94-2.06-.94-.94-2.06-.94 2.06-2.06.94z\"/><path d=\"M17.41 7.96l-1.37-1.37c-.4-.4-.92-.59-1.43-.59-.52 0-1.04.2-1.43.59L10.3 9.45l-7.72 7.72c-.78.78-.78 2.05 0 2.83L4 21.41c.39.39.9.59 1.41.59.51 0 1.02-.2 1.41-.59l7.78-7.78 2.81-2.81c.8-.78.8-2.07 0-2.86zM5.41 20L4 18.59l7.72-7.72 1.47 1.35L5.41 20z\"/>\n",
              "  </svg>\n",
              "      </button>\n",
              "      \n",
              "  <style>\n",
              "    .colab-df-container {\n",
              "      display:flex;\n",
              "      flex-wrap:wrap;\n",
              "      gap: 12px;\n",
              "    }\n",
              "\n",
              "    .colab-df-convert {\n",
              "      background-color: #E8F0FE;\n",
              "      border: none;\n",
              "      border-radius: 50%;\n",
              "      cursor: pointer;\n",
              "      display: none;\n",
              "      fill: #1967D2;\n",
              "      height: 32px;\n",
              "      padding: 0 0 0 0;\n",
              "      width: 32px;\n",
              "    }\n",
              "\n",
              "    .colab-df-convert:hover {\n",
              "      background-color: #E2EBFA;\n",
              "      box-shadow: 0px 1px 2px rgba(60, 64, 67, 0.3), 0px 1px 3px 1px rgba(60, 64, 67, 0.15);\n",
              "      fill: #174EA6;\n",
              "    }\n",
              "\n",
              "    [theme=dark] .colab-df-convert {\n",
              "      background-color: #3B4455;\n",
              "      fill: #D2E3FC;\n",
              "    }\n",
              "\n",
              "    [theme=dark] .colab-df-convert:hover {\n",
              "      background-color: #434B5C;\n",
              "      box-shadow: 0px 1px 3px 1px rgba(0, 0, 0, 0.15);\n",
              "      filter: drop-shadow(0px 1px 2px rgba(0, 0, 0, 0.3));\n",
              "      fill: #FFFFFF;\n",
              "    }\n",
              "  </style>\n",
              "\n",
              "      <script>\n",
              "        const buttonEl =\n",
              "          document.querySelector('#df-9bd6c43c-abb5-4548-9502-6713119ff09b button.colab-df-convert');\n",
              "        buttonEl.style.display =\n",
              "          google.colab.kernel.accessAllowed ? 'block' : 'none';\n",
              "\n",
              "        async function convertToInteractive(key) {\n",
              "          const element = document.querySelector('#df-9bd6c43c-abb5-4548-9502-6713119ff09b');\n",
              "          const dataTable =\n",
              "            await google.colab.kernel.invokeFunction('convertToInteractive',\n",
              "                                                     [key], {});\n",
              "          if (!dataTable) return;\n",
              "\n",
              "          const docLinkHtml = 'Like what you see? Visit the ' +\n",
              "            '<a target=\"_blank\" href=https://colab.research.google.com/notebooks/data_table.ipynb>data table notebook</a>'\n",
              "            + ' to learn more about interactive tables.';\n",
              "          element.innerHTML = '';\n",
              "          dataTable['output_type'] = 'display_data';\n",
              "          await google.colab.output.renderOutput(dataTable, element);\n",
              "          const docLink = document.createElement('div');\n",
              "          docLink.innerHTML = docLinkHtml;\n",
              "          element.appendChild(docLink);\n",
              "        }\n",
              "      </script>\n",
              "    </div>\n",
              "  </div>\n",
              "  "
            ]
          },
          "metadata": {},
          "execution_count": 104
        }
      ]
    },
    {
      "cell_type": "markdown",
      "source": [
        "## 2.3 Naive Bayes\n"
      ],
      "metadata": {
        "id": "e__U2oo372zI"
      }
    },
    {
      "cell_type": "code",
      "source": [
        "print(nb_pipe.named_steps, \"\\n\")\n",
        "pp.pprint(sorted(nb_pipe.get_params().keys()))"
      ],
      "metadata": {
        "colab": {
          "base_uri": "https://localhost:8080/"
        },
        "id": "cZ8X7xBx7rV7",
        "outputId": "623e1572-077b-411b-a775-759fdeddae58"
      },
      "execution_count": 105,
      "outputs": [
        {
          "output_type": "stream",
          "name": "stdout",
          "text": [
            "{'tfidfvectorizer': TfidfVectorizer(max_features=500), 'maxabsscaler': MaxAbsScaler(), 'multinomialnb': MultinomialNB()} \n",
            "\n",
            "['maxabsscaler',\n",
            " 'maxabsscaler__copy',\n",
            " 'memory',\n",
            " 'multinomialnb',\n",
            " 'multinomialnb__alpha',\n",
            " 'multinomialnb__class_prior',\n",
            " 'multinomialnb__fit_prior',\n",
            " 'steps',\n",
            " 'tfidfvectorizer',\n",
            " 'tfidfvectorizer__analyzer',\n",
            " 'tfidfvectorizer__binary',\n",
            " 'tfidfvectorizer__decode_error',\n",
            " 'tfidfvectorizer__dtype',\n",
            " 'tfidfvectorizer__encoding',\n",
            " 'tfidfvectorizer__input',\n",
            " 'tfidfvectorizer__lowercase',\n",
            " 'tfidfvectorizer__max_df',\n",
            " 'tfidfvectorizer__max_features',\n",
            " 'tfidfvectorizer__min_df',\n",
            " 'tfidfvectorizer__ngram_range',\n",
            " 'tfidfvectorizer__norm',\n",
            " 'tfidfvectorizer__preprocessor',\n",
            " 'tfidfvectorizer__smooth_idf',\n",
            " 'tfidfvectorizer__stop_words',\n",
            " 'tfidfvectorizer__strip_accents',\n",
            " 'tfidfvectorizer__sublinear_tf',\n",
            " 'tfidfvectorizer__token_pattern',\n",
            " 'tfidfvectorizer__tokenizer',\n",
            " 'tfidfvectorizer__use_idf',\n",
            " 'tfidfvectorizer__vocabulary',\n",
            " 'verbose']\n"
          ]
        }
      ]
    },
    {
      "cell_type": "code",
      "source": [
        "nb_params = [{\n",
        "    \"tfidfvectorizer__analyzer\": [\"word\", \"char\"],\n",
        "    \"tfidfvectorizer__ngram_range\": [(1, 1), (1, 2), (2,4)],\n",
        "    \"multinomialnb__alpha\": [0.5, 1, 10, 100]\n",
        "    }]"
      ],
      "metadata": {
        "id": "fs0C6mq99Aep"
      },
      "execution_count": 106,
      "outputs": []
    },
    {
      "cell_type": "code",
      "source": [
        "nb_gs = GridSearchCV(nb_pipe, nb_params, cv=5, scoring='f1_macro', n_jobs=-1, refit=True, verbose=1)\n",
        "nb_gs.fit(X_train, y_train)"
      ],
      "metadata": {
        "colab": {
          "base_uri": "https://localhost:8080/",
          "height": 180
        },
        "id": "VhXR3TSWZLUu",
        "outputId": "1df85195-e148-4c28-afdc-347e11aede3e"
      },
      "execution_count": 107,
      "outputs": [
        {
          "output_type": "stream",
          "name": "stdout",
          "text": [
            "Fitting 5 folds for each of 24 candidates, totalling 120 fits\n"
          ]
        },
        {
          "output_type": "execute_result",
          "data": {
            "text/plain": [
              "GridSearchCV(cv=5,\n",
              "             estimator=Pipeline(steps=[('tfidfvectorizer',\n",
              "                                        TfidfVectorizer(max_features=500)),\n",
              "                                       ('maxabsscaler', MaxAbsScaler()),\n",
              "                                       ('multinomialnb', MultinomialNB())]),\n",
              "             n_jobs=-1,\n",
              "             param_grid=[{'multinomialnb__alpha': [0.5, 1, 10, 100],\n",
              "                          'tfidfvectorizer__analyzer': ['word', 'char'],\n",
              "                          'tfidfvectorizer__ngram_range': [(1, 1), (1, 2),\n",
              "                                                           (2, 4)]}],\n",
              "             scoring='f1_macro', verbose=1)"
            ],
            "text/html": [
              "<style>#sk-1fa144df-404c-465a-9ddf-e46be29d208a {color: black;background-color: white;}#sk-1fa144df-404c-465a-9ddf-e46be29d208a pre{padding: 0;}#sk-1fa144df-404c-465a-9ddf-e46be29d208a div.sk-toggleable {background-color: white;}#sk-1fa144df-404c-465a-9ddf-e46be29d208a label.sk-toggleable__label {cursor: pointer;display: block;width: 100%;margin-bottom: 0;padding: 0.3em;box-sizing: border-box;text-align: center;}#sk-1fa144df-404c-465a-9ddf-e46be29d208a label.sk-toggleable__label-arrow:before {content: \"▸\";float: left;margin-right: 0.25em;color: #696969;}#sk-1fa144df-404c-465a-9ddf-e46be29d208a label.sk-toggleable__label-arrow:hover:before {color: black;}#sk-1fa144df-404c-465a-9ddf-e46be29d208a div.sk-estimator:hover label.sk-toggleable__label-arrow:before {color: black;}#sk-1fa144df-404c-465a-9ddf-e46be29d208a div.sk-toggleable__content {max-height: 0;max-width: 0;overflow: hidden;text-align: left;background-color: #f0f8ff;}#sk-1fa144df-404c-465a-9ddf-e46be29d208a div.sk-toggleable__content pre {margin: 0.2em;color: black;border-radius: 0.25em;background-color: #f0f8ff;}#sk-1fa144df-404c-465a-9ddf-e46be29d208a input.sk-toggleable__control:checked~div.sk-toggleable__content {max-height: 200px;max-width: 100%;overflow: auto;}#sk-1fa144df-404c-465a-9ddf-e46be29d208a input.sk-toggleable__control:checked~label.sk-toggleable__label-arrow:before {content: \"▾\";}#sk-1fa144df-404c-465a-9ddf-e46be29d208a div.sk-estimator input.sk-toggleable__control:checked~label.sk-toggleable__label {background-color: #d4ebff;}#sk-1fa144df-404c-465a-9ddf-e46be29d208a div.sk-label input.sk-toggleable__control:checked~label.sk-toggleable__label {background-color: #d4ebff;}#sk-1fa144df-404c-465a-9ddf-e46be29d208a input.sk-hidden--visually {border: 0;clip: rect(1px 1px 1px 1px);clip: rect(1px, 1px, 1px, 1px);height: 1px;margin: -1px;overflow: hidden;padding: 0;position: absolute;width: 1px;}#sk-1fa144df-404c-465a-9ddf-e46be29d208a div.sk-estimator {font-family: monospace;background-color: #f0f8ff;border: 1px dotted black;border-radius: 0.25em;box-sizing: border-box;margin-bottom: 0.5em;}#sk-1fa144df-404c-465a-9ddf-e46be29d208a div.sk-estimator:hover {background-color: #d4ebff;}#sk-1fa144df-404c-465a-9ddf-e46be29d208a div.sk-parallel-item::after {content: \"\";width: 100%;border-bottom: 1px solid gray;flex-grow: 1;}#sk-1fa144df-404c-465a-9ddf-e46be29d208a div.sk-label:hover label.sk-toggleable__label {background-color: #d4ebff;}#sk-1fa144df-404c-465a-9ddf-e46be29d208a div.sk-serial::before {content: \"\";position: absolute;border-left: 1px solid gray;box-sizing: border-box;top: 2em;bottom: 0;left: 50%;}#sk-1fa144df-404c-465a-9ddf-e46be29d208a div.sk-serial {display: flex;flex-direction: column;align-items: center;background-color: white;padding-right: 0.2em;padding-left: 0.2em;}#sk-1fa144df-404c-465a-9ddf-e46be29d208a div.sk-item {z-index: 1;}#sk-1fa144df-404c-465a-9ddf-e46be29d208a div.sk-parallel {display: flex;align-items: stretch;justify-content: center;background-color: white;}#sk-1fa144df-404c-465a-9ddf-e46be29d208a div.sk-parallel::before {content: \"\";position: absolute;border-left: 1px solid gray;box-sizing: border-box;top: 2em;bottom: 0;left: 50%;}#sk-1fa144df-404c-465a-9ddf-e46be29d208a div.sk-parallel-item {display: flex;flex-direction: column;position: relative;background-color: white;}#sk-1fa144df-404c-465a-9ddf-e46be29d208a div.sk-parallel-item:first-child::after {align-self: flex-end;width: 50%;}#sk-1fa144df-404c-465a-9ddf-e46be29d208a div.sk-parallel-item:last-child::after {align-self: flex-start;width: 50%;}#sk-1fa144df-404c-465a-9ddf-e46be29d208a div.sk-parallel-item:only-child::after {width: 0;}#sk-1fa144df-404c-465a-9ddf-e46be29d208a div.sk-dashed-wrapped {border: 1px dashed gray;margin: 0 0.4em 0.5em 0.4em;box-sizing: border-box;padding-bottom: 0.4em;background-color: white;position: relative;}#sk-1fa144df-404c-465a-9ddf-e46be29d208a div.sk-label label {font-family: monospace;font-weight: bold;background-color: white;display: inline-block;line-height: 1.2em;}#sk-1fa144df-404c-465a-9ddf-e46be29d208a div.sk-label-container {position: relative;z-index: 2;text-align: center;}#sk-1fa144df-404c-465a-9ddf-e46be29d208a div.sk-container {/* jupyter's `normalize.less` sets `[hidden] { display: none; }` but bootstrap.min.css set `[hidden] { display: none !important; }` so we also need the `!important` here to be able to override the default hidden behavior on the sphinx rendered scikit-learn.org. See: https://github.com/scikit-learn/scikit-learn/issues/21755 */display: inline-block !important;position: relative;}#sk-1fa144df-404c-465a-9ddf-e46be29d208a div.sk-text-repr-fallback {display: none;}</style><div id=\"sk-1fa144df-404c-465a-9ddf-e46be29d208a\" class=\"sk-top-container\"><div class=\"sk-text-repr-fallback\"><pre>GridSearchCV(cv=5,\n",
              "             estimator=Pipeline(steps=[(&#x27;tfidfvectorizer&#x27;,\n",
              "                                        TfidfVectorizer(max_features=500)),\n",
              "                                       (&#x27;maxabsscaler&#x27;, MaxAbsScaler()),\n",
              "                                       (&#x27;multinomialnb&#x27;, MultinomialNB())]),\n",
              "             n_jobs=-1,\n",
              "             param_grid=[{&#x27;multinomialnb__alpha&#x27;: [0.5, 1, 10, 100],\n",
              "                          &#x27;tfidfvectorizer__analyzer&#x27;: [&#x27;word&#x27;, &#x27;char&#x27;],\n",
              "                          &#x27;tfidfvectorizer__ngram_range&#x27;: [(1, 1), (1, 2),\n",
              "                                                           (2, 4)]}],\n",
              "             scoring=&#x27;f1_macro&#x27;, verbose=1)</pre><b>Please rerun this cell to show the HTML repr or trust the notebook.</b></div><div class=\"sk-container\" hidden><div class=\"sk-item sk-dashed-wrapped\"><div class=\"sk-label-container\"><div class=\"sk-label sk-toggleable\"><input class=\"sk-toggleable__control sk-hidden--visually\" id=\"8be62293-b690-4be1-a298-0dd535503727\" type=\"checkbox\" ><label for=\"8be62293-b690-4be1-a298-0dd535503727\" class=\"sk-toggleable__label sk-toggleable__label-arrow\">GridSearchCV</label><div class=\"sk-toggleable__content\"><pre>GridSearchCV(cv=5,\n",
              "             estimator=Pipeline(steps=[(&#x27;tfidfvectorizer&#x27;,\n",
              "                                        TfidfVectorizer(max_features=500)),\n",
              "                                       (&#x27;maxabsscaler&#x27;, MaxAbsScaler()),\n",
              "                                       (&#x27;multinomialnb&#x27;, MultinomialNB())]),\n",
              "             n_jobs=-1,\n",
              "             param_grid=[{&#x27;multinomialnb__alpha&#x27;: [0.5, 1, 10, 100],\n",
              "                          &#x27;tfidfvectorizer__analyzer&#x27;: [&#x27;word&#x27;, &#x27;char&#x27;],\n",
              "                          &#x27;tfidfvectorizer__ngram_range&#x27;: [(1, 1), (1, 2),\n",
              "                                                           (2, 4)]}],\n",
              "             scoring=&#x27;f1_macro&#x27;, verbose=1)</pre></div></div></div><div class=\"sk-parallel\"><div class=\"sk-parallel-item\"><div class=\"sk-item\"><div class=\"sk-serial\"><div class=\"sk-item\"><div class=\"sk-serial\"><div class=\"sk-item\"><div class=\"sk-estimator sk-toggleable\"><input class=\"sk-toggleable__control sk-hidden--visually\" id=\"14391c66-b8ec-4aba-8f58-c4f5e38d9a44\" type=\"checkbox\" ><label for=\"14391c66-b8ec-4aba-8f58-c4f5e38d9a44\" class=\"sk-toggleable__label sk-toggleable__label-arrow\">TfidfVectorizer</label><div class=\"sk-toggleable__content\"><pre>TfidfVectorizer(max_features=500)</pre></div></div></div><div class=\"sk-item\"><div class=\"sk-estimator sk-toggleable\"><input class=\"sk-toggleable__control sk-hidden--visually\" id=\"e7638b5e-8c31-4c5d-b683-64683198a9aa\" type=\"checkbox\" ><label for=\"e7638b5e-8c31-4c5d-b683-64683198a9aa\" class=\"sk-toggleable__label sk-toggleable__label-arrow\">MaxAbsScaler</label><div class=\"sk-toggleable__content\"><pre>MaxAbsScaler()</pre></div></div></div><div class=\"sk-item\"><div class=\"sk-estimator sk-toggleable\"><input class=\"sk-toggleable__control sk-hidden--visually\" id=\"ea53ecc7-1fde-4629-b111-49a987060d3b\" type=\"checkbox\" ><label for=\"ea53ecc7-1fde-4629-b111-49a987060d3b\" class=\"sk-toggleable__label sk-toggleable__label-arrow\">MultinomialNB</label><div class=\"sk-toggleable__content\"><pre>MultinomialNB()</pre></div></div></div></div></div></div></div></div></div></div></div></div>"
            ]
          },
          "metadata": {},
          "execution_count": 107
        }
      ]
    },
    {
      "cell_type": "code",
      "source": [
        "nb_gs.best_score_"
      ],
      "metadata": {
        "colab": {
          "base_uri": "https://localhost:8080/"
        },
        "id": "RRWI1iyA7E0B",
        "outputId": "070b8ba1-24d0-44f6-c1c9-37ee5c1a3472"
      },
      "execution_count": 108,
      "outputs": [
        {
          "output_type": "execute_result",
          "data": {
            "text/plain": [
              "0.8627568113795305"
            ]
          },
          "metadata": {},
          "execution_count": 108
        }
      ]
    },
    {
      "cell_type": "code",
      "source": [
        "nb_gs.best_params_"
      ],
      "metadata": {
        "colab": {
          "base_uri": "https://localhost:8080/"
        },
        "id": "jyMdfGbV7MFw",
        "outputId": "17245133-2f33-4d3a-cec2-5cff80b6c1e0"
      },
      "execution_count": 109,
      "outputs": [
        {
          "output_type": "execute_result",
          "data": {
            "text/plain": [
              "{'multinomialnb__alpha': 0.5,\n",
              " 'tfidfvectorizer__analyzer': 'word',\n",
              " 'tfidfvectorizer__ngram_range': (1, 2)}"
            ]
          },
          "metadata": {},
          "execution_count": 109
        }
      ]
    },
    {
      "cell_type": "code",
      "source": [
        "y_test_pred_nb = nb_gs.predict(X_test)\n",
        "print(classification_report(y_test, y_test_pred_nb))\n",
        "ConfusionMatrixDisplay.from_predictions(y_test, y_test_pred_nb);"
      ],
      "metadata": {
        "colab": {
          "base_uri": "https://localhost:8080/",
          "height": 444
        },
        "id": "IhKMmM9z7Sdi",
        "outputId": "e404b69c-8b1b-4bce-d9fd-d69b08ff5fc6"
      },
      "execution_count": 110,
      "outputs": [
        {
          "output_type": "stream",
          "name": "stdout",
          "text": [
            "              precision    recall  f1-score   support\n",
            "\n",
            "           0       0.85      0.85      0.85        68\n",
            "           1       0.90      0.90      0.90        97\n",
            "\n",
            "    accuracy                           0.88       165\n",
            "   macro avg       0.87      0.87      0.87       165\n",
            "weighted avg       0.88      0.88      0.88       165\n",
            "\n"
          ]
        },
        {
          "output_type": "display_data",
          "data": {
            "text/plain": [
              "<Figure size 432x288 with 2 Axes>"
            ],
            "image/png": "[encoded data removed]"
          },
          "metadata": {
            "needs_background": "light"
          }
        }
      ]
    },
    {
      "cell_type": "code",
      "source": [
        "x_error = X_test[y_test_pred_nb != y_test]\n",
        "y_error = y_test[y_test_pred_nb != y_test]\n",
        "p_error = y_test_pred_knn[y_test_pred_nb != y_test]\n",
        "\n",
        "x_correct = X_test[y_test_pred_nb == y_test]\n",
        "y_correct = y_test[y_test_pred_nb == y_test]\n",
        "p_correct = y_test_pred_knn[y_test_pred_nb == y_test]"
      ],
      "metadata": {
        "id": "in-_ll917Dot"
      },
      "execution_count": 111,
      "outputs": []
    },
    {
      "cell_type": "code",
      "source": [
        "errordata_nb = {\"Text\": x_error, \"True label\": y_error, \"Predicted label\": p_error}\n",
        "error_nb = pd.DataFrame(data=errordata_nb)\n",
        "\n",
        "error_nb[\"Text length\"] = error_nb[\"Text\"].apply(lambda x: len(x.split(\" \")))\n",
        "average_length = error_nb[\"Text length\"].mean()\n",
        "print(min(error_nb[\"Text length\"]))\n",
        "print(average_length)\n",
        "error_nb"
      ],
      "metadata": {
        "colab": {
          "base_uri": "https://localhost:8080/",
          "height": 713
        },
        "id": "NAf_xCvK-y7q",
        "outputId": "f8dbe4fc-e28e-4ad3-cf36-8f706d4a3e6d"
      },
      "execution_count": 112,
      "outputs": [
        {
          "output_type": "stream",
          "name": "stdout",
          "text": [
            "33\n",
            "165.35\n"
          ]
        },
        {
          "output_type": "execute_result",
          "data": {
            "text/plain": [
              "                                                   Text  True label  \\\n",
              "722   Karnak Mander-Azur is the second son of an Inh...           1   \n",
              "1034  While performing experiments to contact altern...           0   \n",
              "633   Robert Bruce Banner was born on Thursday, Dece...           1   \n",
              "833   Madame Xanadu was once the sorceress Nimue Inw...           0   \n",
              "291   After discovering he had developed superpowers...           1   \n",
              "597   Izaya, at this point known as Izaya the Inheri...           0   \n",
              "769   Algrim the Strong was one of the Dark Elves of...           1   \n",
              "904   Morse went to the S.H.I.E.L.D. Academy of Oper...           1   \n",
              "1228  Starro refers both to a starfish-shaped alien ...           0   \n",
              "1224  Koriand'r (born November 11, 1991), anglicised...           0   \n",
              "268   Captain Planet is formed by combining the powe...           1   \n",
              "146   Garfield \"Gar\" Logan (born 2003) is a shape-sh...           0   \n",
              "1367  Arnold Wesker was a mild-mannered, timid and m...           0   \n",
              "174   A teenage girl with an interest in magick, Lor...           0   \n",
              "1106  Subject: 89P13 was recovered by alien scientis...           1   \n",
              "621   Helena was once in love and happily engaged to...           0   \n",
              "29    A.I.M. agents are both soldiers and scientists...           1   \n",
              "298   Dr. Nathaniel \"Nate\" Heywood is a historian, s...           0   \n",
              "1062  In the 1800s, Johnny Bart was an orphan who wa...           1   \n",
              "1294  Sergei Krylov is one of the most influential R...           1   \n",
              "\n",
              "      Predicted label  Text length  \n",
              "722                 1          112  \n",
              "1034                1           78  \n",
              "633                 1          309  \n",
              "833                 1          115  \n",
              "291                 0           88  \n",
              "597                 1          524  \n",
              "769                 1           35  \n",
              "904                 1          140  \n",
              "1228                1           65  \n",
              "1224                0           82  \n",
              "268                 0          680  \n",
              "146                 0           80  \n",
              "1367                1          172  \n",
              "174                 0          175  \n",
              "1106                0           90  \n",
              "621                 1          132  \n",
              "29                  1           33  \n",
              "298                 0          275  \n",
              "1062                1           66  \n",
              "1294                1           56  "
            ],
            "text/html": [
              "\n",
              "  <div id=\"df-1b91dd24-fc9f-48ff-a963-a52f00b10234\">\n",
              "    <div class=\"colab-df-container\">\n",
              "      <div>\n",
              "<style scoped>\n",
              "    .dataframe tbody tr th:only-of-type {\n",
              "        vertical-align: middle;\n",
              "    }\n",
              "\n",
              "    .dataframe tbody tr th {\n",
              "        vertical-align: top;\n",
              "    }\n",
              "\n",
              "    .dataframe thead th {\n",
              "        text-align: right;\n",
              "    }\n",
              "</style>\n",
              "<table border=\"1\" class=\"dataframe\">\n",
              "  <thead>\n",
              "    <tr style=\"text-align: right;\">\n",
              "      <th></th>\n",
              "      <th>Text</th>\n",
              "      <th>True label</th>\n",
              "      <th>Predicted label</th>\n",
              "      <th>Text length</th>\n",
              "    </tr>\n",
              "  </thead>\n",
              "  <tbody>\n",
              "    <tr>\n",
              "      <th>722</th>\n",
              "      <td>Karnak Mander-Azur is the second son of an Inh...</td>\n",
              "      <td>1</td>\n",
              "      <td>1</td>\n",
              "      <td>112</td>\n",
              "    </tr>\n",
              "    <tr>\n",
              "      <th>1034</th>\n",
              "      <td>While performing experiments to contact altern...</td>\n",
              "      <td>0</td>\n",
              "      <td>1</td>\n",
              "      <td>78</td>\n",
              "    </tr>\n",
              "    <tr>\n",
              "      <th>633</th>\n",
              "      <td>Robert Bruce Banner was born on Thursday, Dece...</td>\n",
              "      <td>1</td>\n",
              "      <td>1</td>\n",
              "      <td>309</td>\n",
              "    </tr>\n",
              "    <tr>\n",
              "      <th>833</th>\n",
              "      <td>Madame Xanadu was once the sorceress Nimue Inw...</td>\n",
              "      <td>0</td>\n",
              "      <td>1</td>\n",
              "      <td>115</td>\n",
              "    </tr>\n",
              "    <tr>\n",
              "      <th>291</th>\n",
              "      <td>After discovering he had developed superpowers...</td>\n",
              "      <td>1</td>\n",
              "      <td>0</td>\n",
              "      <td>88</td>\n",
              "    </tr>\n",
              "    <tr>\n",
              "      <th>597</th>\n",
              "      <td>Izaya, at this point known as Izaya the Inheri...</td>\n",
              "      <td>0</td>\n",
              "      <td>1</td>\n",
              "      <td>524</td>\n",
              "    </tr>\n",
              "    <tr>\n",
              "      <th>769</th>\n",
              "      <td>Algrim the Strong was one of the Dark Elves of...</td>\n",
              "      <td>1</td>\n",
              "      <td>1</td>\n",
              "      <td>35</td>\n",
              "    </tr>\n",
              "    <tr>\n",
              "      <th>904</th>\n",
              "      <td>Morse went to the S.H.I.E.L.D. Academy of Oper...</td>\n",
              "      <td>1</td>\n",
              "      <td>1</td>\n",
              "      <td>140</td>\n",
              "    </tr>\n",
              "    <tr>\n",
              "      <th>1228</th>\n",
              "      <td>Starro refers both to a starfish-shaped alien ...</td>\n",
              "      <td>0</td>\n",
              "      <td>1</td>\n",
              "      <td>65</td>\n",
              "    </tr>\n",
              "    <tr>\n",
              "      <th>1224</th>\n",
              "      <td>Koriand'r (born November 11, 1991), anglicised...</td>\n",
              "      <td>0</td>\n",
              "      <td>0</td>\n",
              "      <td>82</td>\n",
              "    </tr>\n",
              "    <tr>\n",
              "      <th>268</th>\n",
              "      <td>Captain Planet is formed by combining the powe...</td>\n",
              "      <td>1</td>\n",
              "      <td>0</td>\n",
              "      <td>680</td>\n",
              "    </tr>\n",
              "    <tr>\n",
              "      <th>146</th>\n",
              "      <td>Garfield \"Gar\" Logan (born 2003) is a shape-sh...</td>\n",
              "      <td>0</td>\n",
              "      <td>0</td>\n",
              "      <td>80</td>\n",
              "    </tr>\n",
              "    <tr>\n",
              "      <th>1367</th>\n",
              "      <td>Arnold Wesker was a mild-mannered, timid and m...</td>\n",
              "      <td>0</td>\n",
              "      <td>1</td>\n",
              "      <td>172</td>\n",
              "    </tr>\n",
              "    <tr>\n",
              "      <th>174</th>\n",
              "      <td>A teenage girl with an interest in magick, Lor...</td>\n",
              "      <td>0</td>\n",
              "      <td>0</td>\n",
              "      <td>175</td>\n",
              "    </tr>\n",
              "    <tr>\n",
              "      <th>1106</th>\n",
              "      <td>Subject: 89P13 was recovered by alien scientis...</td>\n",
              "      <td>1</td>\n",
              "      <td>0</td>\n",
              "      <td>90</td>\n",
              "    </tr>\n",
              "    <tr>\n",
              "      <th>621</th>\n",
              "      <td>Helena was once in love and happily engaged to...</td>\n",
              "      <td>0</td>\n",
              "      <td>1</td>\n",
              "      <td>132</td>\n",
              "    </tr>\n",
              "    <tr>\n",
              "      <th>29</th>\n",
              "      <td>A.I.M. agents are both soldiers and scientists...</td>\n",
              "      <td>1</td>\n",
              "      <td>1</td>\n",
              "      <td>33</td>\n",
              "    </tr>\n",
              "    <tr>\n",
              "      <th>298</th>\n",
              "      <td>Dr. Nathaniel \"Nate\" Heywood is a historian, s...</td>\n",
              "      <td>0</td>\n",
              "      <td>0</td>\n",
              "      <td>275</td>\n",
              "    </tr>\n",
              "    <tr>\n",
              "      <th>1062</th>\n",
              "      <td>In the 1800s, Johnny Bart was an orphan who wa...</td>\n",
              "      <td>1</td>\n",
              "      <td>1</td>\n",
              "      <td>66</td>\n",
              "    </tr>\n",
              "    <tr>\n",
              "      <th>1294</th>\n",
              "      <td>Sergei Krylov is one of the most influential R...</td>\n",
              "      <td>1</td>\n",
              "      <td>1</td>\n",
              "      <td>56</td>\n",
              "    </tr>\n",
              "  </tbody>\n",
              "</table>\n",
              "</div>\n",
              "      <button class=\"colab-df-convert\" onclick=\"convertToInteractive('df-1b91dd24-fc9f-48ff-a963-a52f00b10234')\"\n",
              "              title=\"Convert this dataframe to an interactive table.\"\n",
              "              style=\"display:none;\">\n",
              "        \n",
              "  <svg xmlns=\"http://www.w3.org/2000/svg\" height=\"24px\"viewBox=\"0 0 24 24\"\n",
              "       width=\"24px\">\n",
              "    <path d=\"M0 0h24v24H0V0z\" fill=\"none\"/>\n",
              "    <path d=\"M18.56 5.44l.94 2.06.94-2.06 2.06-.94-2.06-.94-.94-2.06-.94 2.06-2.06.94zm-11 1L8.5 8.5l.94-2.06 2.06-.94-2.06-.94L8.5 2.5l-.94 2.06-2.06.94zm10 10l.94 2.06.94-2.06 2.06-.94-2.06-.94-.94-2.06-.94 2.06-2.06.94z\"/><path d=\"M17.41 7.96l-1.37-1.37c-.4-.4-.92-.59-1.43-.59-.52 0-1.04.2-1.43.59L10.3 9.45l-7.72 7.72c-.78.78-.78 2.05 0 2.83L4 21.41c.39.39.9.59 1.41.59.51 0 1.02-.2 1.41-.59l7.78-7.78 2.81-2.81c.8-.78.8-2.07 0-2.86zM5.41 20L4 18.59l7.72-7.72 1.47 1.35L5.41 20z\"/>\n",
              "  </svg>\n",
              "      </button>\n",
              "      \n",
              "  <style>\n",
              "    .colab-df-container {\n",
              "      display:flex;\n",
              "      flex-wrap:wrap;\n",
              "      gap: 12px;\n",
              "    }\n",
              "\n",
              "    .colab-df-convert {\n",
              "      background-color: #E8F0FE;\n",
              "      border: none;\n",
              "      border-radius: 50%;\n",
              "      cursor: pointer;\n",
              "      display: none;\n",
              "      fill: #1967D2;\n",
              "      height: 32px;\n",
              "      padding: 0 0 0 0;\n",
              "      width: 32px;\n",
              "    }\n",
              "\n",
              "    .colab-df-convert:hover {\n",
              "      background-color: #E2EBFA;\n",
              "      box-shadow: 0px 1px 2px rgba(60, 64, 67, 0.3), 0px 1px 3px 1px rgba(60, 64, 67, 0.15);\n",
              "      fill: #174EA6;\n",
              "    }\n",
              "\n",
              "    [theme=dark] .colab-df-convert {\n",
              "      background-color: #3B4455;\n",
              "      fill: #D2E3FC;\n",
              "    }\n",
              "\n",
              "    [theme=dark] .colab-df-convert:hover {\n",
              "      background-color: #434B5C;\n",
              "      box-shadow: 0px 1px 3px 1px rgba(0, 0, 0, 0.15);\n",
              "      filter: drop-shadow(0px 1px 2px rgba(0, 0, 0, 0.3));\n",
              "      fill: #FFFFFF;\n",
              "    }\n",
              "  </style>\n",
              "\n",
              "      <script>\n",
              "        const buttonEl =\n",
              "          document.querySelector('#df-1b91dd24-fc9f-48ff-a963-a52f00b10234 button.colab-df-convert');\n",
              "        buttonEl.style.display =\n",
              "          google.colab.kernel.accessAllowed ? 'block' : 'none';\n",
              "\n",
              "        async function convertToInteractive(key) {\n",
              "          const element = document.querySelector('#df-1b91dd24-fc9f-48ff-a963-a52f00b10234');\n",
              "          const dataTable =\n",
              "            await google.colab.kernel.invokeFunction('convertToInteractive',\n",
              "                                                     [key], {});\n",
              "          if (!dataTable) return;\n",
              "\n",
              "          const docLinkHtml = 'Like what you see? Visit the ' +\n",
              "            '<a target=\"_blank\" href=https://colab.research.google.com/notebooks/data_table.ipynb>data table notebook</a>'\n",
              "            + ' to learn more about interactive tables.';\n",
              "          element.innerHTML = '';\n",
              "          dataTable['output_type'] = 'display_data';\n",
              "          await google.colab.output.renderOutput(dataTable, element);\n",
              "          const docLink = document.createElement('div');\n",
              "          docLink.innerHTML = docLinkHtml;\n",
              "          element.appendChild(docLink);\n",
              "        }\n",
              "      </script>\n",
              "    </div>\n",
              "  </div>\n",
              "  "
            ]
          },
          "metadata": {},
          "execution_count": 112
        }
      ]
    },
    {
      "cell_type": "code",
      "source": [
        "correctdata_nb = {\"Text\": x_correct, \"True label\": y_correct, \"Predicted label\": p_correct}\n",
        "correct_nb = pd.DataFrame(data=correctdata_svm)\n",
        "\n",
        "correct_nb[\"Text length\"] = correct_svm[\"Text\"].apply(lambda x: len(x.split(\" \")))\n",
        "average_length = correct_nb[\"Text length\"].mean()\n",
        "print(min(correct_nb[\"Text length\"]))\n",
        "print(average_length)\n",
        "correct_nb"
      ],
      "metadata": {
        "colab": {
          "base_uri": "https://localhost:8080/",
          "height": 461
        },
        "id": "MjqSuV4V-7Ov",
        "outputId": "4c60d2d9-d9df-4245-c25c-c55004975593"
      },
      "execution_count": 113,
      "outputs": [
        {
          "output_type": "stream",
          "name": "stdout",
          "text": [
            "1\n",
            "662.8550724637681\n"
          ]
        },
        {
          "output_type": "execute_result",
          "data": {
            "text/plain": [
              "                                                   Text  True label  \\\n",
              "330   Crystalia \"Crystal\" Amaquelin is the princess ...           1   \n",
              "1340  Gotham City District Attorney Harvey Dent was ...           0   \n",
              "722   Karnak Mander-Azur is the second son of an Inh...           1   \n",
              "725   Tatsu Yamashiro is Katana, a Japanese sword-wi...           0   \n",
              "340     Scott Summers was the first of two sons born...           1   \n",
              "...                                                 ...         ...   \n",
              "1050  The ever-optimistic Maxwell Jordan was among t...           1   \n",
              "1210  Richard Parker was a scientist who was working...           1   \n",
              "144   Helena Wayne is the daughter of Bruce Wayne an...           0   \n",
              "462    Sam Wilson grew up in a tough Harlem neighbor...           1   \n",
              "534   Grant Douglas Ward grew up in Massachusetts an...           1   \n",
              "\n",
              "      Predicted label  Text length  \n",
              "330                 1          110  \n",
              "1340                0          904  \n",
              "722                 1          112  \n",
              "725                 0           51  \n",
              "340                 1         1224  \n",
              "...               ...          ...  \n",
              "1050                1          194  \n",
              "1210                1          242  \n",
              "144                 0           77  \n",
              "462                 1          595  \n",
              "534                 1           87  \n",
              "\n",
              "[138 rows x 4 columns]"
            ],
            "text/html": [
              "\n",
              "  <div id=\"df-f3a24cda-c18e-488d-ae8a-9eef9802baeb\">\n",
              "    <div class=\"colab-df-container\">\n",
              "      <div>\n",
              "<style scoped>\n",
              "    .dataframe tbody tr th:only-of-type {\n",
              "        vertical-align: middle;\n",
              "    }\n",
              "\n",
              "    .dataframe tbody tr th {\n",
              "        vertical-align: top;\n",
              "    }\n",
              "\n",
              "    .dataframe thead th {\n",
              "        text-align: right;\n",
              "    }\n",
              "</style>\n",
              "<table border=\"1\" class=\"dataframe\">\n",
              "  <thead>\n",
              "    <tr style=\"text-align: right;\">\n",
              "      <th></th>\n",
              "      <th>Text</th>\n",
              "      <th>True label</th>\n",
              "      <th>Predicted label</th>\n",
              "      <th>Text length</th>\n",
              "    </tr>\n",
              "  </thead>\n",
              "  <tbody>\n",
              "    <tr>\n",
              "      <th>330</th>\n",
              "      <td>Crystalia \"Crystal\" Amaquelin is the princess ...</td>\n",
              "      <td>1</td>\n",
              "      <td>1</td>\n",
              "      <td>110</td>\n",
              "    </tr>\n",
              "    <tr>\n",
              "      <th>1340</th>\n",
              "      <td>Gotham City District Attorney Harvey Dent was ...</td>\n",
              "      <td>0</td>\n",
              "      <td>0</td>\n",
              "      <td>904</td>\n",
              "    </tr>\n",
              "    <tr>\n",
              "      <th>722</th>\n",
              "      <td>Karnak Mander-Azur is the second son of an Inh...</td>\n",
              "      <td>1</td>\n",
              "      <td>1</td>\n",
              "      <td>112</td>\n",
              "    </tr>\n",
              "    <tr>\n",
              "      <th>725</th>\n",
              "      <td>Tatsu Yamashiro is Katana, a Japanese sword-wi...</td>\n",
              "      <td>0</td>\n",
              "      <td>0</td>\n",
              "      <td>51</td>\n",
              "    </tr>\n",
              "    <tr>\n",
              "      <th>340</th>\n",
              "      <td>Scott Summers was the first of two sons born...</td>\n",
              "      <td>1</td>\n",
              "      <td>1</td>\n",
              "      <td>1224</td>\n",
              "    </tr>\n",
              "    <tr>\n",
              "      <th>...</th>\n",
              "      <td>...</td>\n",
              "      <td>...</td>\n",
              "      <td>...</td>\n",
              "      <td>...</td>\n",
              "    </tr>\n",
              "    <tr>\n",
              "      <th>1050</th>\n",
              "      <td>The ever-optimistic Maxwell Jordan was among t...</td>\n",
              "      <td>1</td>\n",
              "      <td>1</td>\n",
              "      <td>194</td>\n",
              "    </tr>\n",
              "    <tr>\n",
              "      <th>1210</th>\n",
              "      <td>Richard Parker was a scientist who was working...</td>\n",
              "      <td>1</td>\n",
              "      <td>1</td>\n",
              "      <td>242</td>\n",
              "    </tr>\n",
              "    <tr>\n",
              "      <th>144</th>\n",
              "      <td>Helena Wayne is the daughter of Bruce Wayne an...</td>\n",
              "      <td>0</td>\n",
              "      <td>0</td>\n",
              "      <td>77</td>\n",
              "    </tr>\n",
              "    <tr>\n",
              "      <th>462</th>\n",
              "      <td>Sam Wilson grew up in a tough Harlem neighbor...</td>\n",
              "      <td>1</td>\n",
              "      <td>1</td>\n",
              "      <td>595</td>\n",
              "    </tr>\n",
              "    <tr>\n",
              "      <th>534</th>\n",
              "      <td>Grant Douglas Ward grew up in Massachusetts an...</td>\n",
              "      <td>1</td>\n",
              "      <td>1</td>\n",
              "      <td>87</td>\n",
              "    </tr>\n",
              "  </tbody>\n",
              "</table>\n",
              "<p>138 rows × 4 columns</p>\n",
              "</div>\n",
              "      <button class=\"colab-df-convert\" onclick=\"convertToInteractive('df-f3a24cda-c18e-488d-ae8a-9eef9802baeb')\"\n",
              "              title=\"Convert this dataframe to an interactive table.\"\n",
              "              style=\"display:none;\">\n",
              "        \n",
              "  <svg xmlns=\"http://www.w3.org/2000/svg\" height=\"24px\"viewBox=\"0 0 24 24\"\n",
              "       width=\"24px\">\n",
              "    <path d=\"M0 0h24v24H0V0z\" fill=\"none\"/>\n",
              "    <path d=\"M18.56 5.44l.94 2.06.94-2.06 2.06-.94-2.06-.94-.94-2.06-.94 2.06-2.06.94zm-11 1L8.5 8.5l.94-2.06 2.06-.94-2.06-.94L8.5 2.5l-.94 2.06-2.06.94zm10 10l.94 2.06.94-2.06 2.06-.94-2.06-.94-.94-2.06-.94 2.06-2.06.94z\"/><path d=\"M17.41 7.96l-1.37-1.37c-.4-.4-.92-.59-1.43-.59-.52 0-1.04.2-1.43.59L10.3 9.45l-7.72 7.72c-.78.78-.78 2.05 0 2.83L4 21.41c.39.39.9.59 1.41.59.51 0 1.02-.2 1.41-.59l7.78-7.78 2.81-2.81c.8-.78.8-2.07 0-2.86zM5.41 20L4 18.59l7.72-7.72 1.47 1.35L5.41 20z\"/>\n",
              "  </svg>\n",
              "      </button>\n",
              "      \n",
              "  <style>\n",
              "    .colab-df-container {\n",
              "      display:flex;\n",
              "      flex-wrap:wrap;\n",
              "      gap: 12px;\n",
              "    }\n",
              "\n",
              "    .colab-df-convert {\n",
              "      background-color: #E8F0FE;\n",
              "      border: none;\n",
              "      border-radius: 50%;\n",
              "      cursor: pointer;\n",
              "      display: none;\n",
              "      fill: #1967D2;\n",
              "      height: 32px;\n",
              "      padding: 0 0 0 0;\n",
              "      width: 32px;\n",
              "    }\n",
              "\n",
              "    .colab-df-convert:hover {\n",
              "      background-color: #E2EBFA;\n",
              "      box-shadow: 0px 1px 2px rgba(60, 64, 67, 0.3), 0px 1px 3px 1px rgba(60, 64, 67, 0.15);\n",
              "      fill: #174EA6;\n",
              "    }\n",
              "\n",
              "    [theme=dark] .colab-df-convert {\n",
              "      background-color: #3B4455;\n",
              "      fill: #D2E3FC;\n",
              "    }\n",
              "\n",
              "    [theme=dark] .colab-df-convert:hover {\n",
              "      background-color: #434B5C;\n",
              "      box-shadow: 0px 1px 3px 1px rgba(0, 0, 0, 0.15);\n",
              "      filter: drop-shadow(0px 1px 2px rgba(0, 0, 0, 0.3));\n",
              "      fill: #FFFFFF;\n",
              "    }\n",
              "  </style>\n",
              "\n",
              "      <script>\n",
              "        const buttonEl =\n",
              "          document.querySelector('#df-f3a24cda-c18e-488d-ae8a-9eef9802baeb button.colab-df-convert');\n",
              "        buttonEl.style.display =\n",
              "          google.colab.kernel.accessAllowed ? 'block' : 'none';\n",
              "\n",
              "        async function convertToInteractive(key) {\n",
              "          const element = document.querySelector('#df-f3a24cda-c18e-488d-ae8a-9eef9802baeb');\n",
              "          const dataTable =\n",
              "            await google.colab.kernel.invokeFunction('convertToInteractive',\n",
              "                                                     [key], {});\n",
              "          if (!dataTable) return;\n",
              "\n",
              "          const docLinkHtml = 'Like what you see? Visit the ' +\n",
              "            '<a target=\"_blank\" href=https://colab.research.google.com/notebooks/data_table.ipynb>data table notebook</a>'\n",
              "            + ' to learn more about interactive tables.';\n",
              "          element.innerHTML = '';\n",
              "          dataTable['output_type'] = 'display_data';\n",
              "          await google.colab.output.renderOutput(dataTable, element);\n",
              "          const docLink = document.createElement('div');\n",
              "          docLink.innerHTML = docLinkHtml;\n",
              "          element.appendChild(docLink);\n",
              "        }\n",
              "      </script>\n",
              "    </div>\n",
              "  </div>\n",
              "  "
            ]
          },
          "metadata": {},
          "execution_count": 113
        }
      ]
    },
    {
      "cell_type": "markdown",
      "source": [
        "## 3 Training: Neural networks"
      ],
      "metadata": {
        "id": "cCeGFPoq2Bo0"
      }
    },
    {
      "cell_type": "code",
      "source": [
        "X_train = c_vect.fit_transform(X_train)\n",
        "X_dev = c_vect.fit_transform(X_dev)\n",
        "X_test = c_vect.fit_transform(X_test)"
      ],
      "metadata": {
        "id": "hhJqvtzRVo-C"
      },
      "execution_count": 146,
      "outputs": []
    },
    {
      "cell_type": "code",
      "source": [
        "X_train = X_train.toarray()\n",
        "X_dev = X_dev.toarray()\n",
        "X_test = X_test.toarray()"
      ],
      "metadata": {
        "id": "jJ3xw0kR9WEt"
      },
      "execution_count": 147,
      "outputs": []
    },
    {
      "cell_type": "code",
      "source": [
        "# The labels are still Pandas.Series objects, which will conflict with PyTorch if not converted to arrays.\n",
        "y_train = np.array(y_train)\n",
        "y_dev = np.array(y_dev)\n",
        "y_test = np.array(y_test)"
      ],
      "metadata": {
        "id": "GQsD5sBlFNl6"
      },
      "execution_count": 157,
      "outputs": []
    },
    {
      "cell_type": "code",
      "source": [
        "type(y_train)"
      ],
      "metadata": {
        "colab": {
          "base_uri": "https://localhost:8080/"
        },
        "id": "wEE0cukuFZuQ",
        "outputId": "4eb25665-c3cb-4bb1-de3c-0718b260fcee"
      },
      "execution_count": 158,
      "outputs": [
        {
          "output_type": "execute_result",
          "data": {
            "text/plain": [
              "numpy.ndarray"
            ]
          },
          "metadata": {},
          "execution_count": 158
        }
      ]
    },
    {
      "cell_type": "code",
      "source": [
        "max_len = 500\n",
        "\n",
        "# make sure that the sequences have the same size.\n",
        "train_data = [sent[:max_len] for sent in X_train]\n",
        "dev_data = [sent[:max_len] for sent in X_dev]\n",
        "test_data = [sent[:max_len] for sent in X_test]\n",
        "\n",
        "# To make the sequence the same size, we pad shorter sequences (shorter than 500) with zeroes.\n",
        "x_train = pad_sequence([torch.tensor(sent) for sent in train_data], batch_first=True)\n",
        "x_dev = pad_sequence([torch.tensor(sent) for sent in dev_data], batch_first=True)\n",
        "x_test = pad_sequence([torch.tensor(sent) for sent in test_data], batch_first=True)"
      ],
      "metadata": {
        "id": "YhGtlqCMlE5r"
      },
      "execution_count": 148,
      "outputs": []
    },
    {
      "cell_type": "code",
      "source": [
        "x_train[0][-110:]"
      ],
      "metadata": {
        "colab": {
          "base_uri": "https://localhost:8080/"
        },
        "id": "sJ9S6lKtBSjZ",
        "outputId": "994b4e9c-4a72-4658-8dea-f5e23091e0f3"
      },
      "execution_count": 149,
      "outputs": [
        {
          "output_type": "execute_result",
          "data": {
            "text/plain": [
              "tensor([0, 0, 1, 0, 0, 0, 0, 0, 0, 0, 0, 0, 0, 0, 0, 0, 0, 0, 0, 0, 0, 0, 0, 0,\n",
              "        0, 0, 0, 2, 5, 0, 0, 0, 0, 0, 0, 0, 0, 0, 0, 0, 0, 0, 0, 0, 0, 0, 2, 0,\n",
              "        0, 0, 0, 0, 0, 1, 0, 0, 0, 0, 0, 0, 0, 0, 0, 0, 0, 0, 0, 0, 0, 0, 0, 0,\n",
              "        0, 0, 0, 0, 0, 1, 0, 0, 0, 0, 0, 0, 0, 1, 0, 0, 0, 0, 0, 0, 0, 0, 0, 0,\n",
              "        0, 0, 0, 1, 0, 0, 0, 0, 0, 0, 0, 0, 0, 0])"
            ]
          },
          "metadata": {},
          "execution_count": 149
        }
      ]
    },
    {
      "cell_type": "code",
      "source": [
        "max([len(x) for x in x_test])"
      ],
      "metadata": {
        "colab": {
          "base_uri": "https://localhost:8080/"
        },
        "id": "HtTCLfWFBW6c",
        "outputId": "310995e2-3fcb-4654-aa40-8153f7aa204b"
      },
      "execution_count": 150,
      "outputs": [
        {
          "output_type": "execute_result",
          "data": {
            "text/plain": [
              "500"
            ]
          },
          "metadata": {},
          "execution_count": 150
        }
      ]
    },
    {
      "cell_type": "code",
      "source": [
        "min([len(x) for x in x_test])"
      ],
      "metadata": {
        "colab": {
          "base_uri": "https://localhost:8080/"
        },
        "id": "eUxaXPD4Fu7a",
        "outputId": "901047ec-5039-49b6-deae-2b47ff9828c7"
      },
      "execution_count": 165,
      "outputs": [
        {
          "output_type": "execute_result",
          "data": {
            "text/plain": [
              "500"
            ]
          },
          "metadata": {},
          "execution_count": 165
        }
      ]
    },
    {
      "cell_type": "code",
      "source": [
        "x_train.shape, x_dev.shape, x_test.shape, y_train.shape, y_dev.shape, y_test.shape"
      ],
      "metadata": {
        "colab": {
          "base_uri": "https://localhost:8080/"
        },
        "id": "-EG4Mx5nDHLc",
        "outputId": "03788985-bdb2-4844-c0ab-3f3080355fb3"
      },
      "execution_count": 159,
      "outputs": [
        {
          "output_type": "execute_result",
          "data": {
            "text/plain": [
              "(torch.Size([667, 500]),\n",
              " torch.Size([165, 500]),\n",
              " torch.Size([165, 500]),\n",
              " (667,),\n",
              " (165,),\n",
              " (165,))"
            ]
          },
          "metadata": {},
          "execution_count": 159
        }
      ]
    },
    {
      "cell_type": "code",
      "source": [
        "def np2iter(x, y, shuffle=True):\n",
        "\n",
        "  y = torch.tensor(y, dtype=torch.long)\n",
        "\n",
        "\n",
        "  ds = torch.utils.data.TensorDataset(x, y)\n",
        "  return torch.utils.data.DataLoader(ds, batch_size=64, shuffle=shuffle)\n",
        "\n",
        "train_iter = np2iter(x_train, y_train, shuffle=True)\n",
        "dev_iter =  np2iter(x_dev, y_dev, shuffle=False)\n",
        "test_iter =  np2iter(x_test, y_test, shuffle=False)"
      ],
      "metadata": {
        "id": "2B1kUbc7BgnX"
      },
      "execution_count": 160,
      "outputs": []
    },
    {
      "cell_type": "code",
      "source": [
        "num_words = 5000"
      ],
      "metadata": {
        "id": "bf5fSCq6ucwj"
      },
      "execution_count": 180,
      "outputs": []
    },
    {
      "cell_type": "code",
      "source": [
        "def val_acc(y_pred, y_test):\n",
        "  y_pred = np.argmax(y_pred, axis=1)\n",
        "  return accuracy_score(y_pred=y_pred, y_true=y_test)"
      ],
      "metadata": {
        "id": "0aV1NGq2voCy"
      },
      "execution_count": 162,
      "outputs": []
    },
    {
      "cell_type": "markdown",
      "source": [
        "###3.2 LSTM"
      ],
      "metadata": {
        "id": "EEz56J5FKgI-"
      }
    },
    {
      "cell_type": "code",
      "source": [
        "class LSTM(nn.Module):\n",
        "  def __init__(self, emb_dim=50):\n",
        "    super(LSTM, self).__init__()\n",
        "\n",
        "    self.embeddings = nn.Embedding(num_embeddings=num_words, \n",
        "                                   embedding_dim=emb_dim, padding_idx=0)\n",
        "    \n",
        "    self.rnn = nn.LSTM(input_size=emb_dim, hidden_size=emb_dim, num_layers=1,\n",
        "                      batch_first=True) # first dimension in (x, _) will be the batch size.\n",
        "    # you can also call this layer self.lstm if it's more easier, but at the end it's still an RNN.\n",
        "    \n",
        "    self.linear_layer = nn.Linear(in_features=emb_dim, out_features=2)\n",
        "    \n",
        "\n",
        "  def forward(self, x):\n",
        "    # our sequences have different lengths; let's calculate it\n",
        "    len_x = (x !=0).sum(1)\n",
        "\n",
        "\n",
        "    x = self.embeddings(x)\n",
        "\n",
        "    # this function packs our padded sequences and later\n",
        "    # makes sure that our RNNs do not read the padded part\n",
        "    x = pack_padded_sequence(x, len_x.cpu(), batch_first=True, \n",
        "                             enforce_sorted=False)\n",
        "    #  we extract the last hidden state\n",
        "    _, (x, _) = self.rnn(x)\n",
        "    x = x[0]\n",
        "    return self.linear_layer(x)"
      ],
      "metadata": {
        "id": "alrl3TgJtnaj"
      },
      "execution_count": 163,
      "outputs": []
    },
    {
      "cell_type": "code",
      "source": [
        "lstm = LSTM(emb_dim=300)\n",
        "\n",
        "lstm = lstm.cuda()\n",
        "\n",
        "history = utils.train(model=lstm,\n",
        "              loss=nn.CrossEntropyLoss(),\n",
        "              val_metrics={\"cls\": nn.CrossEntropyLoss(), \"acc\": val_acc}, \n",
        "              optimizer=torch.optim.Adam(lstm.parameters(), lr=0.0001),\n",
        "              train_ds=train_iter, \n",
        "              dev_ds=dev_iter,\n",
        "              num_epochs=20,\n",
        "              early_stopper=utils.EarlyStopper(metric_name=\"cls\", patience=3))"
      ],
      "metadata": {
        "colab": {
          "base_uri": "https://localhost:8080/",
          "height": 415
        },
        "id": "Ev5wVax3unj6",
        "outputId": "4c5da835-a9a9-42d2-a23f-a7c721b2219d"
      },
      "execution_count": 164,
      "outputs": [
        {
          "output_type": "stream",
          "name": "stdout",
          "text": [
            "=========\n"
          ]
        },
        {
          "output_type": "error",
          "ename": "RuntimeError",
          "evalue": "ignored",
          "traceback": [
            "\u001b[0;31m---------------------------------------------------------------------------\u001b[0m",
            "\u001b[0;31mRuntimeError\u001b[0m                              Traceback (most recent call last)",
            "\u001b[0;32m<ipython-input-164-04766968f476>\u001b[0m in \u001b[0;36m<module>\u001b[0;34m\u001b[0m\n\u001b[1;32m      3\u001b[0m \u001b[0mlstm\u001b[0m \u001b[0;34m=\u001b[0m \u001b[0mlstm\u001b[0m\u001b[0;34m.\u001b[0m\u001b[0mcuda\u001b[0m\u001b[0;34m(\u001b[0m\u001b[0;34m)\u001b[0m\u001b[0;34m\u001b[0m\u001b[0;34m\u001b[0m\u001b[0m\n\u001b[1;32m      4\u001b[0m \u001b[0;34m\u001b[0m\u001b[0m\n\u001b[0;32m----> 5\u001b[0;31m history = utils.train(model=lstm,\n\u001b[0m\u001b[1;32m      6\u001b[0m               \u001b[0mloss\u001b[0m\u001b[0;34m=\u001b[0m\u001b[0mnn\u001b[0m\u001b[0;34m.\u001b[0m\u001b[0mCrossEntropyLoss\u001b[0m\u001b[0;34m(\u001b[0m\u001b[0;34m)\u001b[0m\u001b[0;34m,\u001b[0m\u001b[0;34m\u001b[0m\u001b[0;34m\u001b[0m\u001b[0m\n\u001b[1;32m      7\u001b[0m               \u001b[0mval_metrics\u001b[0m\u001b[0;34m=\u001b[0m\u001b[0;34m{\u001b[0m\u001b[0;34m\"cls\"\u001b[0m\u001b[0;34m:\u001b[0m \u001b[0mnn\u001b[0m\u001b[0;34m.\u001b[0m\u001b[0mCrossEntropyLoss\u001b[0m\u001b[0;34m(\u001b[0m\u001b[0;34m)\u001b[0m\u001b[0;34m,\u001b[0m \u001b[0;34m\"acc\"\u001b[0m\u001b[0;34m:\u001b[0m \u001b[0mval_acc\u001b[0m\u001b[0;34m}\u001b[0m\u001b[0;34m,\u001b[0m\u001b[0;34m\u001b[0m\u001b[0;34m\u001b[0m\u001b[0m\n",
            "\u001b[0;32m/content/gdrive/MyDrive/University/machine_learning/exam/utils.ipynb\u001b[0m in \u001b[0;36mtrain\u001b[0;34m(model, loss, val_metrics, optimizer, train_ds, dev_ds, num_epochs, early_stopper, l2_regularization)\u001b[0m\n",
            "\u001b[0;32m/content/gdrive/MyDrive/University/machine_learning/exam/utils.ipynb\u001b[0m in \u001b[0;36mtrain_one_epoch\u001b[0;34m(model, loss, optimizer, ds, l2_regularization)\u001b[0m\n",
            "\u001b[0;32m/usr/local/lib/python3.8/dist-packages/torch/nn/modules/module.py\u001b[0m in \u001b[0;36m_call_impl\u001b[0;34m(self, *input, **kwargs)\u001b[0m\n\u001b[1;32m   1192\u001b[0m         if not (self._backward_hooks or self._forward_hooks or self._forward_pre_hooks or _global_backward_hooks\n\u001b[1;32m   1193\u001b[0m                 or _global_forward_hooks or _global_forward_pre_hooks):\n\u001b[0;32m-> 1194\u001b[0;31m             \u001b[0;32mreturn\u001b[0m \u001b[0mforward_call\u001b[0m\u001b[0;34m(\u001b[0m\u001b[0;34m*\u001b[0m\u001b[0minput\u001b[0m\u001b[0;34m,\u001b[0m \u001b[0;34m**\u001b[0m\u001b[0mkwargs\u001b[0m\u001b[0;34m)\u001b[0m\u001b[0;34m\u001b[0m\u001b[0;34m\u001b[0m\u001b[0m\n\u001b[0m\u001b[1;32m   1195\u001b[0m         \u001b[0;31m# Do not call functions when jit is used\u001b[0m\u001b[0;34m\u001b[0m\u001b[0;34m\u001b[0m\u001b[0;34m\u001b[0m\u001b[0m\n\u001b[1;32m   1196\u001b[0m         \u001b[0mfull_backward_hooks\u001b[0m\u001b[0;34m,\u001b[0m \u001b[0mnon_full_backward_hooks\u001b[0m \u001b[0;34m=\u001b[0m \u001b[0;34m[\u001b[0m\u001b[0;34m]\u001b[0m\u001b[0;34m,\u001b[0m \u001b[0;34m[\u001b[0m\u001b[0;34m]\u001b[0m\u001b[0;34m\u001b[0m\u001b[0;34m\u001b[0m\u001b[0m\n",
            "\u001b[0;32m<ipython-input-163-807aa77a900c>\u001b[0m in \u001b[0;36mforward\u001b[0;34m(self, x)\u001b[0m\n\u001b[1;32m     22\u001b[0m     \u001b[0;31m# this function packs our padded sequences and later\u001b[0m\u001b[0;34m\u001b[0m\u001b[0;34m\u001b[0m\u001b[0;34m\u001b[0m\u001b[0m\n\u001b[1;32m     23\u001b[0m     \u001b[0;31m#  makes sure that our RNNs do not read the padded part\u001b[0m\u001b[0;34m\u001b[0m\u001b[0;34m\u001b[0m\u001b[0;34m\u001b[0m\u001b[0m\n\u001b[0;32m---> 24\u001b[0;31m     x = pack_padded_sequence(x, len_x.cpu(), batch_first=True, \n\u001b[0m\u001b[1;32m     25\u001b[0m                              enforce_sorted=False)\n\u001b[1;32m     26\u001b[0m     \u001b[0;31m#  we extract the last hidden state\u001b[0m\u001b[0;34m\u001b[0m\u001b[0;34m\u001b[0m\u001b[0;34m\u001b[0m\u001b[0m\n",
            "\u001b[0;32m/usr/local/lib/python3.8/dist-packages/torch/nn/utils/rnn.py\u001b[0m in \u001b[0;36mpack_padded_sequence\u001b[0;34m(input, lengths, batch_first, enforce_sorted)\u001b[0m\n\u001b[1;32m    260\u001b[0m \u001b[0;34m\u001b[0m\u001b[0m\n\u001b[1;32m    261\u001b[0m     \u001b[0mdata\u001b[0m\u001b[0;34m,\u001b[0m \u001b[0mbatch_sizes\u001b[0m \u001b[0;34m=\u001b[0m\u001b[0;31m \u001b[0m\u001b[0;31m\\\u001b[0m\u001b[0;34m\u001b[0m\u001b[0;34m\u001b[0m\u001b[0m\n\u001b[0;32m--> 262\u001b[0;31m         \u001b[0m_VF\u001b[0m\u001b[0;34m.\u001b[0m\u001b[0m_pack_padded_sequence\u001b[0m\u001b[0;34m(\u001b[0m\u001b[0minput\u001b[0m\u001b[0;34m,\u001b[0m \u001b[0mlengths\u001b[0m\u001b[0;34m,\u001b[0m \u001b[0mbatch_first\u001b[0m\u001b[0;34m)\u001b[0m\u001b[0;34m\u001b[0m\u001b[0;34m\u001b[0m\u001b[0m\n\u001b[0m\u001b[1;32m    263\u001b[0m     \u001b[0;32mreturn\u001b[0m \u001b[0m_packed_sequence_init\u001b[0m\u001b[0;34m(\u001b[0m\u001b[0mdata\u001b[0m\u001b[0;34m,\u001b[0m \u001b[0mbatch_sizes\u001b[0m\u001b[0;34m,\u001b[0m \u001b[0msorted_indices\u001b[0m\u001b[0;34m,\u001b[0m \u001b[0;32mNone\u001b[0m\u001b[0;34m)\u001b[0m\u001b[0;34m\u001b[0m\u001b[0;34m\u001b[0m\u001b[0m\n\u001b[1;32m    264\u001b[0m \u001b[0;34m\u001b[0m\u001b[0m\n",
            "\u001b[0;31mRuntimeError\u001b[0m: Length of all samples has to be greater than 0, but found an element in 'lengths' that is <= 0"
          ]
        }
      ]
    },
    {
      "cell_type": "markdown",
      "source": [
        "I don't quite understand where the error comes from, but I will test a simple model to see if the error lies within the preprocessing or the model definition itself."
      ],
      "metadata": {
        "id": "rIGu0gkgO94a"
      }
    },
    {
      "cell_type": "markdown",
      "source": [
        "###3.3 Flat model"
      ],
      "metadata": {
        "id": "3EnI_NwCIQKf"
      }
    },
    {
      "cell_type": "code",
      "source": [
        "class FlatModel(nn.Module):\n",
        "  def __init__(self, emb_dim=50):\n",
        "    super(FlatModel, self).__init__()\n",
        "\n",
        "    self.embeddings = nn.Embedding(num_embeddings=num_words, \n",
        "                                   embedding_dim=emb_dim, padding_idx=0)\n",
        "    \n",
        "    self.layer = nn.Sequential(nn.Linear(in_features=emb_dim*max_len, out_features=emb_dim), \n",
        "                                nn.ReLU(),\n",
        "                                nn.Linear(in_features=emb_dim, out_features=2))\n",
        "    \n",
        "\n",
        "  def forward(self, x):\n",
        "    x = self.embeddings(x)\n",
        "    x = torch.flatten(x, start_dim=1, end_dim=- 1)\n",
        "    return self.layer(x)"
      ],
      "metadata": {
        "id": "41mH8C7jGbyq"
      },
      "execution_count": 166,
      "outputs": []
    },
    {
      "cell_type": "code",
      "source": [
        "flat_model = FlatModel(emb_dim=300) #300 embeddings\n",
        "# we have sequences of 500 items. So we get a matrix of 300x500. This is stacked in one vector and is fed to the model.\n",
        "flat_model = flat_model.cuda()\n",
        "\n",
        "history = utils.train(model=flat_model,\n",
        "              loss=nn.CrossEntropyLoss(),\n",
        "              val_metrics={\"cls\": nn.CrossEntropyLoss(), \"acc\": val_acc}, \n",
        "              optimizer=torch.optim.Adam(flat_model.parameters(), lr=0.0001),\n",
        "              train_ds=train_iter, \n",
        "              dev_ds=dev_iter,\n",
        "              num_epochs=20,\n",
        "              early_stopper=utils.EarlyStopper(metric_name=\"cls\", patience=3))"
      ],
      "metadata": {
        "colab": {
          "base_uri": "https://localhost:8080/"
        },
        "id": "L0afV9JKGc9u",
        "outputId": "e35e37bc-11e8-4c28-b472-b347a95b398c"
      },
      "execution_count": 167,
      "outputs": [
        {
          "output_type": "stream",
          "name": "stdout",
          "text": [
            "=========\n",
            "epoch 1 train loss: 0.7154 val_cls: 0.7120 val_acc: 0.5576\n",
            "tensor(0.7120) None\n",
            "=========\n",
            "epoch 2 train loss: 0.2598 val_cls: 0.8376 val_acc: 0.6000\n",
            "tensor(0.8376) tensor(0.7120)\n",
            "=========\n",
            "epoch 3 train loss: 0.1097 val_cls: 0.9964 val_acc: 0.6303\n",
            "tensor(0.9964) tensor(0.7120)\n",
            "=========\n",
            "epoch 4 train loss: 0.0576 val_cls: 1.0896 val_acc: 0.6364\n",
            "tensor(1.0896) tensor(0.7120)\n",
            "EARLY STOPPING \n"
          ]
        }
      ]
    },
    {
      "cell_type": "code",
      "source": [
        "plt.plot(history['val_cls'],  label='val')\n",
        "plt.plot(history['train_loss'], label='train')\n",
        "plt.title('Loss')\n",
        "plt.xlabel('Epochs')\n",
        "plt.ylabel('Loss')\n",
        "plt.legend()\n",
        "plt.show()"
      ],
      "metadata": {
        "colab": {
          "base_uri": "https://localhost:8080/",
          "height": 295
        },
        "id": "K7qcNCH7GsIN",
        "outputId": "ac074990-ec34-4d04-aac7-be1b53683004"
      },
      "execution_count": 168,
      "outputs": [
        {
          "output_type": "display_data",
          "data": {
            "text/plain": [
              "<Figure size 432x288 with 1 Axes>"
            ],
            "image/png": "[encoded data removed]"
          },
          "metadata": {
            "needs_background": "light"
          }
        }
      ]
    },
    {
      "cell_type": "code",
      "source": [
        "pred = utils.test(flat_model, test_iter)\n",
        "pred = np.argmax(pred, axis=1)\n",
        "\n",
        "print(accuracy_score(y_pred=pred, y_true=y_test))"
      ],
      "metadata": {
        "colab": {
          "base_uri": "https://localhost:8080/"
        },
        "id": "gw57ykriGxV5",
        "outputId": "b3220731-1155-4e24-fce1-8a6c654d6ef3"
      },
      "execution_count": 170,
      "outputs": [
        {
          "output_type": "stream",
          "name": "stdout",
          "text": [
            "0.5454545454545454\n"
          ]
        }
      ]
    },
    {
      "cell_type": "markdown",
      "source": [],
      "metadata": {
        "id": "nxCvRMUrPO3m"
      }
    },
    {
      "cell_type": "code",
      "source": [
        "sum(p.numel() for p in flat_model.parameters() if p.requires_grad)"
      ],
      "metadata": {
        "colab": {
          "base_uri": "https://localhost:8080/"
        },
        "id": "EZNi60AbG6-s",
        "outputId": "8c4ff09f-e830-4b76-d04f-91fad245853c"
      },
      "execution_count": 171,
      "outputs": [
        {
          "output_type": "execute_result",
          "data": {
            "text/plain": [
              "51000902"
            ]
          },
          "metadata": {},
          "execution_count": 171
        }
      ]
    },
    {
      "cell_type": "markdown",
      "source": [
        "This works! Too bad it's a hopelessly overfitted garbage model."
      ],
      "metadata": {
        "id": "Ua6vHRmvPJB3"
      }
    }
  ],
  "metadata": {
    "kernelspec": {
      "display_name": "Python 3.9.7",
      "language": "python",
      "name": "python3"
    },
    "language_info": {
      "codemirror_mode": {
        "name": "ipython",
        "version": 3
      },
      "file_extension": ".py",
      "mimetype": "text/x-python",
      "name": "python",
      "nbconvert_exporter": "python",
      "pygments_lexer": "ipython3",
      "version": "3.9.7"
    },
    "orig_nbformat": 4,
    "vscode": {
      "interpreter": {
        "hash": "38cca0c38332a56087b24af0bc80247f4fced29cb4f7f437d91dc159adec9c4e"
      }
    },
    "colab": {
      "provenance": []
    },
    "accelerator": "GPU",
    "gpuClass": "standard"
  },
  "nbformat": 4,
  "nbformat_minor": 0
}